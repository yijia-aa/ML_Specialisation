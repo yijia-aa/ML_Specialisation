{
 "cells": [
  {
   "cell_type": "markdown",
   "metadata": {},
   "source": [
    "# Analyze Product Sentiment"
   ]
  },
  {
   "cell_type": "code",
   "execution_count": 1,
   "metadata": {},
   "outputs": [],
   "source": [
    "import turicreate"
   ]
  },
  {
   "cell_type": "markdown",
   "metadata": {},
   "source": [
    "# Read product review data"
   ]
  },
  {
   "cell_type": "code",
   "execution_count": 2,
   "metadata": {},
   "outputs": [],
   "source": [
    "products = turicreate.SFrame('amazon_baby.sframe')"
   ]
  },
  {
   "cell_type": "markdown",
   "metadata": {},
   "source": [
    "# Explore data"
   ]
  },
  {
   "cell_type": "code",
   "execution_count": 3,
   "metadata": {},
   "outputs": [
    {
     "data": {
      "text/html": [
       "<div style=\"max-height:1000px;max-width:1500px;overflow:auto;\"><table frame=\"box\" rules=\"cols\">\n",
       "    <tr>\n",
       "        <th style=\"padding-left: 1em; padding-right: 1em; text-align: center\">name</th>\n",
       "        <th style=\"padding-left: 1em; padding-right: 1em; text-align: center\">review</th>\n",
       "        <th style=\"padding-left: 1em; padding-right: 1em; text-align: center\">rating</th>\n",
       "    </tr>\n",
       "    <tr>\n",
       "        <td style=\"padding-left: 1em; padding-right: 1em; text-align: center; vertical-align: top\">Planetwise Flannel Wipes</td>\n",
       "        <td style=\"padding-left: 1em; padding-right: 1em; text-align: center; vertical-align: top\">These flannel wipes are<br>OK, but in my opinion ...</td>\n",
       "        <td style=\"padding-left: 1em; padding-right: 1em; text-align: center; vertical-align: top\">3.0</td>\n",
       "    </tr>\n",
       "    <tr>\n",
       "        <td style=\"padding-left: 1em; padding-right: 1em; text-align: center; vertical-align: top\">Planetwise Wipe Pouch</td>\n",
       "        <td style=\"padding-left: 1em; padding-right: 1em; text-align: center; vertical-align: top\">it came early and was not<br>disappointed. i love ...</td>\n",
       "        <td style=\"padding-left: 1em; padding-right: 1em; text-align: center; vertical-align: top\">5.0</td>\n",
       "    </tr>\n",
       "    <tr>\n",
       "        <td style=\"padding-left: 1em; padding-right: 1em; text-align: center; vertical-align: top\">Annas Dream Full Quilt<br>with 2 Shams ...</td>\n",
       "        <td style=\"padding-left: 1em; padding-right: 1em; text-align: center; vertical-align: top\">Very soft and comfortable<br>and warmer than it ...</td>\n",
       "        <td style=\"padding-left: 1em; padding-right: 1em; text-align: center; vertical-align: top\">5.0</td>\n",
       "    </tr>\n",
       "    <tr>\n",
       "        <td style=\"padding-left: 1em; padding-right: 1em; text-align: center; vertical-align: top\">Stop Pacifier Sucking<br>without tears with ...</td>\n",
       "        <td style=\"padding-left: 1em; padding-right: 1em; text-align: center; vertical-align: top\">This is a product well<br>worth the purchase.  I ...</td>\n",
       "        <td style=\"padding-left: 1em; padding-right: 1em; text-align: center; vertical-align: top\">5.0</td>\n",
       "    </tr>\n",
       "    <tr>\n",
       "        <td style=\"padding-left: 1em; padding-right: 1em; text-align: center; vertical-align: top\">Stop Pacifier Sucking<br>without tears with ...</td>\n",
       "        <td style=\"padding-left: 1em; padding-right: 1em; text-align: center; vertical-align: top\">All of my kids have cried<br>non-stop when I tried to ...</td>\n",
       "        <td style=\"padding-left: 1em; padding-right: 1em; text-align: center; vertical-align: top\">5.0</td>\n",
       "    </tr>\n",
       "    <tr>\n",
       "        <td style=\"padding-left: 1em; padding-right: 1em; text-align: center; vertical-align: top\">Stop Pacifier Sucking<br>without tears with ...</td>\n",
       "        <td style=\"padding-left: 1em; padding-right: 1em; text-align: center; vertical-align: top\">When the Binky Fairy came<br>to our house, we didn&#x27;t ...</td>\n",
       "        <td style=\"padding-left: 1em; padding-right: 1em; text-align: center; vertical-align: top\">5.0</td>\n",
       "    </tr>\n",
       "    <tr>\n",
       "        <td style=\"padding-left: 1em; padding-right: 1em; text-align: center; vertical-align: top\">A Tale of Baby&#x27;s Days<br>with Peter Rabbit ...</td>\n",
       "        <td style=\"padding-left: 1em; padding-right: 1em; text-align: center; vertical-align: top\">Lovely book, it&#x27;s bound<br>tightly so you may no ...</td>\n",
       "        <td style=\"padding-left: 1em; padding-right: 1em; text-align: center; vertical-align: top\">4.0</td>\n",
       "    </tr>\n",
       "    <tr>\n",
       "        <td style=\"padding-left: 1em; padding-right: 1em; text-align: center; vertical-align: top\">Baby Tracker&amp;reg; - Daily<br>Childcare Journal, ...</td>\n",
       "        <td style=\"padding-left: 1em; padding-right: 1em; text-align: center; vertical-align: top\">Perfect for new parents.<br>We were able to keep ...</td>\n",
       "        <td style=\"padding-left: 1em; padding-right: 1em; text-align: center; vertical-align: top\">5.0</td>\n",
       "    </tr>\n",
       "    <tr>\n",
       "        <td style=\"padding-left: 1em; padding-right: 1em; text-align: center; vertical-align: top\">Baby Tracker&amp;reg; - Daily<br>Childcare Journal, ...</td>\n",
       "        <td style=\"padding-left: 1em; padding-right: 1em; text-align: center; vertical-align: top\">A friend of mine pinned<br>this product on Pinte ...</td>\n",
       "        <td style=\"padding-left: 1em; padding-right: 1em; text-align: center; vertical-align: top\">5.0</td>\n",
       "    </tr>\n",
       "    <tr>\n",
       "        <td style=\"padding-left: 1em; padding-right: 1em; text-align: center; vertical-align: top\">Baby Tracker&amp;reg; - Daily<br>Childcare Journal, ...</td>\n",
       "        <td style=\"padding-left: 1em; padding-right: 1em; text-align: center; vertical-align: top\">This has been an easy way<br>for my nanny to record ...</td>\n",
       "        <td style=\"padding-left: 1em; padding-right: 1em; text-align: center; vertical-align: top\">4.0</td>\n",
       "    </tr>\n",
       "</table>\n",
       "[183531 rows x 3 columns]<br/>Note: Only the head of the SFrame is printed.<br/>You can use print_rows(num_rows=m, num_columns=n) to print more rows and columns.\n",
       "</div>"
      ],
      "text/plain": [
       "Columns:\n",
       "\tname\tstr\n",
       "\treview\tstr\n",
       "\trating\tfloat\n",
       "\n",
       "Rows: 183531\n",
       "\n",
       "Data:\n",
       "+-------------------------------+-------------------------------+--------+\n",
       "|              name             |             review            | rating |\n",
       "+-------------------------------+-------------------------------+--------+\n",
       "|    Planetwise Flannel Wipes   | These flannel wipes are OK... |  3.0   |\n",
       "|     Planetwise Wipe Pouch     | it came early and was not ... |  5.0   |\n",
       "| Annas Dream Full Quilt wit... | Very soft and comfortable ... |  5.0   |\n",
       "| Stop Pacifier Sucking with... | This is a product well wor... |  5.0   |\n",
       "| Stop Pacifier Sucking with... | All of my kids have cried ... |  5.0   |\n",
       "| Stop Pacifier Sucking with... | When the Binky Fairy came ... |  5.0   |\n",
       "| A Tale of Baby's Days with... | Lovely book, it's bound ti... |  4.0   |\n",
       "| Baby Tracker&reg; - Daily ... | Perfect for new parents. W... |  5.0   |\n",
       "| Baby Tracker&reg; - Daily ... | A friend of mine pinned th... |  5.0   |\n",
       "| Baby Tracker&reg; - Daily ... | This has been an easy way ... |  4.0   |\n",
       "+-------------------------------+-------------------------------+--------+\n",
       "[183531 rows x 3 columns]\n",
       "Note: Only the head of the SFrame is printed.\n",
       "You can use print_rows(num_rows=m, num_columns=n) to print more rows and columns."
      ]
     },
     "execution_count": 3,
     "metadata": {},
     "output_type": "execute_result"
    }
   ],
   "source": [
    "products"
   ]
  },
  {
   "cell_type": "code",
   "execution_count": 4,
   "metadata": {},
   "outputs": [
    {
     "data": {
      "text/html": [
       "<div style=\"max-height:1000px;max-width:1500px;overflow:auto;\"><table frame=\"box\" rules=\"cols\">\n",
       "    <tr>\n",
       "        <th style=\"padding-left: 1em; padding-right: 1em; text-align: center\">name</th>\n",
       "        <th style=\"padding-left: 1em; padding-right: 1em; text-align: center\">count</th>\n",
       "    </tr>\n",
       "    <tr>\n",
       "        <td style=\"padding-left: 1em; padding-right: 1em; text-align: center; vertical-align: top\">Vulli Sophie the Giraffe<br>Teether ...</td>\n",
       "        <td style=\"padding-left: 1em; padding-right: 1em; text-align: center; vertical-align: top\">785</td>\n",
       "    </tr>\n",
       "    <tr>\n",
       "        <td style=\"padding-left: 1em; padding-right: 1em; text-align: center; vertical-align: top\">Simple Wishes Hands-Free<br>Breastpump Bra, Pink, ...</td>\n",
       "        <td style=\"padding-left: 1em; padding-right: 1em; text-align: center; vertical-align: top\">562</td>\n",
       "    </tr>\n",
       "    <tr>\n",
       "        <td style=\"padding-left: 1em; padding-right: 1em; text-align: center; vertical-align: top\">Infant Optics DXR-5 2.4<br>GHz Digital Video Baby ...</td>\n",
       "        <td style=\"padding-left: 1em; padding-right: 1em; text-align: center; vertical-align: top\">561</td>\n",
       "    </tr>\n",
       "    <tr>\n",
       "        <td style=\"padding-left: 1em; padding-right: 1em; text-align: center; vertical-align: top\">Baby Einstein Take Along<br>Tunes ...</td>\n",
       "        <td style=\"padding-left: 1em; padding-right: 1em; text-align: center; vertical-align: top\">547</td>\n",
       "    </tr>\n",
       "    <tr>\n",
       "        <td style=\"padding-left: 1em; padding-right: 1em; text-align: center; vertical-align: top\">Cloud b Twilight<br>Constellation Night ...</td>\n",
       "        <td style=\"padding-left: 1em; padding-right: 1em; text-align: center; vertical-align: top\">520</td>\n",
       "    </tr>\n",
       "    <tr>\n",
       "        <td style=\"padding-left: 1em; padding-right: 1em; text-align: center; vertical-align: top\">Fisher-Price Booster<br>Seat, Blue/Green/Gray ...</td>\n",
       "        <td style=\"padding-left: 1em; padding-right: 1em; text-align: center; vertical-align: top\">489</td>\n",
       "    </tr>\n",
       "    <tr>\n",
       "        <td style=\"padding-left: 1em; padding-right: 1em; text-align: center; vertical-align: top\">Fisher-Price Rainforest<br>Jumperoo ...</td>\n",
       "        <td style=\"padding-left: 1em; padding-right: 1em; text-align: center; vertical-align: top\">450</td>\n",
       "    </tr>\n",
       "    <tr>\n",
       "        <td style=\"padding-left: 1em; padding-right: 1em; text-align: center; vertical-align: top\">Graco Nautilus 3-in-1 Car<br>Seat, Matrix ...</td>\n",
       "        <td style=\"padding-left: 1em; padding-right: 1em; text-align: center; vertical-align: top\">419</td>\n",
       "    </tr>\n",
       "    <tr>\n",
       "        <td style=\"padding-left: 1em; padding-right: 1em; text-align: center; vertical-align: top\">Leachco Snoogle Total<br>Body Pillow ...</td>\n",
       "        <td style=\"padding-left: 1em; padding-right: 1em; text-align: center; vertical-align: top\">388</td>\n",
       "    </tr>\n",
       "    <tr>\n",
       "        <td style=\"padding-left: 1em; padding-right: 1em; text-align: center; vertical-align: top\">Regalo Easy Step Walk<br>Thru Gate, White ...</td>\n",
       "        <td style=\"padding-left: 1em; padding-right: 1em; text-align: center; vertical-align: top\">374</td>\n",
       "    </tr>\n",
       "</table>\n",
       "[32419 rows x 2 columns]<br/>Note: Only the head of the SFrame is printed.<br/>You can use print_rows(num_rows=m, num_columns=n) to print more rows and columns.\n",
       "</div>"
      ],
      "text/plain": [
       "Columns:\n",
       "\tname\tstr\n",
       "\tcount\tint\n",
       "\n",
       "Rows: 32419\n",
       "\n",
       "Data:\n",
       "+--------------------------------+-------+\n",
       "|              name              | count |\n",
       "+--------------------------------+-------+\n",
       "| Vulli Sophie the Giraffe T...  |  785  |\n",
       "| Simple Wishes Hands-Free B...  |  562  |\n",
       "| Infant Optics DXR-5 2.4 GH...  |  561  |\n",
       "| Baby Einstein Take Along Tunes |  547  |\n",
       "| Cloud b Twilight Constella...  |  520  |\n",
       "| Fisher-Price Booster Seat,...  |  489  |\n",
       "| Fisher-Price Rainforest Ju...  |  450  |\n",
       "| Graco Nautilus 3-in-1 Car ...  |  419  |\n",
       "| Leachco Snoogle Total Body...  |  388  |\n",
       "| Regalo Easy Step Walk Thru...  |  374  |\n",
       "+--------------------------------+-------+\n",
       "[32419 rows x 2 columns]\n",
       "Note: Only the head of the SFrame is printed.\n",
       "You can use print_rows(num_rows=m, num_columns=n) to print more rows and columns."
      ]
     },
     "execution_count": 4,
     "metadata": {},
     "output_type": "execute_result"
    }
   ],
   "source": [
    "products.groupby('name',operations={'count':turicreate.aggregate.COUNT()}).sort('count',ascending=False)\n",
    "# count number of reviews"
   ]
  },
  {
   "cell_type": "markdown",
   "metadata": {},
   "source": [
    "# Examine the reivews for the most-reviewed product"
   ]
  },
  {
   "cell_type": "code",
   "execution_count": 5,
   "metadata": {},
   "outputs": [],
   "source": [
    "giraffe_reviews = products[products['name']=='Vulli Sophie the Giraffe Teether']"
   ]
  },
  {
   "cell_type": "code",
   "execution_count": 6,
   "metadata": {},
   "outputs": [
    {
     "data": {
      "text/html": [
       "<div style=\"max-height:1000px;max-width:1500px;overflow:auto;\"><table frame=\"box\" rules=\"cols\">\n",
       "    <tr>\n",
       "        <th style=\"padding-left: 1em; padding-right: 1em; text-align: center\">name</th>\n",
       "        <th style=\"padding-left: 1em; padding-right: 1em; text-align: center\">review</th>\n",
       "        <th style=\"padding-left: 1em; padding-right: 1em; text-align: center\">rating</th>\n",
       "    </tr>\n",
       "    <tr>\n",
       "        <td style=\"padding-left: 1em; padding-right: 1em; text-align: center; vertical-align: top\">Vulli Sophie the Giraffe<br>Teether ...</td>\n",
       "        <td style=\"padding-left: 1em; padding-right: 1em; text-align: center; vertical-align: top\">He likes chewing on all<br>the parts especially the ...</td>\n",
       "        <td style=\"padding-left: 1em; padding-right: 1em; text-align: center; vertical-align: top\">5.0</td>\n",
       "    </tr>\n",
       "    <tr>\n",
       "        <td style=\"padding-left: 1em; padding-right: 1em; text-align: center; vertical-align: top\">Vulli Sophie the Giraffe<br>Teether ...</td>\n",
       "        <td style=\"padding-left: 1em; padding-right: 1em; text-align: center; vertical-align: top\">My son loves this toy and<br>fits great in the diaper ...</td>\n",
       "        <td style=\"padding-left: 1em; padding-right: 1em; text-align: center; vertical-align: top\">5.0</td>\n",
       "    </tr>\n",
       "    <tr>\n",
       "        <td style=\"padding-left: 1em; padding-right: 1em; text-align: center; vertical-align: top\">Vulli Sophie the Giraffe<br>Teether ...</td>\n",
       "        <td style=\"padding-left: 1em; padding-right: 1em; text-align: center; vertical-align: top\">There really should be a<br>large warning on the  ...</td>\n",
       "        <td style=\"padding-left: 1em; padding-right: 1em; text-align: center; vertical-align: top\">1.0</td>\n",
       "    </tr>\n",
       "    <tr>\n",
       "        <td style=\"padding-left: 1em; padding-right: 1em; text-align: center; vertical-align: top\">Vulli Sophie the Giraffe<br>Teether ...</td>\n",
       "        <td style=\"padding-left: 1em; padding-right: 1em; text-align: center; vertical-align: top\">All the moms in my moms'<br>group got Sophie for ...</td>\n",
       "        <td style=\"padding-left: 1em; padding-right: 1em; text-align: center; vertical-align: top\">5.0</td>\n",
       "    </tr>\n",
       "    <tr>\n",
       "        <td style=\"padding-left: 1em; padding-right: 1em; text-align: center; vertical-align: top\">Vulli Sophie the Giraffe<br>Teether ...</td>\n",
       "        <td style=\"padding-left: 1em; padding-right: 1em; text-align: center; vertical-align: top\">I was a little skeptical<br>on whether Sophie was ...</td>\n",
       "        <td style=\"padding-left: 1em; padding-right: 1em; text-align: center; vertical-align: top\">5.0</td>\n",
       "    </tr>\n",
       "    <tr>\n",
       "        <td style=\"padding-left: 1em; padding-right: 1em; text-align: center; vertical-align: top\">Vulli Sophie the Giraffe<br>Teether ...</td>\n",
       "        <td style=\"padding-left: 1em; padding-right: 1em; text-align: center; vertical-align: top\">I have been reading about<br>Sophie and was going  ...</td>\n",
       "        <td style=\"padding-left: 1em; padding-right: 1em; text-align: center; vertical-align: top\">5.0</td>\n",
       "    </tr>\n",
       "    <tr>\n",
       "        <td style=\"padding-left: 1em; padding-right: 1em; text-align: center; vertical-align: top\">Vulli Sophie the Giraffe<br>Teether ...</td>\n",
       "        <td style=\"padding-left: 1em; padding-right: 1em; text-align: center; vertical-align: top\">My neice loves her sophie<br>and has spent hours ...</td>\n",
       "        <td style=\"padding-left: 1em; padding-right: 1em; text-align: center; vertical-align: top\">5.0</td>\n",
       "    </tr>\n",
       "    <tr>\n",
       "        <td style=\"padding-left: 1em; padding-right: 1em; text-align: center; vertical-align: top\">Vulli Sophie the Giraffe<br>Teether ...</td>\n",
       "        <td style=\"padding-left: 1em; padding-right: 1em; text-align: center; vertical-align: top\">What a friendly face!<br>And those mesmerizing ...</td>\n",
       "        <td style=\"padding-left: 1em; padding-right: 1em; text-align: center; vertical-align: top\">5.0</td>\n",
       "    </tr>\n",
       "    <tr>\n",
       "        <td style=\"padding-left: 1em; padding-right: 1em; text-align: center; vertical-align: top\">Vulli Sophie the Giraffe<br>Teether ...</td>\n",
       "        <td style=\"padding-left: 1em; padding-right: 1em; text-align: center; vertical-align: top\">We got this just for my<br>son to chew on instea ...</td>\n",
       "        <td style=\"padding-left: 1em; padding-right: 1em; text-align: center; vertical-align: top\">5.0</td>\n",
       "    </tr>\n",
       "    <tr>\n",
       "        <td style=\"padding-left: 1em; padding-right: 1em; text-align: center; vertical-align: top\">Vulli Sophie the Giraffe<br>Teether ...</td>\n",
       "        <td style=\"padding-left: 1em; padding-right: 1em; text-align: center; vertical-align: top\">My baby seems to like<br>this toy, but I could ...</td>\n",
       "        <td style=\"padding-left: 1em; padding-right: 1em; text-align: center; vertical-align: top\">3.0</td>\n",
       "    </tr>\n",
       "</table>\n",
       "[? rows x 3 columns]<br/>Note: Only the head of the SFrame is printed. This SFrame is lazily evaluated.<br/>You can use sf.materialize() to force materialization.\n",
       "</div>"
      ],
      "text/plain": [
       "Columns:\n",
       "\tname\tstr\n",
       "\treview\tstr\n",
       "\trating\tfloat\n",
       "\n",
       "Rows: Unknown\n",
       "\n",
       "Data:\n",
       "+-------------------------------+-------------------------------+--------+\n",
       "|              name             |             review            | rating |\n",
       "+-------------------------------+-------------------------------+--------+\n",
       "| Vulli Sophie the Giraffe T... | He likes chewing on all th... |  5.0   |\n",
       "| Vulli Sophie the Giraffe T... | My son loves this toy and ... |  5.0   |\n",
       "| Vulli Sophie the Giraffe T... | There really should be a l... |  1.0   |\n",
       "| Vulli Sophie the Giraffe T... | All the moms in my moms' g... |  5.0   |\n",
       "| Vulli Sophie the Giraffe T... | I was a little skeptical o... |  5.0   |\n",
       "| Vulli Sophie the Giraffe T... | I have been reading about ... |  5.0   |\n",
       "| Vulli Sophie the Giraffe T... | My neice loves her sophie ... |  5.0   |\n",
       "| Vulli Sophie the Giraffe T... | What a friendly face!  And... |  5.0   |\n",
       "| Vulli Sophie the Giraffe T... | We got this just for my so... |  5.0   |\n",
       "| Vulli Sophie the Giraffe T... | My baby seems to like this... |  3.0   |\n",
       "+-------------------------------+-------------------------------+--------+\n",
       "[? rows x 3 columns]\n",
       "Note: Only the head of the SFrame is printed. This SFrame is lazily evaluated.\n",
       "You can use sf.materialize() to force materialization."
      ]
     },
     "execution_count": 6,
     "metadata": {},
     "output_type": "execute_result"
    }
   ],
   "source": [
    "giraffe_reviews"
   ]
  },
  {
   "cell_type": "code",
   "execution_count": 7,
   "metadata": {},
   "outputs": [
    {
     "data": {
      "text/plain": [
       "785"
      ]
     },
     "execution_count": 7,
     "metadata": {},
     "output_type": "execute_result"
    }
   ],
   "source": [
    "len(giraffe_reviews)"
   ]
  },
  {
   "cell_type": "code",
   "execution_count": 8,
   "metadata": {},
   "outputs": [
    {
     "data": {
      "text/html": [
       "<pre>Materializing SArray...</pre>"
      ],
      "text/plain": [
       "Materializing SArray..."
      ]
     },
     "metadata": {},
     "output_type": "display_data"
    },
    {
     "data": {
      "text/html": [
       "<pre>Done.</pre>"
      ],
      "text/plain": [
       "Done."
      ]
     },
     "metadata": {},
     "output_type": "display_data"
    },
    {
     "data": {
      "text/html": [
       "<pre>Materializing SArray...</pre>"
      ],
      "text/plain": [
       "Materializing SArray..."
      ]
     },
     "metadata": {},
     "output_type": "display_data"
    },
    {
     "data": {
      "text/html": [
       "<html>                 <body>                     <iframe style=\"border:0;margin:0\" width=\"800\" height=\"620\" srcdoc='<html lang=\"en\">                         <head>                             <script src=\"https://cdnjs.cloudflare.com/ajax/libs/vega/3.0.8/vega.js\"></script>                             <script src=\"https://cdnjs.cloudflare.com/ajax/libs/vega-embed/3.0.0-rc7/vega-embed.js\"></script>                             <script src=\"https://cdnjs.cloudflare.com/ajax/libs/vega-tooltip/0.5.1/vega-tooltip.min.js\"></script>                             <link rel=\"stylesheet\" type=\"text/css\" href=\"https://cdnjs.cloudflare.com/ajax/libs/vega-tooltip/0.5.1/vega-tooltip.min.css\">                             <style>                             .vega-actions > a{                                 color:white;                                 text-decoration: none;                                 font-family: \"Arial\";                                 cursor:pointer;                                 padding:5px;                                 background:#AAAAAA;                                 border-radius:4px;                                 padding-left:10px;                                 padding-right:10px;                                 margin-right:5px;                             }                             .vega-actions{                                 margin-top:20px;                                 text-align:center                             }                            .vega-actions > a{                                 background:#999999;                            }                             </style>                         </head>                         <body>                             <div id=\"vis\">                             </div>                             <script>                                 var vega_json = \"{\\\"autosize\\\": \\\"pad\\\", \\\"axes\\\": [{\\\"scale\\\": \\\"x\\\", \\\"title\\\": \\\"Values\\\", \\\"tickCount\\\": {\\\"signal\\\": \\\"ceil(width/40)\\\"}, \\\"zindex\\\": 1, \\\"labelOverlap\\\": true, \\\"orient\\\": \\\"bottom\\\"}, {\\\"domain\\\": false, \\\"scale\\\": \\\"x\\\", \\\"ticks\\\": false, \\\"labels\\\": false, \\\"tickCount\\\": {\\\"signal\\\": \\\"ceil(width/40)\\\"}, \\\"zindex\\\": 0, \\\"grid\\\": true, \\\"minExtent\\\": 0, \\\"gridScale\\\": \\\"y\\\", \\\"orient\\\": \\\"bottom\\\", \\\"maxExtent\\\": 0}, {\\\"scale\\\": \\\"y\\\", \\\"title\\\": \\\"Count\\\", \\\"tickCount\\\": {\\\"signal\\\": \\\"ceil(height/40)\\\"}, \\\"zindex\\\": 1, \\\"labelOverlap\\\": true, \\\"orient\\\": \\\"left\\\"}, {\\\"domain\\\": false, \\\"scale\\\": \\\"y\\\", \\\"ticks\\\": false, \\\"labels\\\": false, \\\"tickCount\\\": {\\\"signal\\\": \\\"ceil(height/40)\\\"}, \\\"zindex\\\": 0, \\\"grid\\\": true, \\\"minExtent\\\": 0, \\\"gridScale\\\": \\\"x\\\", \\\"orient\\\": \\\"left\\\", \\\"maxExtent\\\": 0}], \\\"description\\\": \\\"A simple bar chart with embedded data.\\\", \\\"title\\\": {\\\"text\\\": \\\"Distribution of Values [float]\\\", \\\"offset\\\": 30}, \\\"config\\\": {\\\"style\\\": {\\\"rect\\\": {\\\"stroke\\\": \\\"rgba(200, 200, 200, 0.5)\\\"}, \\\"group-title\\\": {\\\"fontWeight\\\": \\\"normal\\\", \\\"font\\\": \\\"HelveticaNeue, Arial\\\", \\\"fontSize\\\": 29, \\\"fill\\\": \\\"rgba(0,0,0,0.65)\\\"}}, \\\"axisY\\\": {\\\"minExtent\\\": 30}, \\\"axis\\\": {\\\"titlePadding\\\": 30, \\\"labelPadding\\\": 10, \\\"labelFont\\\": \\\"HelveticaNeue, Arial\\\", \\\"labelFontSize\\\": 12, \\\"labelColor\\\": \\\"rgba(0,0,0,0.65)\\\", \\\"titleFont\\\": \\\"HelveticaNeue-Medium, Arial\\\", \\\"titleFontSize\\\": 15, \\\"titleColor\\\": \\\"rgba(0,0,0,0.65)\\\", \\\"titleFontWeight\\\": \\\"normal\\\"}}, \\\"scales\\\": [{\\\"domain\\\": {\\\"sort\\\": true, \\\"fields\\\": [\\\"left\\\", \\\"right\\\"], \\\"data\\\": \\\"data_0\\\"}, \\\"name\\\": \\\"x\\\", \\\"zero\\\": false, \\\"range\\\": [0, {\\\"signal\\\": \\\"width\\\"}], \\\"type\\\": \\\"linear\\\", \\\"nice\\\": true}, {\\\"domain\\\": {\\\"field\\\": \\\"count\\\", \\\"data\\\": \\\"data_0\\\"}, \\\"name\\\": \\\"y\\\", \\\"zero\\\": true, \\\"range\\\": [{\\\"signal\\\": \\\"height\\\"}, 0], \\\"type\\\": \\\"linear\\\", \\\"nice\\\": true}], \\\"style\\\": \\\"cell\\\", \\\"height\\\": 400, \\\"padding\\\": 5, \\\"width\\\": 600, \\\"marks\\\": [{\\\"encode\\\": {\\\"hover\\\": {\\\"fill\\\": {\\\"value\\\": \\\"#7EC2F3\\\"}}, \\\"update\\\": {\\\"x2\\\": {\\\"field\\\": \\\"right\\\", \\\"scale\\\": \\\"x\\\"}, \\\"x\\\": {\\\"field\\\": \\\"left\\\", \\\"scale\\\": \\\"x\\\"}, \\\"y2\\\": {\\\"scale\\\": \\\"y\\\", \\\"value\\\": 0}, \\\"y\\\": {\\\"field\\\": \\\"count\\\", \\\"scale\\\": \\\"y\\\"}, \\\"fill\\\": {\\\"value\\\": \\\"#108EE9\\\"}}}, \\\"from\\\": {\\\"data\\\": \\\"data_0\\\"}, \\\"style\\\": [\\\"rect\\\"], \\\"type\\\": \\\"rect\\\", \\\"name\\\": \\\"marks\\\"}], \\\"$schema\\\": \\\"https://vega.github.io/schema/vega/v3.0.json\\\", \\\"data\\\": [{\\\"progress\\\": 100.0, \\\"values\\\": [{\\\"count\\\": 56, \\\"right\\\": 1.1594, \\\"left\\\": 0.9546}, {\\\"count\\\": 0, \\\"right\\\": 1.3642, \\\"left\\\": 1.1594}, {\\\"count\\\": 0, \\\"right\\\": 1.569, \\\"left\\\": 1.3642}, {\\\"count\\\": 0, \\\"right\\\": 1.7738, \\\"left\\\": 1.569}, {\\\"count\\\": 0, \\\"right\\\": 1.9786, \\\"left\\\": 1.7738}, {\\\"count\\\": 37, \\\"right\\\": 2.1834, \\\"left\\\": 1.9786}, {\\\"count\\\": 0, \\\"right\\\": 2.3882, \\\"left\\\": 2.1834}, {\\\"count\\\": 0, \\\"right\\\": 2.593, \\\"left\\\": 2.3882}, {\\\"count\\\": 0, \\\"right\\\": 2.7978, \\\"left\\\": 2.593}, {\\\"count\\\": 62, \\\"right\\\": 3.0026, \\\"left\\\": 2.7978}, {\\\"count\\\": 0, \\\"right\\\": 3.2074, \\\"left\\\": 3.0026}, {\\\"count\\\": 0, \\\"right\\\": 3.4122, \\\"left\\\": 3.2074}, {\\\"count\\\": 0, \\\"right\\\": 3.617, \\\"left\\\": 3.4122}, {\\\"count\\\": 0, \\\"right\\\": 3.8218, \\\"left\\\": 3.617}, {\\\"count\\\": 95, \\\"right\\\": 4.0266, \\\"left\\\": 3.8218}, {\\\"count\\\": 0, \\\"right\\\": 4.2314, \\\"left\\\": 4.0266}, {\\\"count\\\": 0, \\\"right\\\": 4.4362, \\\"left\\\": 4.2314}, {\\\"count\\\": 0, \\\"right\\\": 4.641, \\\"left\\\": 4.4362}, {\\\"count\\\": 0, \\\"right\\\": 4.8458, \\\"left\\\": 4.641}, {\\\"count\\\": 535, \\\"right\\\": 5.0506, \\\"left\\\": 4.8458}], \\\"name\\\": \\\"source_2\\\"}, {\\\"source\\\": \\\"source_2\\\", \\\"name\\\": \\\"data_0\\\", \\\"transform\\\": [{\\\"expr\\\": \\\"toNumber(datum[\\\\\\\"left\\\\\\\"])\\\", \\\"as\\\": \\\"left\\\", \\\"type\\\": \\\"formula\\\"}, {\\\"expr\\\": \\\"toNumber(datum[\\\\\\\"right\\\\\\\"])\\\", \\\"as\\\": \\\"right\\\", \\\"type\\\": \\\"formula\\\"}, {\\\"expr\\\": \\\"toNumber(datum[\\\\\\\"count\\\\\\\"])\\\", \\\"as\\\": \\\"count\\\", \\\"type\\\": \\\"formula\\\"}, {\\\"expr\\\": \\\"datum[\\\\\\\"left\\\\\\\"] !== null && !isNaN(datum[\\\\\\\"left\\\\\\\"]) && datum[\\\\\\\"count\\\\\\\"] !== null && !isNaN(datum[\\\\\\\"count\\\\\\\"])\\\", \\\"type\\\": \\\"filter\\\"}]}]}\";                                 var vega_json_parsed = JSON.parse(vega_json);                                 var toolTipOpts = {                                     showAllFields: true                                 };                                 if(vega_json_parsed[\"metadata\"] != null){                                     if(vega_json_parsed[\"metadata\"][\"bubbleOpts\"] != null){                                         toolTipOpts = vega_json_parsed[\"metadata\"][\"bubbleOpts\"];                                     };                                 };                                 vegaEmbed(\"#vis\", vega_json_parsed).then(function (result) {                                     vegaTooltip.vega(result.view, toolTipOpts);                                  });                             </script>                         </body>                     </html>' src=\"demo_iframe_srcdoc.htm\">                         <p>Your browser does not support iframes.</p>                     </iframe>                 </body>             </html>"
      ],
      "text/plain": [
       "<IPython.core.display.HTML object>"
      ]
     },
     "metadata": {},
     "output_type": "display_data"
    },
    {
     "data": {
      "text/html": [
       "<pre>Done.</pre>"
      ],
      "text/plain": [
       "Done."
      ]
     },
     "metadata": {},
     "output_type": "display_data"
    }
   ],
   "source": [
    "giraffe_reviews['rating'].show()"
   ]
  },
  {
   "cell_type": "markdown",
   "metadata": {},
   "source": [
    "# Building a sentiment classifier"
   ]
  },
  {
   "cell_type": "markdown",
   "metadata": {},
   "source": [
    "## Build word count vectors"
   ]
  },
  {
   "cell_type": "code",
   "execution_count": 5,
   "metadata": {},
   "outputs": [],
   "source": [
    "products['word_count'] = turicreate.text_analytics.count_words(products['review'])\n",
    "# create dictionaries for sentiment classifier"
   ]
  },
  {
   "cell_type": "code",
   "execution_count": 6,
   "metadata": {},
   "outputs": [
    {
     "data": {
      "text/html": [
       "<div style=\"max-height:1000px;max-width:1500px;overflow:auto;\"><table frame=\"box\" rules=\"cols\">\n",
       "    <tr>\n",
       "        <th style=\"padding-left: 1em; padding-right: 1em; text-align: center\">name</th>\n",
       "        <th style=\"padding-left: 1em; padding-right: 1em; text-align: center\">review</th>\n",
       "        <th style=\"padding-left: 1em; padding-right: 1em; text-align: center\">rating</th>\n",
       "        <th style=\"padding-left: 1em; padding-right: 1em; text-align: center\">word_count</th>\n",
       "    </tr>\n",
       "    <tr>\n",
       "        <td style=\"padding-left: 1em; padding-right: 1em; text-align: center; vertical-align: top\">Planetwise Flannel Wipes</td>\n",
       "        <td style=\"padding-left: 1em; padding-right: 1em; text-align: center; vertical-align: top\">These flannel wipes are<br>OK, but in my opinion ...</td>\n",
       "        <td style=\"padding-left: 1em; padding-right: 1em; text-align: center; vertical-align: top\">3.0</td>\n",
       "        <td style=\"padding-left: 1em; padding-right: 1em; text-align: center; vertical-align: top\">{&#x27;handles&#x27;: 1.0,<br>&#x27;stripping&#x27;: 1.0, ...</td>\n",
       "    </tr>\n",
       "    <tr>\n",
       "        <td style=\"padding-left: 1em; padding-right: 1em; text-align: center; vertical-align: top\">Planetwise Wipe Pouch</td>\n",
       "        <td style=\"padding-left: 1em; padding-right: 1em; text-align: center; vertical-align: top\">it came early and was not<br>disappointed. i love ...</td>\n",
       "        <td style=\"padding-left: 1em; padding-right: 1em; text-align: center; vertical-align: top\">5.0</td>\n",
       "        <td style=\"padding-left: 1em; padding-right: 1em; text-align: center; vertical-align: top\">{&#x27;recommend&#x27;: 1.0,<br>&#x27;moist&#x27;: 1.0, &#x27;osocozy&#x27;: ...</td>\n",
       "    </tr>\n",
       "    <tr>\n",
       "        <td style=\"padding-left: 1em; padding-right: 1em; text-align: center; vertical-align: top\">Annas Dream Full Quilt<br>with 2 Shams ...</td>\n",
       "        <td style=\"padding-left: 1em; padding-right: 1em; text-align: center; vertical-align: top\">Very soft and comfortable<br>and warmer than it ...</td>\n",
       "        <td style=\"padding-left: 1em; padding-right: 1em; text-align: center; vertical-align: top\">5.0</td>\n",
       "        <td style=\"padding-left: 1em; padding-right: 1em; text-align: center; vertical-align: top\">{&#x27;quilt&#x27;: 1.0,<br>&#x27;comfortable&#x27;: 1.0, ...</td>\n",
       "    </tr>\n",
       "    <tr>\n",
       "        <td style=\"padding-left: 1em; padding-right: 1em; text-align: center; vertical-align: top\">Stop Pacifier Sucking<br>without tears with ...</td>\n",
       "        <td style=\"padding-left: 1em; padding-right: 1em; text-align: center; vertical-align: top\">This is a product well<br>worth the purchase.  I ...</td>\n",
       "        <td style=\"padding-left: 1em; padding-right: 1em; text-align: center; vertical-align: top\">5.0</td>\n",
       "        <td style=\"padding-left: 1em; padding-right: 1em; text-align: center; vertical-align: top\">{&#x27;tool&#x27;: 1.0, &#x27;clever&#x27;:<br>1.0, &#x27;little&#x27;: 1.0, ...</td>\n",
       "    </tr>\n",
       "    <tr>\n",
       "        <td style=\"padding-left: 1em; padding-right: 1em; text-align: center; vertical-align: top\">Stop Pacifier Sucking<br>without tears with ...</td>\n",
       "        <td style=\"padding-left: 1em; padding-right: 1em; text-align: center; vertical-align: top\">All of my kids have cried<br>non-stop when I tried to ...</td>\n",
       "        <td style=\"padding-left: 1em; padding-right: 1em; text-align: center; vertical-align: top\">5.0</td>\n",
       "        <td style=\"padding-left: 1em; padding-right: 1em; text-align: center; vertical-align: top\">{&#x27;rock&#x27;: 1.0, &#x27;many&#x27;:<br>1.0, &#x27;headaches&#x27;: 1.0, ...</td>\n",
       "    </tr>\n",
       "    <tr>\n",
       "        <td style=\"padding-left: 1em; padding-right: 1em; text-align: center; vertical-align: top\">Stop Pacifier Sucking<br>without tears with ...</td>\n",
       "        <td style=\"padding-left: 1em; padding-right: 1em; text-align: center; vertical-align: top\">When the Binky Fairy came<br>to our house, we didn&#x27;t ...</td>\n",
       "        <td style=\"padding-left: 1em; padding-right: 1em; text-align: center; vertical-align: top\">5.0</td>\n",
       "        <td style=\"padding-left: 1em; padding-right: 1em; text-align: center; vertical-align: top\">{&#x27;thumb&#x27;: 1.0, &#x27;or&#x27;: 1.0,<br>&#x27;break&#x27;: 1.0, &#x27;trying&#x27;: ...</td>\n",
       "    </tr>\n",
       "    <tr>\n",
       "        <td style=\"padding-left: 1em; padding-right: 1em; text-align: center; vertical-align: top\">A Tale of Baby&#x27;s Days<br>with Peter Rabbit ...</td>\n",
       "        <td style=\"padding-left: 1em; padding-right: 1em; text-align: center; vertical-align: top\">Lovely book, it&#x27;s bound<br>tightly so you may no ...</td>\n",
       "        <td style=\"padding-left: 1em; padding-right: 1em; text-align: center; vertical-align: top\">4.0</td>\n",
       "        <td style=\"padding-left: 1em; padding-right: 1em; text-align: center; vertical-align: top\">{&#x27;for&#x27;: 1.0, &#x27;barnes&#x27;:<br>1.0, &#x27;at&#x27;: 1.0, &#x27;is&#x27;: ...</td>\n",
       "    </tr>\n",
       "    <tr>\n",
       "        <td style=\"padding-left: 1em; padding-right: 1em; text-align: center; vertical-align: top\">Baby Tracker&amp;reg; - Daily<br>Childcare Journal, ...</td>\n",
       "        <td style=\"padding-left: 1em; padding-right: 1em; text-align: center; vertical-align: top\">Perfect for new parents.<br>We were able to keep ...</td>\n",
       "        <td style=\"padding-left: 1em; padding-right: 1em; text-align: center; vertical-align: top\">5.0</td>\n",
       "        <td style=\"padding-left: 1em; padding-right: 1em; text-align: center; vertical-align: top\">{&#x27;right&#x27;: 1.0, &#x27;because&#x27;:<br>1.0, &#x27;questions&#x27;: 1.0, ...</td>\n",
       "    </tr>\n",
       "    <tr>\n",
       "        <td style=\"padding-left: 1em; padding-right: 1em; text-align: center; vertical-align: top\">Baby Tracker&amp;reg; - Daily<br>Childcare Journal, ...</td>\n",
       "        <td style=\"padding-left: 1em; padding-right: 1em; text-align: center; vertical-align: top\">A friend of mine pinned<br>this product on Pinte ...</td>\n",
       "        <td style=\"padding-left: 1em; padding-right: 1em; text-align: center; vertical-align: top\">5.0</td>\n",
       "        <td style=\"padding-left: 1em; padding-right: 1em; text-align: center; vertical-align: top\">{&#x27;like&#x27;: 1.0, &#x27;and&#x27;: 1.0,<br>&#x27;changes&#x27;: 1.0, &#x27;the&#x27;: ...</td>\n",
       "    </tr>\n",
       "    <tr>\n",
       "        <td style=\"padding-left: 1em; padding-right: 1em; text-align: center; vertical-align: top\">Baby Tracker&amp;reg; - Daily<br>Childcare Journal, ...</td>\n",
       "        <td style=\"padding-left: 1em; padding-right: 1em; text-align: center; vertical-align: top\">This has been an easy way<br>for my nanny to record ...</td>\n",
       "        <td style=\"padding-left: 1em; padding-right: 1em; text-align: center; vertical-align: top\">4.0</td>\n",
       "        <td style=\"padding-left: 1em; padding-right: 1em; text-align: center; vertical-align: top\">{&#x27;in&#x27;: 1.0, &#x27;pages&#x27;: 1.0,<br>&#x27;out&#x27;: 1.0, &#x27;run&#x27;: 1.0, ...</td>\n",
       "    </tr>\n",
       "</table>\n",
       "[183531 rows x 4 columns]<br/>Note: Only the head of the SFrame is printed.<br/>You can use print_rows(num_rows=m, num_columns=n) to print more rows and columns.\n",
       "</div>"
      ],
      "text/plain": [
       "Columns:\n",
       "\tname\tstr\n",
       "\treview\tstr\n",
       "\trating\tfloat\n",
       "\tword_count\tdict\n",
       "\n",
       "Rows: 183531\n",
       "\n",
       "Data:\n",
       "+-------------------------------+-------------------------------+--------+\n",
       "|              name             |             review            | rating |\n",
       "+-------------------------------+-------------------------------+--------+\n",
       "|    Planetwise Flannel Wipes   | These flannel wipes are OK... |  3.0   |\n",
       "|     Planetwise Wipe Pouch     | it came early and was not ... |  5.0   |\n",
       "| Annas Dream Full Quilt wit... | Very soft and comfortable ... |  5.0   |\n",
       "| Stop Pacifier Sucking with... | This is a product well wor... |  5.0   |\n",
       "| Stop Pacifier Sucking with... | All of my kids have cried ... |  5.0   |\n",
       "| Stop Pacifier Sucking with... | When the Binky Fairy came ... |  5.0   |\n",
       "| A Tale of Baby's Days with... | Lovely book, it's bound ti... |  4.0   |\n",
       "| Baby Tracker&reg; - Daily ... | Perfect for new parents. W... |  5.0   |\n",
       "| Baby Tracker&reg; - Daily ... | A friend of mine pinned th... |  5.0   |\n",
       "| Baby Tracker&reg; - Daily ... | This has been an easy way ... |  4.0   |\n",
       "+-------------------------------+-------------------------------+--------+\n",
       "+-------------------------------+\n",
       "|           word_count          |\n",
       "+-------------------------------+\n",
       "| {'handles': 1.0, 'strippin... |\n",
       "| {'recommend': 1.0, 'moist'... |\n",
       "| {'quilt': 1.0, 'comfortabl... |\n",
       "| {'tool': 1.0, 'clever': 1.... |\n",
       "| {'rock': 1.0, 'many': 1.0,... |\n",
       "| {'thumb': 1.0, 'or': 1.0, ... |\n",
       "| {'for': 1.0, 'barnes': 1.0... |\n",
       "| {'right': 1.0, 'because': ... |\n",
       "| {'like': 1.0, 'and': 1.0, ... |\n",
       "| {'in': 1.0, 'pages': 1.0, ... |\n",
       "+-------------------------------+\n",
       "[183531 rows x 4 columns]\n",
       "Note: Only the head of the SFrame is printed.\n",
       "You can use print_rows(num_rows=m, num_columns=n) to print more rows and columns."
      ]
     },
     "execution_count": 6,
     "metadata": {},
     "output_type": "execute_result"
    }
   ],
   "source": [
    "products"
   ]
  },
  {
   "cell_type": "markdown",
   "metadata": {},
   "source": [
    "# Define what is positive and negative sentiment"
   ]
  },
  {
   "cell_type": "code",
   "execution_count": 7,
   "metadata": {},
   "outputs": [
    {
     "data": {
      "text/html": [
       "<pre>Materializing SArray</pre>"
      ],
      "text/plain": [
       "Materializing SArray"
      ]
     },
     "metadata": {},
     "output_type": "display_data"
    },
    {
     "data": {
      "text/html": [
       "<html>                 <body>                     <iframe style=\"border:0;margin:0\" width=\"920\" height=\"770\" srcdoc='<html lang=\"en\">                         <head>                             <script src=\"https://cdnjs.cloudflare.com/ajax/libs/vega/5.4.0/vega.js\"></script>                             <script src=\"https://cdnjs.cloudflare.com/ajax/libs/vega-embed/4.0.0/vega-embed.js\"></script>                             <script src=\"https://cdnjs.cloudflare.com/ajax/libs/vega-tooltip/0.5.1/vega-tooltip.min.js\"></script>                             <link rel=\"stylesheet\" type=\"text/css\" href=\"https://cdnjs.cloudflare.com/ajax/libs/vega-tooltip/0.5.1/vega-tooltip.min.css\">                             <style>                             .vega-actions > a{                                 color:white;                                 text-decoration: none;                                 font-family: \"Arial\";                                 cursor:pointer;                                 padding:5px;                                 background:#AAAAAA;                                 border-radius:4px;                                 padding-left:10px;                                 padding-right:10px;                                 margin-right:5px;                             }                             .vega-actions{                                 margin-top:20px;                                 text-align:center                             }                            .vega-actions > a{                                 background:#999999;                            }                             </style>                         </head>                         <body>                             <div id=\"vis\">                             </div>                             <script>                                 var vega_json = \"{\\\"$schema\\\": \\\"https://vega.github.io/schema/vega/v4.json\\\", \\\"description\\\": \\\"A simple bar chart with embedded data.\\\", \\\"autosize\\\": {\\\"type\\\": \\\"fit\\\", \\\"resize\\\": false, \\\"contains\\\": \\\"padding\\\"}, \\\"width\\\": 720, \\\"height\\\": 550, \\\"padding\\\": 8, \\\"title\\\": \\\"Distribution of Values [float]\\\", \\\"style\\\": \\\"cell\\\", \\\"signals\\\": [{\\\"name\\\": \\\"bins\\\", \\\"update\\\": \\\"data(\\\\\\\"bins_data\\\\\\\")[0]\\\"}, {\\\"name\\\": \\\"binCount\\\", \\\"update\\\": \\\"(bins.stop - bins.start) / bins.step\\\"}, {\\\"name\\\": \\\"nullGap\\\", \\\"update\\\": \\\"data(\\\\\\\"nulls\\\\\\\").length ? 10 : 0\\\"}, {\\\"name\\\": \\\"barStep\\\", \\\"update\\\": \\\"(width - nullGap) / (1 + binCount)\\\"}], \\\"data\\\": [{\\\"name\\\": \\\"source_2\\\", \\\"values\\\": [{\\\"left\\\": 0.928, \\\"right\\\": 1.136, \\\"count\\\": 15183}, {\\\"left\\\": 1.136, \\\"right\\\": 1.344, \\\"count\\\": 0}, {\\\"left\\\": 1.344, \\\"right\\\": 1.552, \\\"count\\\": 0}, {\\\"left\\\": 1.552, \\\"right\\\": 1.76, \\\"count\\\": 0}, {\\\"left\\\": 1.76, \\\"right\\\": 1.968, \\\"count\\\": 0}, {\\\"left\\\": 1.968, \\\"right\\\": 2.176, \\\"count\\\": 11310}, {\\\"left\\\": 2.176, \\\"right\\\": 2.384, \\\"count\\\": 0}, {\\\"left\\\": 2.384, \\\"right\\\": 2.592, \\\"count\\\": 0}, {\\\"left\\\": 2.592, \\\"right\\\": 2.8, \\\"count\\\": 0}, {\\\"left\\\": 2.8, \\\"right\\\": 3.008, \\\"count\\\": 16779}, {\\\"left\\\": 3.008, \\\"right\\\": 3.216, \\\"count\\\": 0}, {\\\"left\\\": 3.216, \\\"right\\\": 3.424, \\\"count\\\": 0}, {\\\"left\\\": 3.424, \\\"right\\\": 3.632, \\\"count\\\": 0}, {\\\"left\\\": 3.632, \\\"right\\\": 3.84, \\\"count\\\": 0}, {\\\"left\\\": 3.84, \\\"right\\\": 4.048, \\\"count\\\": 33205}, {\\\"left\\\": 4.048, \\\"right\\\": 4.256, \\\"count\\\": 0}, {\\\"left\\\": 4.256, \\\"right\\\": 4.464, \\\"count\\\": 0}, {\\\"left\\\": 4.464, \\\"right\\\": 4.672, \\\"count\\\": 0}, {\\\"left\\\": 4.672, \\\"right\\\": 4.88, \\\"count\\\": 0}, {\\\"left\\\": 4.88, \\\"right\\\": 5.088, \\\"count\\\": 107054}, {\\\"start\\\": 0.928, \\\"stop\\\": 5.088, \\\"step\\\": 0.208}]}, {\\\"name\\\": \\\"counts\\\", \\\"source\\\": \\\"source_2\\\", \\\"transform\\\": [{\\\"type\\\": \\\"filter\\\", \\\"expr\\\": \\\"datum[\\\\\\\"missing\\\\\\\"] !== true &amp;&amp; datum[\\\\\\\"count\\\\\\\"] != null\\\"}]}, {\\\"name\\\": \\\"nulls\\\", \\\"source\\\": \\\"source_2\\\", \\\"transform\\\": [{\\\"expr\\\": \\\"datum[\\\\\\\"missing\\\\\\\"] === true &amp;&amp; datum[\\\\\\\"count\\\\\\\"] != null\\\", \\\"type\\\": \\\"filter\\\"}]}, {\\\"name\\\": \\\"bins_data\\\", \\\"source\\\": \\\"source_2\\\", \\\"transform\\\": [{\\\"expr\\\": \\\"datum[\\\\\\\"start\\\\\\\"] != null &amp;&amp; datum[\\\\\\\"stop\\\\\\\"] != null &amp;&amp; datum[\\\\\\\"step\\\\\\\"] != null\\\", \\\"type\\\": \\\"filter\\\"}]}], \\\"marks\\\": [{\\\"type\\\": \\\"rect\\\", \\\"from\\\": {\\\"data\\\": \\\"counts\\\"}, \\\"encode\\\": {\\\"update\\\": {\\\"x\\\": {\\\"scale\\\": \\\"xscale\\\", \\\"field\\\": \\\"left\\\", \\\"offset\\\": 1}, \\\"x2\\\": {\\\"scale\\\": \\\"xscale\\\", \\\"field\\\": \\\"right\\\"}, \\\"y\\\": {\\\"scale\\\": \\\"yscale\\\", \\\"field\\\": \\\"count\\\"}, \\\"y2\\\": {\\\"scale\\\": \\\"yscale\\\", \\\"value\\\": 0}, \\\"fill\\\": {\\\"value\\\": \\\"#108EE9\\\"}}, \\\"hover\\\": {\\\"fill\\\": {\\\"value\\\": \\\"#7EC2F3\\\"}}}}, {\\\"type\\\": \\\"rect\\\", \\\"from\\\": {\\\"data\\\": \\\"nulls\\\"}, \\\"encode\\\": {\\\"update\\\": {\\\"x\\\": {\\\"scale\\\": \\\"xscale-null\\\", \\\"value\\\": null, \\\"offset\\\": 1}, \\\"x2\\\": {\\\"scale\\\": \\\"xscale-null\\\", \\\"band\\\": 1}, \\\"y\\\": {\\\"scale\\\": \\\"yscale\\\", \\\"field\\\": \\\"count\\\"}, \\\"y2\\\": {\\\"scale\\\": \\\"yscale\\\", \\\"value\\\": 0}, \\\"fill\\\": {\\\"value\\\": \\\"#108EE9\\\"}}, \\\"hover\\\": {\\\"fill\\\": {\\\"value\\\": \\\"#7EC2F3\\\"}}}}], \\\"scales\\\": [{\\\"name\\\": \\\"yscale\\\", \\\"type\\\": \\\"linear\\\", \\\"range\\\": \\\"height\\\", \\\"round\\\": true, \\\"nice\\\": true, \\\"domain\\\": {\\\"fields\\\": [{\\\"data\\\": \\\"counts\\\", \\\"field\\\": \\\"count\\\"}, {\\\"data\\\": \\\"nulls\\\", \\\"field\\\": \\\"count\\\"}]}}, {\\\"name\\\": \\\"xscale\\\", \\\"type\\\": \\\"linear\\\", \\\"range\\\": [{\\\"signal\\\": \\\"nullGap ? barStep + nullGap : 0\\\"}, {\\\"signal\\\": \\\"width\\\"}], \\\"round\\\": true, \\\"domain\\\": {\\\"signal\\\": \\\"[bins.start, bins.stop]\\\"}, \\\"bins\\\": {\\\"signal\\\": \\\"bins\\\"}}, {\\\"name\\\": \\\"xscale-null\\\", \\\"type\\\": \\\"band\\\", \\\"range\\\": [{\\\"signal\\\": \\\"nullGap ? 0 : 1\\\"}, {\\\"signal\\\": \\\"nullGap ? barStep : 0\\\"}], \\\"round\\\": true, \\\"domain\\\": [{\\\"signal\\\": \\\"nullGap ? null : &apos;&apos;\\\"}]}], \\\"axes\\\": [{\\\"title\\\": \\\"Values\\\", \\\"orient\\\": \\\"bottom\\\", \\\"scale\\\": \\\"xscale\\\", \\\"tickMinStep\\\": 1, \\\"grid\\\": true}, {\\\"orient\\\": \\\"bottom\\\", \\\"scale\\\": \\\"xscale-null\\\"}, {\\\"title\\\": \\\"Count\\\", \\\"orient\\\": \\\"left\\\", \\\"scale\\\": \\\"yscale\\\", \\\"tickCount\\\": 5, \\\"offset\\\": {\\\"signal\\\": \\\"nullGap ? 5 : 0\\\"}, \\\"grid\\\": true}], \\\"config\\\": {\\\"axis\\\": {\\\"gridColor\\\": \\\"rgba(204,204,204,1.0)\\\", \\\"labelFont\\\": \\\"\\\\\\\"San Francisco\\\\\\\", HelveticaNeue, Arial\\\", \\\"labelFontSize\\\": 12, \\\"labelPadding\\\": 10, \\\"labelColor\\\": \\\"rgba(0,0,0,0.847)\\\", \\\"tickColor\\\": \\\"rgb(136,136,136)\\\", \\\"titleFont\\\": \\\"\\\\\\\"San Francisco\\\\\\\", HelveticaNeue, Arial\\\", \\\"titleFontWeight\\\": \\\"normal\\\", \\\"titlePadding\\\": 20, \\\"titleFontSize\\\": 14, \\\"titleColor\\\": \\\"rgba(0,0,0,0.847)\\\"}, \\\"axisY\\\": {\\\"minExtent\\\": 30}, \\\"legend\\\": {\\\"labelFont\\\": \\\"\\\\\\\"San Francisco\\\\\\\", HelveticaNeue, Arial\\\", \\\"labelColor\\\": \\\"rgba(0,0,0,0.847)\\\", \\\"titleFont\\\": \\\"\\\\\\\"San Francisco\\\\\\\", HelveticaNeue, Arial\\\", \\\"cornerRadius\\\": 30, \\\"gradientLength\\\": 608, \\\"titleColor\\\": \\\"rgba(0,0,0,0.847)\\\"}, \\\"range\\\": {\\\"heatmap\\\": {\\\"scheme\\\": \\\"greenblue\\\"}}, \\\"style\\\": {\\\"rect\\\": {\\\"stroke\\\": \\\"rgba(200, 200, 200, 0.5)\\\"}, \\\"cell\\\": {\\\"stroke\\\": \\\"transparent\\\"}, \\\"group-title\\\": {\\\"fontSize\\\": 29, \\\"font\\\": \\\"HelveticaNeue, Arial\\\", \\\"fontWeight\\\": \\\"normal\\\", \\\"fill\\\": \\\"rgba(0,0,0,0.65)\\\"}}, \\\"title\\\": {\\\"color\\\": \\\"rgba(0,0,0,0.847)\\\", \\\"font\\\": \\\"\\\\\\\"San Francisco\\\\\\\", HelveticaNeue, Arial\\\", \\\"fontSize\\\": 18, \\\"fontWeight\\\": \\\"normal\\\", \\\"offset\\\": 30}}}\";                                 var vega_json_parsed = JSON.parse(vega_json);                                 var toolTipOpts = {                                     showAllFields: true                                 };                                 if(vega_json_parsed[\"metadata\"] != null){                                     if(vega_json_parsed[\"metadata\"][\"bubbleOpts\"] != null){                                         toolTipOpts = vega_json_parsed[\"metadata\"][\"bubbleOpts\"];                                     };                                 };                                 vegaEmbed(\"#vis\", vega_json_parsed).then(function (result) {                                     vegaTooltip.vega(result.view, toolTipOpts);                                  });                             </script>                         </body>                     </html>' src=\"demo_iframe_srcdoc.htm\">                         <p>Your browser does not support iframes.</p>                     </iframe>                 </body>             </html>"
      ],
      "text/plain": [
       "<IPython.core.display.HTML object>"
      ]
     },
     "metadata": {},
     "output_type": "display_data"
    }
   ],
   "source": [
    "products['rating'].show()"
   ]
  },
  {
   "cell_type": "code",
   "execution_count": 8,
   "metadata": {},
   "outputs": [],
   "source": [
    "#ignore all 3*  reviews\n",
    "products = products[products['rating']!= 3]"
   ]
  },
  {
   "cell_type": "code",
   "execution_count": 9,
   "metadata": {},
   "outputs": [],
   "source": [
    "#positive sentiment = 4-star or 5-star reviews\n",
    "products['sentiment'] = products['rating'] >= 4\n",
    "# sentiment = 1 if 4-star or 5-star; 0 otherwise"
   ]
  },
  {
   "cell_type": "code",
   "execution_count": 10,
   "metadata": {},
   "outputs": [
    {
     "data": {
      "text/html": [
       "<div style=\"max-height:1000px;max-width:1500px;overflow:auto;\"><table frame=\"box\" rules=\"cols\">\n",
       "    <tr>\n",
       "        <th style=\"padding-left: 1em; padding-right: 1em; text-align: center\">name</th>\n",
       "        <th style=\"padding-left: 1em; padding-right: 1em; text-align: center\">review</th>\n",
       "        <th style=\"padding-left: 1em; padding-right: 1em; text-align: center\">rating</th>\n",
       "        <th style=\"padding-left: 1em; padding-right: 1em; text-align: center\">word_count</th>\n",
       "        <th style=\"padding-left: 1em; padding-right: 1em; text-align: center\">sentiment</th>\n",
       "    </tr>\n",
       "    <tr>\n",
       "        <td style=\"padding-left: 1em; padding-right: 1em; text-align: center; vertical-align: top\">Planetwise Wipe Pouch</td>\n",
       "        <td style=\"padding-left: 1em; padding-right: 1em; text-align: center; vertical-align: top\">it came early and was not<br>disappointed. i love ...</td>\n",
       "        <td style=\"padding-left: 1em; padding-right: 1em; text-align: center; vertical-align: top\">5.0</td>\n",
       "        <td style=\"padding-left: 1em; padding-right: 1em; text-align: center; vertical-align: top\">{&#x27;recommend&#x27;: 1.0,<br>&#x27;moist&#x27;: 1.0, &#x27;osocozy&#x27;: ...</td>\n",
       "        <td style=\"padding-left: 1em; padding-right: 1em; text-align: center; vertical-align: top\">1</td>\n",
       "    </tr>\n",
       "    <tr>\n",
       "        <td style=\"padding-left: 1em; padding-right: 1em; text-align: center; vertical-align: top\">Annas Dream Full Quilt<br>with 2 Shams ...</td>\n",
       "        <td style=\"padding-left: 1em; padding-right: 1em; text-align: center; vertical-align: top\">Very soft and comfortable<br>and warmer than it ...</td>\n",
       "        <td style=\"padding-left: 1em; padding-right: 1em; text-align: center; vertical-align: top\">5.0</td>\n",
       "        <td style=\"padding-left: 1em; padding-right: 1em; text-align: center; vertical-align: top\">{&#x27;quilt&#x27;: 1.0,<br>&#x27;comfortable&#x27;: 1.0, ...</td>\n",
       "        <td style=\"padding-left: 1em; padding-right: 1em; text-align: center; vertical-align: top\">1</td>\n",
       "    </tr>\n",
       "    <tr>\n",
       "        <td style=\"padding-left: 1em; padding-right: 1em; text-align: center; vertical-align: top\">Stop Pacifier Sucking<br>without tears with ...</td>\n",
       "        <td style=\"padding-left: 1em; padding-right: 1em; text-align: center; vertical-align: top\">This is a product well<br>worth the purchase.  I ...</td>\n",
       "        <td style=\"padding-left: 1em; padding-right: 1em; text-align: center; vertical-align: top\">5.0</td>\n",
       "        <td style=\"padding-left: 1em; padding-right: 1em; text-align: center; vertical-align: top\">{&#x27;tool&#x27;: 1.0, &#x27;clever&#x27;:<br>1.0, &#x27;little&#x27;: 1.0, ...</td>\n",
       "        <td style=\"padding-left: 1em; padding-right: 1em; text-align: center; vertical-align: top\">1</td>\n",
       "    </tr>\n",
       "    <tr>\n",
       "        <td style=\"padding-left: 1em; padding-right: 1em; text-align: center; vertical-align: top\">Stop Pacifier Sucking<br>without tears with ...</td>\n",
       "        <td style=\"padding-left: 1em; padding-right: 1em; text-align: center; vertical-align: top\">All of my kids have cried<br>non-stop when I tried to ...</td>\n",
       "        <td style=\"padding-left: 1em; padding-right: 1em; text-align: center; vertical-align: top\">5.0</td>\n",
       "        <td style=\"padding-left: 1em; padding-right: 1em; text-align: center; vertical-align: top\">{&#x27;rock&#x27;: 1.0, &#x27;many&#x27;:<br>1.0, &#x27;headaches&#x27;: 1.0, ...</td>\n",
       "        <td style=\"padding-left: 1em; padding-right: 1em; text-align: center; vertical-align: top\">1</td>\n",
       "    </tr>\n",
       "    <tr>\n",
       "        <td style=\"padding-left: 1em; padding-right: 1em; text-align: center; vertical-align: top\">Stop Pacifier Sucking<br>without tears with ...</td>\n",
       "        <td style=\"padding-left: 1em; padding-right: 1em; text-align: center; vertical-align: top\">When the Binky Fairy came<br>to our house, we didn&#x27;t ...</td>\n",
       "        <td style=\"padding-left: 1em; padding-right: 1em; text-align: center; vertical-align: top\">5.0</td>\n",
       "        <td style=\"padding-left: 1em; padding-right: 1em; text-align: center; vertical-align: top\">{&#x27;thumb&#x27;: 1.0, &#x27;or&#x27;: 1.0,<br>&#x27;break&#x27;: 1.0, &#x27;trying&#x27;: ...</td>\n",
       "        <td style=\"padding-left: 1em; padding-right: 1em; text-align: center; vertical-align: top\">1</td>\n",
       "    </tr>\n",
       "    <tr>\n",
       "        <td style=\"padding-left: 1em; padding-right: 1em; text-align: center; vertical-align: top\">A Tale of Baby&#x27;s Days<br>with Peter Rabbit ...</td>\n",
       "        <td style=\"padding-left: 1em; padding-right: 1em; text-align: center; vertical-align: top\">Lovely book, it&#x27;s bound<br>tightly so you may no ...</td>\n",
       "        <td style=\"padding-left: 1em; padding-right: 1em; text-align: center; vertical-align: top\">4.0</td>\n",
       "        <td style=\"padding-left: 1em; padding-right: 1em; text-align: center; vertical-align: top\">{&#x27;for&#x27;: 1.0, &#x27;barnes&#x27;:<br>1.0, &#x27;at&#x27;: 1.0, &#x27;is&#x27;: ...</td>\n",
       "        <td style=\"padding-left: 1em; padding-right: 1em; text-align: center; vertical-align: top\">1</td>\n",
       "    </tr>\n",
       "    <tr>\n",
       "        <td style=\"padding-left: 1em; padding-right: 1em; text-align: center; vertical-align: top\">Baby Tracker&amp;reg; - Daily<br>Childcare Journal, ...</td>\n",
       "        <td style=\"padding-left: 1em; padding-right: 1em; text-align: center; vertical-align: top\">Perfect for new parents.<br>We were able to keep ...</td>\n",
       "        <td style=\"padding-left: 1em; padding-right: 1em; text-align: center; vertical-align: top\">5.0</td>\n",
       "        <td style=\"padding-left: 1em; padding-right: 1em; text-align: center; vertical-align: top\">{&#x27;right&#x27;: 1.0, &#x27;because&#x27;:<br>1.0, &#x27;questions&#x27;: 1.0, ...</td>\n",
       "        <td style=\"padding-left: 1em; padding-right: 1em; text-align: center; vertical-align: top\">1</td>\n",
       "    </tr>\n",
       "    <tr>\n",
       "        <td style=\"padding-left: 1em; padding-right: 1em; text-align: center; vertical-align: top\">Baby Tracker&amp;reg; - Daily<br>Childcare Journal, ...</td>\n",
       "        <td style=\"padding-left: 1em; padding-right: 1em; text-align: center; vertical-align: top\">A friend of mine pinned<br>this product on Pinte ...</td>\n",
       "        <td style=\"padding-left: 1em; padding-right: 1em; text-align: center; vertical-align: top\">5.0</td>\n",
       "        <td style=\"padding-left: 1em; padding-right: 1em; text-align: center; vertical-align: top\">{&#x27;like&#x27;: 1.0, &#x27;and&#x27;: 1.0,<br>&#x27;changes&#x27;: 1.0, &#x27;the&#x27;: ...</td>\n",
       "        <td style=\"padding-left: 1em; padding-right: 1em; text-align: center; vertical-align: top\">1</td>\n",
       "    </tr>\n",
       "    <tr>\n",
       "        <td style=\"padding-left: 1em; padding-right: 1em; text-align: center; vertical-align: top\">Baby Tracker&amp;reg; - Daily<br>Childcare Journal, ...</td>\n",
       "        <td style=\"padding-left: 1em; padding-right: 1em; text-align: center; vertical-align: top\">This has been an easy way<br>for my nanny to record ...</td>\n",
       "        <td style=\"padding-left: 1em; padding-right: 1em; text-align: center; vertical-align: top\">4.0</td>\n",
       "        <td style=\"padding-left: 1em; padding-right: 1em; text-align: center; vertical-align: top\">{&#x27;in&#x27;: 1.0, &#x27;pages&#x27;: 1.0,<br>&#x27;out&#x27;: 1.0, &#x27;run&#x27;: 1.0, ...</td>\n",
       "        <td style=\"padding-left: 1em; padding-right: 1em; text-align: center; vertical-align: top\">1</td>\n",
       "    </tr>\n",
       "    <tr>\n",
       "        <td style=\"padding-left: 1em; padding-right: 1em; text-align: center; vertical-align: top\">Baby Tracker&amp;reg; - Daily<br>Childcare Journal, ...</td>\n",
       "        <td style=\"padding-left: 1em; padding-right: 1em; text-align: center; vertical-align: top\">I love this journal and<br>our nanny uses it ...</td>\n",
       "        <td style=\"padding-left: 1em; padding-right: 1em; text-align: center; vertical-align: top\">4.0</td>\n",
       "        <td style=\"padding-left: 1em; padding-right: 1em; text-align: center; vertical-align: top\">{&#x27;tracker&#x27;: 1.0,<br>&#x27;recommend&#x27;: 1.0, ...</td>\n",
       "        <td style=\"padding-left: 1em; padding-right: 1em; text-align: center; vertical-align: top\">1</td>\n",
       "    </tr>\n",
       "</table>\n",
       "[166752 rows x 5 columns]<br/>Note: Only the head of the SFrame is printed.<br/>You can use print_rows(num_rows=m, num_columns=n) to print more rows and columns.\n",
       "</div>"
      ],
      "text/plain": [
       "Columns:\n",
       "\tname\tstr\n",
       "\treview\tstr\n",
       "\trating\tfloat\n",
       "\tword_count\tdict\n",
       "\tsentiment\tint\n",
       "\n",
       "Rows: 166752\n",
       "\n",
       "Data:\n",
       "+-------------------------------+-------------------------------+--------+\n",
       "|              name             |             review            | rating |\n",
       "+-------------------------------+-------------------------------+--------+\n",
       "|     Planetwise Wipe Pouch     | it came early and was not ... |  5.0   |\n",
       "| Annas Dream Full Quilt wit... | Very soft and comfortable ... |  5.0   |\n",
       "| Stop Pacifier Sucking with... | This is a product well wor... |  5.0   |\n",
       "| Stop Pacifier Sucking with... | All of my kids have cried ... |  5.0   |\n",
       "| Stop Pacifier Sucking with... | When the Binky Fairy came ... |  5.0   |\n",
       "| A Tale of Baby's Days with... | Lovely book, it's bound ti... |  4.0   |\n",
       "| Baby Tracker&reg; - Daily ... | Perfect for new parents. W... |  5.0   |\n",
       "| Baby Tracker&reg; - Daily ... | A friend of mine pinned th... |  5.0   |\n",
       "| Baby Tracker&reg; - Daily ... | This has been an easy way ... |  4.0   |\n",
       "| Baby Tracker&reg; - Daily ... | I love this journal and ou... |  4.0   |\n",
       "+-------------------------------+-------------------------------+--------+\n",
       "+-------------------------------+-----------+\n",
       "|           word_count          | sentiment |\n",
       "+-------------------------------+-----------+\n",
       "| {'recommend': 1.0, 'moist'... |     1     |\n",
       "| {'quilt': 1.0, 'comfortabl... |     1     |\n",
       "| {'tool': 1.0, 'clever': 1.... |     1     |\n",
       "| {'rock': 1.0, 'many': 1.0,... |     1     |\n",
       "| {'thumb': 1.0, 'or': 1.0, ... |     1     |\n",
       "| {'for': 1.0, 'barnes': 1.0... |     1     |\n",
       "| {'right': 1.0, 'because': ... |     1     |\n",
       "| {'like': 1.0, 'and': 1.0, ... |     1     |\n",
       "| {'in': 1.0, 'pages': 1.0, ... |     1     |\n",
       "| {'tracker': 1.0, 'recommen... |     1     |\n",
       "+-------------------------------+-----------+\n",
       "[166752 rows x 5 columns]\n",
       "Note: Only the head of the SFrame is printed.\n",
       "You can use print_rows(num_rows=m, num_columns=n) to print more rows and columns."
      ]
     },
     "execution_count": 10,
     "metadata": {},
     "output_type": "execute_result"
    }
   ],
   "source": [
    "products"
   ]
  },
  {
   "cell_type": "code",
   "execution_count": 15,
   "metadata": {},
   "outputs": [
    {
     "data": {
      "text/html": [
       "<pre>Materializing SArray...</pre>"
      ],
      "text/plain": [
       "Materializing SArray..."
      ]
     },
     "metadata": {},
     "output_type": "display_data"
    },
    {
     "data": {
      "text/html": [
       "<pre>Done.</pre>"
      ],
      "text/plain": [
       "Done."
      ]
     },
     "metadata": {},
     "output_type": "display_data"
    },
    {
     "data": {
      "text/html": [
       "<pre>Materializing SArray...</pre>"
      ],
      "text/plain": [
       "Materializing SArray..."
      ]
     },
     "metadata": {},
     "output_type": "display_data"
    },
    {
     "data": {
      "text/html": [
       "<pre>Done.</pre>"
      ],
      "text/plain": [
       "Done."
      ]
     },
     "metadata": {},
     "output_type": "display_data"
    },
    {
     "data": {
      "text/html": [
       "<html>                 <body>                     <iframe style=\"border:0;margin:0\" width=\"800\" height=\"620\" srcdoc='<html lang=\"en\">                         <head>                             <script src=\"https://cdnjs.cloudflare.com/ajax/libs/vega/3.0.8/vega.js\"></script>                             <script src=\"https://cdnjs.cloudflare.com/ajax/libs/vega-embed/3.0.0-rc7/vega-embed.js\"></script>                             <script src=\"https://cdnjs.cloudflare.com/ajax/libs/vega-tooltip/0.5.1/vega-tooltip.min.js\"></script>                             <link rel=\"stylesheet\" type=\"text/css\" href=\"https://cdnjs.cloudflare.com/ajax/libs/vega-tooltip/0.5.1/vega-tooltip.min.css\">                             <style>                             .vega-actions > a{                                 color:white;                                 text-decoration: none;                                 font-family: \"Arial\";                                 cursor:pointer;                                 padding:5px;                                 background:#AAAAAA;                                 border-radius:4px;                                 padding-left:10px;                                 padding-right:10px;                                 margin-right:5px;                             }                             .vega-actions{                                 margin-top:20px;                                 text-align:center                             }                            .vega-actions > a{                                 background:#999999;                            }                             </style>                         </head>                         <body>                             <div id=\"vis\">                             </div>                             <script>                                 var vega_json = \"{\\\"autosize\\\": \\\"pad\\\", \\\"axes\\\": [{\\\"scale\\\": \\\"x\\\", \\\"title\\\": \\\"Values\\\", \\\"tickCount\\\": {\\\"signal\\\": \\\"ceil(width/40)\\\"}, \\\"zindex\\\": 1, \\\"labelOverlap\\\": true, \\\"orient\\\": \\\"bottom\\\"}, {\\\"domain\\\": false, \\\"scale\\\": \\\"x\\\", \\\"ticks\\\": false, \\\"labels\\\": false, \\\"tickCount\\\": {\\\"signal\\\": \\\"ceil(width/40)\\\"}, \\\"zindex\\\": 0, \\\"grid\\\": true, \\\"minExtent\\\": 0, \\\"gridScale\\\": \\\"y\\\", \\\"orient\\\": \\\"bottom\\\", \\\"maxExtent\\\": 0}, {\\\"scale\\\": \\\"y\\\", \\\"title\\\": \\\"Count\\\", \\\"tickCount\\\": {\\\"signal\\\": \\\"ceil(height/40)\\\"}, \\\"zindex\\\": 1, \\\"labelOverlap\\\": true, \\\"orient\\\": \\\"left\\\"}, {\\\"domain\\\": false, \\\"scale\\\": \\\"y\\\", \\\"ticks\\\": false, \\\"labels\\\": false, \\\"tickCount\\\": {\\\"signal\\\": \\\"ceil(height/40)\\\"}, \\\"zindex\\\": 0, \\\"grid\\\": true, \\\"minExtent\\\": 0, \\\"gridScale\\\": \\\"x\\\", \\\"orient\\\": \\\"left\\\", \\\"maxExtent\\\": 0}], \\\"description\\\": \\\"A simple bar chart with embedded data.\\\", \\\"title\\\": {\\\"text\\\": \\\"Distribution of Values [integer]\\\", \\\"offset\\\": 30}, \\\"config\\\": {\\\"style\\\": {\\\"rect\\\": {\\\"stroke\\\": \\\"rgba(200, 200, 200, 0.5)\\\"}, \\\"group-title\\\": {\\\"fontWeight\\\": \\\"normal\\\", \\\"font\\\": \\\"HelveticaNeue, Arial\\\", \\\"fontSize\\\": 29, \\\"fill\\\": \\\"rgba(0,0,0,0.65)\\\"}}, \\\"axisY\\\": {\\\"minExtent\\\": 30}, \\\"axis\\\": {\\\"titlePadding\\\": 30, \\\"labelPadding\\\": 10, \\\"labelFont\\\": \\\"HelveticaNeue, Arial\\\", \\\"labelFontSize\\\": 12, \\\"labelColor\\\": \\\"rgba(0,0,0,0.65)\\\", \\\"titleFont\\\": \\\"HelveticaNeue-Medium, Arial\\\", \\\"titleFontSize\\\": 15, \\\"titleColor\\\": \\\"rgba(0,0,0,0.65)\\\", \\\"titleFontWeight\\\": \\\"normal\\\"}}, \\\"scales\\\": [{\\\"domain\\\": {\\\"sort\\\": true, \\\"fields\\\": [\\\"left\\\", \\\"right\\\"], \\\"data\\\": \\\"data_0\\\"}, \\\"name\\\": \\\"x\\\", \\\"zero\\\": false, \\\"range\\\": [0, {\\\"signal\\\": \\\"width\\\"}], \\\"type\\\": \\\"linear\\\", \\\"nice\\\": true}, {\\\"domain\\\": {\\\"field\\\": \\\"count\\\", \\\"data\\\": \\\"data_0\\\"}, \\\"name\\\": \\\"y\\\", \\\"zero\\\": true, \\\"range\\\": [{\\\"signal\\\": \\\"height\\\"}, 0], \\\"type\\\": \\\"linear\\\", \\\"nice\\\": true}], \\\"style\\\": \\\"cell\\\", \\\"height\\\": 400, \\\"padding\\\": 5, \\\"width\\\": 600, \\\"marks\\\": [{\\\"encode\\\": {\\\"hover\\\": {\\\"fill\\\": {\\\"value\\\": \\\"#7EC2F3\\\"}}, \\\"update\\\": {\\\"x2\\\": {\\\"field\\\": \\\"right\\\", \\\"scale\\\": \\\"x\\\"}, \\\"x\\\": {\\\"field\\\": \\\"left\\\", \\\"scale\\\": \\\"x\\\"}, \\\"y2\\\": {\\\"scale\\\": \\\"y\\\", \\\"value\\\": 0}, \\\"y\\\": {\\\"field\\\": \\\"count\\\", \\\"scale\\\": \\\"y\\\"}, \\\"fill\\\": {\\\"value\\\": \\\"#108EE9\\\"}}}, \\\"from\\\": {\\\"data\\\": \\\"data_0\\\"}, \\\"style\\\": [\\\"rect\\\"], \\\"type\\\": \\\"rect\\\", \\\"name\\\": \\\"marks\\\"}], \\\"$schema\\\": \\\"https://vega.github.io/schema/vega/v3.0.json\\\", \\\"data\\\": [{\\\"progress\\\": 100.0, \\\"values\\\": [{\\\"count\\\": 26493, \\\"right\\\": 0.03988, \\\"left\\\": -0.01132}, {\\\"count\\\": 0, \\\"right\\\": 0.09108, \\\"left\\\": 0.03988}, {\\\"count\\\": 0, \\\"right\\\": 0.14228, \\\"left\\\": 0.09108}, {\\\"count\\\": 0, \\\"right\\\": 0.19348, \\\"left\\\": 0.14228}, {\\\"count\\\": 0, \\\"right\\\": 0.24468, \\\"left\\\": 0.19348}, {\\\"count\\\": 0, \\\"right\\\": 0.29588, \\\"left\\\": 0.24468}, {\\\"count\\\": 0, \\\"right\\\": 0.34708, \\\"left\\\": 0.29588}, {\\\"count\\\": 0, \\\"right\\\": 0.39828, \\\"left\\\": 0.34708}, {\\\"count\\\": 0, \\\"right\\\": 0.44948, \\\"left\\\": 0.39828}, {\\\"count\\\": 0, \\\"right\\\": 0.50068, \\\"left\\\": 0.44948}, {\\\"count\\\": 0, \\\"right\\\": 0.55188, \\\"left\\\": 0.50068}, {\\\"count\\\": 0, \\\"right\\\": 0.60308, \\\"left\\\": 0.55188}, {\\\"count\\\": 0, \\\"right\\\": 0.65428, \\\"left\\\": 0.60308}, {\\\"count\\\": 0, \\\"right\\\": 0.70548, \\\"left\\\": 0.65428}, {\\\"count\\\": 0, \\\"right\\\": 0.75668, \\\"left\\\": 0.70548}, {\\\"count\\\": 0, \\\"right\\\": 0.80788, \\\"left\\\": 0.75668}, {\\\"count\\\": 0, \\\"right\\\": 0.85908, \\\"left\\\": 0.80788}, {\\\"count\\\": 0, \\\"right\\\": 0.91028, \\\"left\\\": 0.85908}, {\\\"count\\\": 0, \\\"right\\\": 0.96148, \\\"left\\\": 0.91028}, {\\\"count\\\": 140259, \\\"right\\\": 1.01268, \\\"left\\\": 0.96148}], \\\"name\\\": \\\"source_2\\\"}, {\\\"source\\\": \\\"source_2\\\", \\\"name\\\": \\\"data_0\\\", \\\"transform\\\": [{\\\"expr\\\": \\\"toNumber(datum[\\\\\\\"left\\\\\\\"])\\\", \\\"as\\\": \\\"left\\\", \\\"type\\\": \\\"formula\\\"}, {\\\"expr\\\": \\\"toNumber(datum[\\\\\\\"right\\\\\\\"])\\\", \\\"as\\\": \\\"right\\\", \\\"type\\\": \\\"formula\\\"}, {\\\"expr\\\": \\\"toNumber(datum[\\\\\\\"count\\\\\\\"])\\\", \\\"as\\\": \\\"count\\\", \\\"type\\\": \\\"formula\\\"}, {\\\"expr\\\": \\\"datum[\\\\\\\"left\\\\\\\"] !== null && !isNaN(datum[\\\\\\\"left\\\\\\\"]) && datum[\\\\\\\"count\\\\\\\"] !== null && !isNaN(datum[\\\\\\\"count\\\\\\\"])\\\", \\\"type\\\": \\\"filter\\\"}]}]}\";                                 var vega_json_parsed = JSON.parse(vega_json);                                 var toolTipOpts = {                                     showAllFields: true                                 };                                 if(vega_json_parsed[\"metadata\"] != null){                                     if(vega_json_parsed[\"metadata\"][\"bubbleOpts\"] != null){                                         toolTipOpts = vega_json_parsed[\"metadata\"][\"bubbleOpts\"];                                     };                                 };                                 vegaEmbed(\"#vis\", vega_json_parsed).then(function (result) {                                     vegaTooltip.vega(result.view, toolTipOpts);                                  });                             </script>                         </body>                     </html>' src=\"demo_iframe_srcdoc.htm\">                         <p>Your browser does not support iframes.</p>                     </iframe>                 </body>             </html>"
      ],
      "text/plain": [
       "<IPython.core.display.HTML object>"
      ]
     },
     "metadata": {},
     "output_type": "display_data"
    }
   ],
   "source": [
    "products['sentiment'].show()"
   ]
  },
  {
   "cell_type": "markdown",
   "metadata": {},
   "source": [
    "# Train our sentiment classifier"
   ]
  },
  {
   "cell_type": "code",
   "execution_count": 12,
   "metadata": {},
   "outputs": [],
   "source": [
    "train_data,test_data = products.random_split(.8,seed=0)"
   ]
  },
  {
   "cell_type": "code",
   "execution_count": 15,
   "metadata": {},
   "outputs": [
    {
     "data": {
      "text/html": [
       "<pre>Logistic regression:</pre>"
      ],
      "text/plain": [
       "Logistic regression:"
      ]
     },
     "metadata": {},
     "output_type": "display_data"
    },
    {
     "data": {
      "text/html": [
       "<pre>--------------------------------------------------------</pre>"
      ],
      "text/plain": [
       "--------------------------------------------------------"
      ]
     },
     "metadata": {},
     "output_type": "display_data"
    },
    {
     "data": {
      "text/html": [
       "<pre>Number of examples          : 133448</pre>"
      ],
      "text/plain": [
       "Number of examples          : 133448"
      ]
     },
     "metadata": {},
     "output_type": "display_data"
    },
    {
     "data": {
      "text/html": [
       "<pre>Number of classes           : 2</pre>"
      ],
      "text/plain": [
       "Number of classes           : 2"
      ]
     },
     "metadata": {},
     "output_type": "display_data"
    },
    {
     "data": {
      "text/html": [
       "<pre>Number of feature columns   : 1</pre>"
      ],
      "text/plain": [
       "Number of feature columns   : 1"
      ]
     },
     "metadata": {},
     "output_type": "display_data"
    },
    {
     "data": {
      "text/html": [
       "<pre>Number of unpacked features : 57356</pre>"
      ],
      "text/plain": [
       "Number of unpacked features : 57356"
      ]
     },
     "metadata": {},
     "output_type": "display_data"
    },
    {
     "data": {
      "text/html": [
       "<pre>Number of coefficients      : 57357</pre>"
      ],
      "text/plain": [
       "Number of coefficients      : 57357"
      ]
     },
     "metadata": {},
     "output_type": "display_data"
    },
    {
     "data": {
      "text/html": [
       "<pre>Starting L-BFGS</pre>"
      ],
      "text/plain": [
       "Starting L-BFGS"
      ]
     },
     "metadata": {},
     "output_type": "display_data"
    },
    {
     "data": {
      "text/html": [
       "<pre>--------------------------------------------------------</pre>"
      ],
      "text/plain": [
       "--------------------------------------------------------"
      ]
     },
     "metadata": {},
     "output_type": "display_data"
    },
    {
     "data": {
      "text/html": [
       "<pre>+-----------+----------+-----------+--------------+-------------------+---------------------+</pre>"
      ],
      "text/plain": [
       "+-----------+----------+-----------+--------------+-------------------+---------------------+"
      ]
     },
     "metadata": {},
     "output_type": "display_data"
    },
    {
     "data": {
      "text/html": [
       "<pre>| Iteration | Passes   | Step size | Elapsed Time | Training Accuracy | Validation Accuracy |</pre>"
      ],
      "text/plain": [
       "| Iteration | Passes   | Step size | Elapsed Time | Training Accuracy | Validation Accuracy |"
      ]
     },
     "metadata": {},
     "output_type": "display_data"
    },
    {
     "data": {
      "text/html": [
       "<pre>+-----------+----------+-----------+--------------+-------------------+---------------------+</pre>"
      ],
      "text/plain": [
       "+-----------+----------+-----------+--------------+-------------------+---------------------+"
      ]
     },
     "metadata": {},
     "output_type": "display_data"
    },
    {
     "data": {
      "text/html": [
       "<pre>| 0         | 4        | 0.250000  | 1.119501     | 0.841421          | 0.840019            |</pre>"
      ],
      "text/plain": [
       "| 0         | 4        | 0.250000  | 1.119501     | 0.841421          | 0.840019            |"
      ]
     },
     "metadata": {},
     "output_type": "display_data"
    },
    {
     "data": {
      "text/html": [
       "<pre>| 1         | 9        | 3.250000  | 3.112697     | 0.931359          | 0.911362            |</pre>"
      ],
      "text/plain": [
       "| 1         | 9        | 3.250000  | 3.112697     | 0.931359          | 0.911362            |"
      ]
     },
     "metadata": {},
     "output_type": "display_data"
    },
    {
     "data": {
      "text/html": [
       "<pre>| 2         | 11       | 2.669978  | 4.039800     | 0.938650          | 0.916466            |</pre>"
      ],
      "text/plain": [
       "| 2         | 11       | 2.669978  | 4.039800     | 0.938650          | 0.916466            |"
      ]
     },
     "metadata": {},
     "output_type": "display_data"
    },
    {
     "data": {
      "text/html": [
       "<pre>| 3         | 12       | 2.669978  | 4.553273     | 0.927417          | 0.901814            |</pre>"
      ],
      "text/plain": [
       "| 3         | 12       | 2.669978  | 4.553273     | 0.927417          | 0.901814            |"
      ]
     },
     "metadata": {},
     "output_type": "display_data"
    },
    {
     "data": {
      "text/html": [
       "<pre>| 4         | 14       | 1.326072  | 5.345129     | 0.945200          | 0.918088            |</pre>"
      ],
      "text/plain": [
       "| 4         | 14       | 1.326072  | 5.345129     | 0.945200          | 0.918088            |"
      ]
     },
     "metadata": {},
     "output_type": "display_data"
    },
    {
     "data": {
      "text/html": [
       "<pre>| 9         | 20       | 1.326072  | 8.376325     | 0.977654          | 0.917698            |</pre>"
      ],
      "text/plain": [
       "| 9         | 20       | 1.326072  | 8.376325     | 0.977654          | 0.917698            |"
      ]
     },
     "metadata": {},
     "output_type": "display_data"
    },
    {
     "data": {
      "text/html": [
       "<pre>+-----------+----------+-----------+--------------+-------------------+---------------------+</pre>"
      ],
      "text/plain": [
       "+-----------+----------+-----------+--------------+-------------------+---------------------+"
      ]
     },
     "metadata": {},
     "output_type": "display_data"
    }
   ],
   "source": [
    "sentiment_model = turicreate.logistic_classifier.create(train_data, \n",
    "                                                        target='sentiment', \n",
    "                                                        features=['word_count'], \n",
    "                                                        validation_set=test_data)"
   ]
  },
  {
   "cell_type": "markdown",
   "metadata": {},
   "source": [
    "# Evaluate the sentiment model"
   ]
  },
  {
   "cell_type": "code",
   "execution_count": 67,
   "metadata": {},
   "outputs": [
    {
     "data": {
      "text/plain": [
       "{'roc_curve': Columns:\n",
       " \tthreshold\tfloat\n",
       " \tfpr\tfloat\n",
       " \ttpr\tfloat\n",
       " \tp\tint\n",
       " \tn\tint\n",
       " \n",
       " Rows: 1001\n",
       " \n",
       " Data:\n",
       " +-----------+--------------------+--------------------+-------+------+\n",
       " | threshold |        fpr         |        tpr         |   p   |  n   |\n",
       " +-----------+--------------------+--------------------+-------+------+\n",
       " |    0.0    |        1.0         |        1.0         | 27976 | 5328 |\n",
       " |   0.001   | 0.698948948948949  | 0.9933514440949385 | 27976 | 5328 |\n",
       " |   0.002   | 0.6619744744744744 | 0.9922076065198742 | 27976 | 5328 |\n",
       " |   0.003   | 0.6385135135135135 | 0.9909922790963683 | 27976 | 5328 |\n",
       " |   0.004   |  0.62256006006006  | 0.9903846153846154 | 27976 | 5328 |\n",
       " |   0.005   | 0.6112987987987988 | 0.989848441521304  | 27976 | 5328 |\n",
       " |   0.006   | 0.6002252252252253 | 0.9894195024306548 | 27976 | 5328 |\n",
       " |   0.007   | 0.589527027027027  | 0.9888475836431226 | 27976 | 5328 |\n",
       " |   0.008   | 0.5816441441441441 | 0.9883828996282528 | 27976 | 5328 |\n",
       " |   0.009   | 0.574512012012012  | 0.9880611953102659 | 27976 | 5328 |\n",
       " +-----------+--------------------+--------------------+-------+------+\n",
       " [1001 rows x 5 columns]\n",
       " Note: Only the head of the SFrame is printed.\n",
       " You can use print_rows(num_rows=m, num_columns=n) to print more rows and columns.}"
      ]
     },
     "execution_count": 67,
     "metadata": {},
     "output_type": "execute_result"
    }
   ],
   "source": [
    "evaluation = sentiment_model.evaluate(test_data, metric = 'roc_curve')\n",
    "# a way to explore confusion matrix (false positives and negatives)"
   ]
  },
  {
   "cell_type": "code",
   "execution_count": 29,
   "metadata": {},
   "outputs": [
    {
     "data": {
      "text/html": [
       "<pre>Materializing X axis SArray</pre>"
      ],
      "text/plain": [
       "Materializing X axis SArray"
      ]
     },
     "metadata": {},
     "output_type": "display_data"
    },
    {
     "data": {
      "text/html": [
       "<pre>Materializing Y axis SArray</pre>"
      ],
      "text/plain": [
       "Materializing Y axis SArray"
      ]
     },
     "metadata": {},
     "output_type": "display_data"
    },
    {
     "data": {
      "text/html": [
       "<html>                 <body>                     <iframe style=\"border:0;margin:0\" width=\"920\" height=\"770\" srcdoc='<html lang=\"en\">                         <head>                             <script src=\"https://cdnjs.cloudflare.com/ajax/libs/vega/5.4.0/vega.js\"></script>                             <script src=\"https://cdnjs.cloudflare.com/ajax/libs/vega-embed/4.0.0/vega-embed.js\"></script>                             <script src=\"https://cdnjs.cloudflare.com/ajax/libs/vega-tooltip/0.5.1/vega-tooltip.min.js\"></script>                             <link rel=\"stylesheet\" type=\"text/css\" href=\"https://cdnjs.cloudflare.com/ajax/libs/vega-tooltip/0.5.1/vega-tooltip.min.css\">                             <style>                             .vega-actions > a{                                 color:white;                                 text-decoration: none;                                 font-family: \"Arial\";                                 cursor:pointer;                                 padding:5px;                                 background:#AAAAAA;                                 border-radius:4px;                                 padding-left:10px;                                 padding-right:10px;                                 margin-right:5px;                             }                             .vega-actions{                                 margin-top:20px;                                 text-align:center                             }                            .vega-actions > a{                                 background:#999999;                            }                             </style>                         </head>                         <body>                             <div id=\"vis\">                             </div>                             <script>                                 var vega_json = \"{\\\"$schema\\\": \\\"https://vega.github.io/schema/vega/v4.json\\\", \\\"autosize\\\": {\\\"type\\\": \\\"fit\\\", \\\"resize\\\": false, \\\"contains\\\": \\\"padding\\\"}, \\\"padding\\\": 8, \\\"width\\\": 720, \\\"height\\\": 550, \\\"style\\\": \\\"cell\\\", \\\"title\\\": \\\"X vs. Y\\\", \\\"data\\\": [{\\\"name\\\": \\\"source_2\\\", \\\"values\\\": [{\\\"x\\\": 1.0, \\\"y\\\": 1.0}, {\\\"x\\\": 0.698949, \\\"y\\\": 0.993351}, {\\\"x\\\": 0.661974, \\\"y\\\": 0.992208}, {\\\"x\\\": 0.638514, \\\"y\\\": 0.990992}, {\\\"x\\\": 0.62256, \\\"y\\\": 0.990385}, {\\\"x\\\": 0.611299, \\\"y\\\": 0.989848}, {\\\"x\\\": 0.600225, \\\"y\\\": 0.98942}, {\\\"x\\\": 0.589527, \\\"y\\\": 0.988848}, {\\\"x\\\": 0.581644, \\\"y\\\": 0.988383}, {\\\"x\\\": 0.574512, \\\"y\\\": 0.988061}, {\\\"x\\\": 0.566441, \\\"y\\\": 0.987739}, {\\\"x\\\": 0.562312, \\\"y\\\": 0.987454}, {\\\"x\\\": 0.556306, \\\"y\\\": 0.987311}, {\\\"x\\\": 0.551614, \\\"y\\\": 0.987203}, {\\\"x\\\": 0.54711, \\\"y\\\": 0.986953}, {\\\"x\\\": 0.541854, \\\"y\\\": 0.986774}, {\\\"x\\\": 0.536411, \\\"y\\\": 0.986703}, {\\\"x\\\": 0.531907, \\\"y\\\": 0.986381}, {\\\"x\\\": 0.527965, \\\"y\\\": 0.986202}, {\\\"x\\\": 0.523836, \\\"y\\\": 0.986024}, {\\\"x\\\": 0.520646, \\\"y\\\": 0.985988}, {\\\"x\\\": 0.517455, \\\"y\\\": 0.985738}, {\\\"x\\\": 0.514077, \\\"y\\\": 0.985631}, {\\\"x\\\": 0.511824, \\\"y\\\": 0.985523}, {\\\"x\\\": 0.508446, \\\"y\\\": 0.985416}, {\\\"x\\\": 0.504505, \\\"y\\\": 0.985345}, {\\\"x\\\": 0.501877, \\\"y\\\": 0.985202}, {\\\"x\\\": 0.499437, \\\"y\\\": 0.98513}, {\\\"x\\\": 0.49756, \\\"y\\\": 0.984951}, {\\\"x\\\": 0.495495, \\\"y\\\": 0.984844}, {\\\"x\\\": 0.493806, \\\"y\\\": 0.984737}, {\\\"x\\\": 0.492117, \\\"y\\\": 0.984665}, {\\\"x\\\": 0.489865, \\\"y\\\": 0.98463}, {\\\"x\\\": 0.48705, \\\"y\\\": 0.984379}, {\\\"x\\\": 0.48461, \\\"y\\\": 0.984308}, {\\\"x\\\": 0.48292, \\\"y\\\": 0.984201}, {\\\"x\\\": 0.481231, \\\"y\\\": 0.984165}, {\\\"x\\\": 0.479542, \\\"y\\\": 0.984058}, {\\\"x\\\": 0.47729, \\\"y\\\": 0.983808}, {\\\"x\\\": 0.47485, \\\"y\\\": 0.983736}, {\\\"x\\\": 0.472973, \\\"y\\\": 0.983522}, {\\\"x\\\": 0.472035, \\\"y\\\": 0.983414}, {\\\"x\\\": 0.470721, \\\"y\\\": 0.983307}, {\\\"x\\\": 0.469595, \\\"y\\\": 0.983236}, {\\\"x\\\": 0.468468, \\\"y\\\": 0.983164}, {\\\"x\\\": 0.46753, \\\"y\\\": 0.983093}, {\\\"x\\\": 0.465278, \\\"y\\\": 0.982914}, {\\\"x\\\": 0.463776, \\\"y\\\": 0.982664}, {\\\"x\\\": 0.462838, \\\"y\\\": 0.982449}, {\\\"x\\\": 0.461336, \\\"y\\\": 0.982342}, {\\\"x\\\": 0.459459, \\\"y\\\": 0.982199}, {\\\"x\\\": 0.458333, \\\"y\\\": 0.982128}, {\\\"x\\\": 0.457207, \\\"y\\\": 0.98202}, {\\\"x\\\": 0.456269, \\\"y\\\": 0.981842}, {\\\"x\\\": 0.45533, \\\"y\\\": 0.981734}, {\\\"x\\\": 0.454204, \\\"y\\\": 0.981663}, {\\\"x\\\": 0.453453, \\\"y\\\": 0.98152}, {\\\"x\\\": 0.451952, \\\"y\\\": 0.981448}, {\\\"x\\\": 0.450075, \\\"y\\\": 0.981377}, {\\\"x\\\": 0.448949, \\\"y\\\": 0.981198}, {\\\"x\\\": 0.448574, \\\"y\\\": 0.980984}, {\\\"x\\\": 0.447635, \\\"y\\\": 0.980769}, {\\\"x\\\": 0.446321, \\\"y\\\": 0.980698}, {\\\"x\\\": 0.44482, \\\"y\\\": 0.980591}, {\\\"x\\\": 0.443318, \\\"y\\\": 0.980591}, {\\\"x\\\": 0.442192, \\\"y\\\": 0.980448}, {\\\"x\\\": 0.440878, \\\"y\\\": 0.98034}, {\\\"x\\\": 0.440503, \\\"y\\\": 0.980162}, {\\\"x\\\": 0.439189, \\\"y\\\": 0.98009}, {\\\"x\\\": 0.438626, \\\"y\\\": 0.979947}, {\\\"x\\\": 0.438438, \\\"y\\\": 0.979804}, {\\\"x\\\": 0.437875, \\\"y\\\": 0.979697}, {\\\"x\\\": 0.436749, \\\"y\\\": 0.979554}, {\\\"x\\\": 0.435811, \\\"y\\\": 0.979411}, {\\\"x\\\": 0.435248, \\\"y\\\": 0.979268}, {\\\"x\\\": 0.434309, \\\"y\\\": 0.979196}, {\\\"x\\\": 0.432995, \\\"y\\\": 0.979089}, {\\\"x\\\": 0.432245, \\\"y\\\": 0.978946}, {\\\"x\\\": 0.431494, \\\"y\\\": 0.978768}, {\\\"x\\\": 0.429805, \\\"y\\\": 0.978696}, {\\\"x\\\": 0.427365, \\\"y\\\": 0.978517}, {\\\"x\\\": 0.426614, \\\"y\\\": 0.978517}, {\\\"x\\\": 0.425488, \\\"y\\\": 0.978446}, {\\\"x\\\": 0.423986, \\\"y\\\": 0.978196}, {\\\"x\\\": 0.423423, \\\"y\\\": 0.978124}, {\\\"x\\\": 0.42286, \\\"y\\\": 0.978017}, {\\\"x\\\": 0.422297, \\\"y\\\": 0.977945}, {\\\"x\\\": 0.421734, \\\"y\\\": 0.977838}, {\\\"x\\\": 0.42042, \\\"y\\\": 0.977731}, {\\\"x\\\": 0.419294, \\\"y\\\": 0.977695}, {\\\"x\\\": 0.41798, \\\"y\\\": 0.977624}, {\\\"x\\\": 0.41723, \\\"y\\\": 0.977552}, {\\\"x\\\": 0.415916, \\\"y\\\": 0.977516}, {\\\"x\\\": 0.414977, \\\"y\\\": 0.977481}, {\\\"x\\\": 0.414039, \\\"y\\\": 0.977481}, {\\\"x\\\": 0.413288, \\\"y\\\": 0.977338}, {\\\"x\\\": 0.412725, \\\"y\\\": 0.977338}, {\\\"x\\\": 0.412162, \\\"y\\\": 0.977302}, {\\\"x\\\": 0.411599, \\\"y\\\": 0.977195}, {\\\"x\\\": 0.410285, \\\"y\\\": 0.977159}, {\\\"x\\\": 0.408784, \\\"y\\\": 0.977088}, {\\\"x\\\": 0.407658, \\\"y\\\": 0.97698}, {\\\"x\\\": 0.406719, \\\"y\\\": 0.97698}, {\\\"x\\\": 0.405968, \\\"y\\\": 0.976945}, {\\\"x\\\": 0.405405, \\\"y\\\": 0.976837}, {\\\"x\\\": 0.404467, \\\"y\\\": 0.976766}, {\\\"x\\\": 0.404092, \\\"y\\\": 0.976694}, {\\\"x\\\": 0.403529, \\\"y\\\": 0.976623}, {\\\"x\\\": 0.402965, \\\"y\\\": 0.976444}, {\\\"x\\\": 0.402402, \\\"y\\\": 0.976444}, {\\\"x\\\": 0.401839, \\\"y\\\": 0.976301}, {\\\"x\\\": 0.401464, \\\"y\\\": 0.976265}, {\\\"x\\\": 0.400713, \\\"y\\\": 0.97623}, {\\\"x\\\": 0.399962, \\\"y\\\": 0.976194}, {\\\"x\\\": 0.399212, \\\"y\\\": 0.976122}, {\\\"x\\\": 0.398461, \\\"y\\\": 0.976015}, {\\\"x\\\": 0.398273, \\\"y\\\": 0.975908}, {\\\"x\\\": 0.397898, \\\"y\\\": 0.975872}, {\\\"x\\\": 0.397523, \\\"y\\\": 0.975836}, {\\\"x\\\": 0.396959, \\\"y\\\": 0.975765}, {\\\"x\\\": 0.396396, \\\"y\\\": 0.975729}, {\\\"x\\\": 0.395646, \\\"y\\\": 0.97555}, {\\\"x\\\": 0.394707, \\\"y\\\": 0.975479}, {\\\"x\\\": 0.393769, \\\"y\\\": 0.975372}, {\\\"x\\\": 0.393769, \\\"y\\\": 0.975336}, {\\\"x\\\": 0.39283, \\\"y\\\": 0.975229}, {\\\"x\\\": 0.39283, \\\"y\\\": 0.975157}, {\\\"x\\\": 0.392643, \\\"y\\\": 0.975086}, {\\\"x\\\": 0.391517, \\\"y\\\": 0.975014}, {\\\"x\\\": 0.391517, \\\"y\\\": 0.975014}, {\\\"x\\\": 0.391329, \\\"y\\\": 0.974979}, {\\\"x\\\": 0.39039, \\\"y\\\": 0.974907}, {\\\"x\\\": 0.390203, \\\"y\\\": 0.974836}, {\\\"x\\\": 0.389077, \\\"y\\\": 0.974764}, {\\\"x\\\": 0.388326, \\\"y\\\": 0.974728}, {\\\"x\\\": 0.3872, \\\"y\\\": 0.974693}, {\\\"x\\\": 0.386637, \\\"y\\\": 0.974693}, {\\\"x\\\": 0.385698, \\\"y\\\": 0.974585}, {\\\"x\\\": 0.38476, \\\"y\\\": 0.974478}, {\\\"x\\\": 0.384009, \\\"y\\\": 0.974371}, {\\\"x\\\": 0.383446, \\\"y\\\": 0.974264}, {\\\"x\\\": 0.383258, \\\"y\\\": 0.974156}, {\\\"x\\\": 0.382883, \\\"y\\\": 0.974121}, {\\\"x\\\": 0.382132, \\\"y\\\": 0.974049}, {\\\"x\\\": 0.381757, \\\"y\\\": 0.973978}, {\\\"x\\\": 0.381757, \\\"y\\\": 0.973942}, {\\\"x\\\": 0.381194, \\\"y\\\": 0.973906}, {\\\"x\\\": 0.380443, \\\"y\\\": 0.97387}, {\\\"x\\\": 0.379317, \\\"y\\\": 0.973835}, {\\\"x\\\": 0.378378, \\\"y\\\": 0.973692}, {\\\"x\\\": 0.37744, \\\"y\\\": 0.973692}, {\\\"x\\\": 0.377065, \\\"y\\\": 0.973656}, {\\\"x\\\": 0.377065, \\\"y\\\": 0.973513}, {\\\"x\\\": 0.376877, \\\"y\\\": 0.973442}, {\\\"x\\\": 0.376502, \\\"y\\\": 0.97337}, {\\\"x\\\": 0.375938, \\\"y\\\": 0.97337}, {\\\"x\\\": 0.375563, \\\"y\\\": 0.973334}, {\\\"x\\\": 0.375, \\\"y\\\": 0.973227}, {\\\"x\\\": 0.374812, \\\"y\\\": 0.97312}, {\\\"x\\\": 0.373874, \\\"y\\\": 0.973048}, {\\\"x\\\": 0.373498, \\\"y\\\": 0.972977}, {\\\"x\\\": 0.373123, \\\"y\\\": 0.972941}, {\\\"x\\\": 0.37256, \\\"y\\\": 0.972834}, {\\\"x\\\": 0.371997, \\\"y\\\": 0.972619}, {\\\"x\\\": 0.371434, \\\"y\\\": 0.972548}, {\\\"x\\\": 0.370871, \\\"y\\\": 0.972512}, {\\\"x\\\": 0.37012, \\\"y\\\": 0.972441}, {\\\"x\\\": 0.369745, \\\"y\\\": 0.972441}, {\\\"x\\\": 0.369557, \\\"y\\\": 0.972405}, {\\\"x\\\": 0.369182, \\\"y\\\": 0.97219}, {\\\"x\\\": 0.368431, \\\"y\\\": 0.972119}, {\\\"x\\\": 0.367868, \\\"y\\\": 0.972047}, {\\\"x\\\": 0.367305, \\\"y\\\": 0.972012}, {\\\"x\\\": 0.366929, \\\"y\\\": 0.971976}, {\\\"x\\\": 0.365991, \\\"y\\\": 0.971976}, {\\\"x\\\": 0.365616, \\\"y\\\": 0.97194}, {\\\"x\\\": 0.365428, \\\"y\\\": 0.97194}, {\\\"x\\\": 0.365053, \\\"y\\\": 0.971869}, {\\\"x\\\": 0.365053, \\\"y\\\": 0.971833}, {\\\"x\\\": 0.364489, \\\"y\\\": 0.971833}, {\\\"x\\\": 0.364114, \\\"y\\\": 0.971797}, {\\\"x\\\": 0.363176, \\\"y\\\": 0.971797}, {\\\"x\\\": 0.363176, \\\"y\\\": 0.971797}, {\\\"x\\\": 0.362988, \\\"y\\\": 0.971762}, {\\\"x\\\": 0.362237, \\\"y\\\": 0.97169}, {\\\"x\\\": 0.361674, \\\"y\\\": 0.971583}, {\\\"x\\\": 0.361299, \\\"y\\\": 0.971547}, {\\\"x\\\": 0.360736, \\\"y\\\": 0.971476}, {\\\"x\\\": 0.360173, \\\"y\\\": 0.971368}, {\\\"x\\\": 0.359797, \\\"y\\\": 0.971297}, {\\\"x\\\": 0.35961, \\\"y\\\": 0.971261}, {\\\"x\\\": 0.359234, \\\"y\\\": 0.971154}, {\\\"x\\\": 0.358671, \\\"y\\\": 0.971118}, {\\\"x\\\": 0.358483, \\\"y\\\": 0.971082}, {\\\"x\\\": 0.358108, \\\"y\\\": 0.971082}, {\\\"x\\\": 0.357733, \\\"y\\\": 0.971082}, {\\\"x\\\": 0.357357, \\\"y\\\": 0.971011}, {\\\"x\\\": 0.356607, \\\"y\\\": 0.970939}, {\\\"x\\\": 0.355668, \\\"y\\\": 0.970796}, {\\\"x\\\": 0.355668, \\\"y\\\": 0.970761}, {\\\"x\\\": 0.355293, \\\"y\\\": 0.970689}, {\\\"x\\\": 0.355105, \\\"y\\\": 0.970546}, {\\\"x\\\": 0.355105, \\\"y\\\": 0.97051}, {\\\"x\\\": 0.354542, \\\"y\\\": 0.970367}, {\\\"x\\\": 0.353791, \\\"y\\\": 0.970296}, {\\\"x\\\": 0.353041, \\\"y\\\": 0.970153}, {\\\"x\\\": 0.352477, \\\"y\\\": 0.97001}, {\\\"x\\\": 0.352102, \\\"y\\\": 0.969903}, {\\\"x\\\": 0.351164, \\\"y\\\": 0.969867}, {\\\"x\\\": 0.350413, \\\"y\\\": 0.969796}, {\\\"x\\\": 0.350413, \\\"y\\\": 0.969724}, {\\\"x\\\": 0.349287, \\\"y\\\": 0.969724}, {\\\"x\\\": 0.348536, \\\"y\\\": 0.969653}, {\\\"x\\\": 0.348348, \\\"y\\\": 0.969617}, {\\\"x\\\": 0.347973, \\\"y\\\": 0.96951}, {\\\"x\\\": 0.347222, \\\"y\\\": 0.969474}, {\\\"x\\\": 0.347035, \\\"y\\\": 0.969474}, {\\\"x\\\": 0.346471, \\\"y\\\": 0.969259}, {\\\"x\\\": 0.345721, \\\"y\\\": 0.969188}, {\\\"x\\\": 0.34497, \\\"y\\\": 0.969152}, {\\\"x\\\": 0.344219, \\\"y\\\": 0.969081}, {\\\"x\\\": 0.344219, \\\"y\\\": 0.969009}, {\\\"x\\\": 0.343844, \\\"y\\\": 0.968973}, {\\\"x\\\": 0.343468, \\\"y\\\": 0.968866}, {\\\"x\\\": 0.343281, \\\"y\\\": 0.968795}, {\\\"x\\\": 0.343093, \\\"y\\\": 0.968759}, {\\\"x\\\": 0.342718, \\\"y\\\": 0.968723}, {\\\"x\\\": 0.342155, \\\"y\\\": 0.968652}, {\\\"x\\\": 0.341779, \\\"y\\\": 0.96858}, {\\\"x\\\": 0.340841, \\\"y\\\": 0.968437}, {\\\"x\\\": 0.340465, \\\"y\\\": 0.968401}, {\\\"x\\\": 0.34009, \\\"y\\\": 0.968366}, {\\\"x\\\": 0.339902, \\\"y\\\": 0.968294}, {\\\"x\\\": 0.339715, \\\"y\\\": 0.968294}, {\\\"x\\\": 0.339527, \\\"y\\\": 0.968259}, {\\\"x\\\": 0.338589, \\\"y\\\": 0.968223}, {\\\"x\\\": 0.338589, \\\"y\\\": 0.968223}, {\\\"x\\\": 0.338026, \\\"y\\\": 0.968151}, {\\\"x\\\": 0.33765, \\\"y\\\": 0.968116}, {\\\"x\\\": 0.337462, \\\"y\\\": 0.968008}, {\\\"x\\\": 0.337087, \\\"y\\\": 0.967973}, {\\\"x\\\": 0.337087, \\\"y\\\": 0.967937}, {\\\"x\\\": 0.336524, \\\"y\\\": 0.967901}, {\\\"x\\\": 0.336524, \\\"y\\\": 0.967865}, {\\\"x\\\": 0.335961, \\\"y\\\": 0.96783}, {\\\"x\\\": 0.335773, \\\"y\\\": 0.967794}, {\\\"x\\\": 0.33521, \\\"y\\\": 0.967722}, {\\\"x\\\": 0.335023, \\\"y\\\": 0.967722}, {\\\"x\\\": 0.334647, \\\"y\\\": 0.967579}, {\\\"x\\\": 0.334084, \\\"y\\\": 0.967544}, {\\\"x\\\": 0.333896, \\\"y\\\": 0.967472}, {\\\"x\\\": 0.332958, \\\"y\\\": 0.967365}, {\\\"x\\\": 0.332583, \\\"y\\\": 0.967329}, {\\\"x\\\": 0.33202, \\\"y\\\": 0.967293}, {\\\"x\\\": 0.331832, \\\"y\\\": 0.967186}, {\\\"x\\\": 0.331456, \\\"y\\\": 0.967186}, {\\\"x\\\": 0.330893, \\\"y\\\": 0.967043}, {\\\"x\\\": 0.330518, \\\"y\\\": 0.967007}, {\\\"x\\\": 0.330518, \\\"y\\\": 0.966972}, {\\\"x\\\": 0.330143, \\\"y\\\": 0.9669}, {\\\"x\\\": 0.330143, \\\"y\\\": 0.966829}, {\\\"x\\\": 0.329767, \\\"y\\\": 0.966721}, {\\\"x\\\": 0.329017, \\\"y\\\": 0.96665}, {\\\"x\\\": 0.328453, \\\"y\\\": 0.966614}, {\\\"x\\\": 0.328266, \\\"y\\\": 0.966578}, {\\\"x\\\": 0.327327, \\\"y\\\": 0.966543}, {\\\"x\\\": 0.326952, \\\"y\\\": 0.966471}, {\\\"x\\\": 0.326764, \\\"y\\\": 0.966436}, {\\\"x\\\": 0.326389, \\\"y\\\": 0.966328}, {\\\"x\\\": 0.326201, \\\"y\\\": 0.966293}, {\\\"x\\\": 0.326201, \\\"y\\\": 0.966221}, {\\\"x\\\": 0.326014, \\\"y\\\": 0.966185}, {\\\"x\\\": 0.325826, \\\"y\\\": 0.96615}, {\\\"x\\\": 0.325826, \\\"y\\\": 0.966078}, {\\\"x\\\": 0.325826, \\\"y\\\": 0.966007}, {\\\"x\\\": 0.325075, \\\"y\\\": 0.965971}, {\\\"x\\\": 0.324887, \\\"y\\\": 0.965935}, {\\\"x\\\": 0.324137, \\\"y\\\": 0.965899}, {\\\"x\\\": 0.323574, \\\"y\\\": 0.965864}, {\\\"x\\\": 0.323198, \\\"y\\\": 0.965864}, {\\\"x\\\": 0.323011, \\\"y\\\": 0.965756}, {\\\"x\\\": 0.322447, \\\"y\\\": 0.965613}, {\\\"x\\\": 0.322072, \\\"y\\\": 0.96547}, {\\\"x\\\": 0.321509, \\\"y\\\": 0.965435}, {\\\"x\\\": 0.321509, \\\"y\\\": 0.965399}, {\\\"x\\\": 0.321134, \\\"y\\\": 0.965363}, {\\\"x\\\": 0.321134, \\\"y\\\": 0.965292}, {\\\"x\\\": 0.320571, \\\"y\\\": 0.965184}, {\\\"x\\\": 0.320008, \\\"y\\\": 0.965149}, {\\\"x\\\": 0.320008, \\\"y\\\": 0.965149}, {\\\"x\\\": 0.319632, \\\"y\\\": 0.965006}, {\\\"x\\\": 0.319257, \\\"y\\\": 0.96497}, {\\\"x\\\": 0.319069, \\\"y\\\": 0.964898}, {\\\"x\\\": 0.318318, \\\"y\\\": 0.964898}, {\\\"x\\\": 0.318131, \\\"y\\\": 0.964863}, {\\\"x\\\": 0.317943, \\\"y\\\": 0.964791}, {\\\"x\\\": 0.31738, \\\"y\\\": 0.96472}, {\\\"x\\\": 0.317192, \\\"y\\\": 0.964684}, {\\\"x\\\": 0.316817, \\\"y\\\": 0.964613}, {\\\"x\\\": 0.316817, \\\"y\\\": 0.964541}, {\\\"x\\\": 0.316441, \\\"y\\\": 0.96447}, {\\\"x\\\": 0.316066, \\\"y\\\": 0.964434}, {\\\"x\\\": 0.315691, \\\"y\\\": 0.964398}, {\\\"x\\\": 0.315691, \\\"y\\\": 0.964291}, {\\\"x\\\": 0.315315, \\\"y\\\": 0.964219}, {\\\"x\\\": 0.315128, \\\"y\\\": 0.964184}, {\\\"x\\\": 0.315128, \\\"y\\\": 0.964076}, {\\\"x\\\": 0.314752, \\\"y\\\": 0.963969}, {\\\"x\\\": 0.314752, \\\"y\\\": 0.963933}, {\\\"x\\\": 0.314565, \\\"y\\\": 0.963862}, {\\\"x\\\": 0.313438, \\\"y\\\": 0.963862}, {\\\"x\\\": 0.313251, \\\"y\\\": 0.963826}, {\\\"x\\\": 0.312875, \\\"y\\\": 0.963755}, {\\\"x\\\": 0.312688, \\\"y\\\": 0.963755}, {\\\"x\\\": 0.311937, \\\"y\\\": 0.963755}, {\\\"x\\\": 0.311937, \\\"y\\\": 0.963647}, {\\\"x\\\": 0.311562, \\\"y\\\": 0.963612}, {\\\"x\\\": 0.311186, \\\"y\\\": 0.96354}, {\\\"x\\\": 0.310811, \\\"y\\\": 0.963504}, {\\\"x\\\": 0.310435, \\\"y\\\": 0.963469}, {\\\"x\\\": 0.310435, \\\"y\\\": 0.963433}, {\\\"x\\\": 0.31006, \\\"y\\\": 0.963397}, {\\\"x\\\": 0.309872, \\\"y\\\": 0.963254}, {\\\"x\\\": 0.309872, \\\"y\\\": 0.963111}, {\\\"x\\\": 0.309685, \\\"y\\\": 0.962968}, {\\\"x\\\": 0.309309, \\\"y\\\": 0.962861}, {\\\"x\\\": 0.308934, \\\"y\\\": 0.96279}, {\\\"x\\\": 0.308934, \\\"y\\\": 0.962718}, {\\\"x\\\": 0.308746, \\\"y\\\": 0.962682}, {\\\"x\\\": 0.308559, \\\"y\\\": 0.962647}, {\\\"x\\\": 0.308183, \\\"y\\\": 0.962575}, {\\\"x\\\": 0.30762, \\\"y\\\": 0.962539}, {\\\"x\\\": 0.307245, \\\"y\\\": 0.962504}, {\\\"x\\\": 0.307057, \\\"y\\\": 0.962504}, {\\\"x\\\": 0.307057, \\\"y\\\": 0.962468}, {\\\"x\\\": 0.306494, \\\"y\\\": 0.962396}, {\\\"x\\\": 0.306306, \\\"y\\\": 0.962361}, {\\\"x\\\": 0.305556, \\\"y\\\": 0.962218}, {\\\"x\\\": 0.305368, \\\"y\\\": 0.962182}, {\\\"x\\\": 0.304805, \\\"y\\\": 0.96211}, {\\\"x\\\": 0.304805, \\\"y\\\": 0.962075}, {\\\"x\\\": 0.303866, \\\"y\\\": 0.962075}, {\\\"x\\\": 0.303866, \\\"y\\\": 0.962075}, {\\\"x\\\": 0.303679, \\\"y\\\": 0.962003}, {\\\"x\\\": 0.303679, \\\"y\\\": 0.961967}, {\\\"x\\\": 0.303116, \\\"y\\\": 0.961967}, {\\\"x\\\": 0.302553, \\\"y\\\": 0.961967}, {\\\"x\\\": 0.302365, \\\"y\\\": 0.961932}, {\\\"x\\\": 0.301989, \\\"y\\\": 0.961789}, {\\\"x\\\": 0.301614, \\\"y\\\": 0.961753}, {\\\"x\\\": 0.301239, \\\"y\\\": 0.961753}, {\\\"x\\\": 0.300676, \\\"y\\\": 0.961681}, {\\\"x\\\": 0.300676, \\\"y\\\": 0.961467}, {\\\"x\\\": 0.3003, \\\"y\\\": 0.96136}, {\\\"x\\\": 0.300113, \\\"y\\\": 0.961324}, {\\\"x\\\": 0.299174, \\\"y\\\": 0.961253}, {\\\"x\\\": 0.299174, \\\"y\\\": 0.961181}, {\\\"x\\\": 0.298799, \\\"y\\\": 0.96111}, {\\\"x\\\": 0.298423, \\\"y\\\": 0.961038}, {\\\"x\\\": 0.298048, \\\"y\\\": 0.960931}, {\\\"x\\\": 0.297673, \\\"y\\\": 0.960895}, {\\\"x\\\": 0.296922, \\\"y\\\": 0.960859}, {\\\"x\\\": 0.296547, \\\"y\\\": 0.960859}, {\\\"x\\\": 0.295983, \\\"y\\\": 0.960788}, {\\\"x\\\": 0.295983, \\\"y\\\": 0.960752}, {\\\"x\\\": 0.295608, \\\"y\\\": 0.960681}, {\\\"x\\\": 0.295608, \\\"y\\\": 0.960609}, {\\\"x\\\": 0.29542, \\\"y\\\": 0.960502}, {\\\"x\\\": 0.295233, \\\"y\\\": 0.960502}, {\\\"x\\\": 0.295045, \\\"y\\\": 0.96043}, {\\\"x\\\": 0.295045, \\\"y\\\": 0.96043}, {\\\"x\\\": 0.295045, \\\"y\\\": 0.960287}, {\\\"x\\\": 0.294857, \\\"y\\\": 0.960252}, {\\\"x\\\": 0.29467, \\\"y\\\": 0.960144}, {\\\"x\\\": 0.294294, \\\"y\\\": 0.960109}, {\\\"x\\\": 0.293919, \\\"y\\\": 0.960109}, {\\\"x\\\": 0.293919, \\\"y\\\": 0.960073}, {\\\"x\\\": 0.293168, \\\"y\\\": 0.959966}, {\\\"x\\\": 0.292793, \\\"y\\\": 0.959858}, {\\\"x\\\": 0.291854, \\\"y\\\": 0.959787}, {\\\"x\\\": 0.291479, \\\"y\\\": 0.959787}, {\\\"x\\\": 0.290728, \\\"y\\\": 0.959787}, {\\\"x\\\": 0.290165, \\\"y\\\": 0.95968}, {\\\"x\\\": 0.290165, \\\"y\\\": 0.959644}, {\\\"x\\\": 0.289977, \\\"y\\\": 0.959572}, {\\\"x\\\": 0.289977, \\\"y\\\": 0.959501}, {\\\"x\\\": 0.28979, \\\"y\\\": 0.959322}, {\\\"x\\\": 0.28979, \\\"y\\\": 0.959322}, {\\\"x\\\": 0.289414, \\\"y\\\": 0.959215}, {\\\"x\\\": 0.289039, \\\"y\\\": 0.959179}, {\\\"x\\\": 0.288851, \\\"y\\\": 0.959144}, {\\\"x\\\": 0.288476, \\\"y\\\": 0.959036}, {\\\"x\\\": 0.288476, \\\"y\\\": 0.959036}, {\\\"x\\\": 0.287913, \\\"y\\\": 0.958965}, {\\\"x\\\": 0.287725, \\\"y\\\": 0.958858}, {\\\"x\\\": 0.287538, \\\"y\\\": 0.958822}, {\\\"x\\\": 0.286787, \\\"y\\\": 0.958786}, {\\\"x\\\": 0.286599, \\\"y\\\": 0.958786}, {\\\"x\\\": 0.285848, \\\"y\\\": 0.958572}, {\\\"x\\\": 0.285848, \\\"y\\\": 0.958464}, {\\\"x\\\": 0.285098, \\\"y\\\": 0.958357}, {\\\"x\\\": 0.28491, \\\"y\\\": 0.958286}, {\\\"x\\\": 0.28491, \\\"y\\\": 0.95825}, {\\\"x\\\": 0.28491, \\\"y\\\": 0.958178}, {\\\"x\\\": 0.284159, \\\"y\\\": 0.958143}, {\\\"x\\\": 0.284159, \\\"y\\\": 0.958143}, {\\\"x\\\": 0.283596, \\\"y\\\": 0.958035}, {\\\"x\\\": 0.283408, \\\"y\\\": 0.957964}, {\\\"x\\\": 0.283408, \\\"y\\\": 0.957928}, {\\\"x\\\": 0.283408, \\\"y\\\": 0.957928}, {\\\"x\\\": 0.283221, \\\"y\\\": 0.957928}, {\\\"x\\\": 0.283033, \\\"y\\\": 0.957785}, {\\\"x\\\": 0.283033, \\\"y\\\": 0.957678}, {\\\"x\\\": 0.283033, \\\"y\\\": 0.957499}, {\\\"x\\\": 0.282658, \\\"y\\\": 0.957392}, {\\\"x\\\": 0.28247, \\\"y\\\": 0.957321}, {\\\"x\\\": 0.282282, \\\"y\\\": 0.957249}, {\\\"x\\\": 0.281719, \\\"y\\\": 0.957178}, {\\\"x\\\": 0.281344, \\\"y\\\": 0.957142}, {\\\"x\\\": 0.281156, \\\"y\\\": 0.957142}, {\\\"x\\\": 0.280781, \\\"y\\\": 0.95707}, {\\\"x\\\": 0.280593, \\\"y\\\": 0.95707}, {\\\"x\\\": 0.280405, \\\"y\\\": 0.95707}, {\\\"x\\\": 0.28003, \\\"y\\\": 0.957035}, {\\\"x\\\": 0.28003, \\\"y\\\": 0.956999}, {\\\"x\\\": 0.279842, \\\"y\\\": 0.956999}, {\\\"x\\\": 0.279467, \\\"y\\\": 0.956963}, {\\\"x\\\": 0.279092, \\\"y\\\": 0.956963}, {\\\"x\\\": 0.278529, \\\"y\\\": 0.956856}, {\\\"x\\\": 0.278341, \\\"y\\\": 0.95682}, {\\\"x\\\": 0.277778, \\\"y\\\": 0.956749}, {\\\"x\\\": 0.277402, \\\"y\\\": 0.956713}, {\\\"x\\\": 0.277215, \\\"y\\\": 0.956677}, {\\\"x\\\": 0.277215, \\\"y\\\": 0.956606}, {\\\"x\\\": 0.276839, \\\"y\\\": 0.956534}, {\\\"x\\\": 0.276652, \\\"y\\\": 0.956355}, {\\\"x\\\": 0.276089, \\\"y\\\": 0.95632}, {\\\"x\\\": 0.275901, \\\"y\\\": 0.956212}, {\\\"x\\\": 0.275713, \\\"y\\\": 0.956177}, {\\\"x\\\": 0.275526, \\\"y\\\": 0.956034}, {\\\"x\\\": 0.275338, \\\"y\\\": 0.955927}, {\\\"x\\\": 0.27515, \\\"y\\\": 0.955819}, {\\\"x\\\": 0.274587, \\\"y\\\": 0.955712}, {\\\"x\\\": 0.274399, \\\"y\\\": 0.955641}, {\\\"x\\\": 0.274212, \\\"y\\\": 0.955605}, {\\\"x\\\": 0.274212, \\\"y\\\": 0.955533}, {\\\"x\\\": 0.274024, \\\"y\\\": 0.95539}, {\\\"x\\\": 0.273461, \\\"y\\\": 0.955283}, {\\\"x\\\": 0.273273, \\\"y\\\": 0.955247}, {\\\"x\\\": 0.273273, \\\"y\\\": 0.955212}, {\\\"x\\\": 0.273086, \\\"y\\\": 0.955104}, {\\\"x\\\": 0.273086, \\\"y\\\": 0.955033}, {\\\"x\\\": 0.27271, \\\"y\\\": 0.954926}, {\\\"x\\\": 0.272523, \\\"y\\\": 0.95489}, {\\\"x\\\": 0.272335, \\\"y\\\": 0.954854}, {\\\"x\\\": 0.272147, \\\"y\\\": 0.954783}, {\\\"x\\\": 0.271584, \\\"y\\\": 0.954783}, {\\\"x\\\": 0.271584, \\\"y\\\": 0.954711}, {\\\"x\\\": 0.271584, \\\"y\\\": 0.954532}, {\\\"x\\\": 0.271396, \\\"y\\\": 0.954497}, {\\\"x\\\": 0.271209, \\\"y\\\": 0.954461}, {\\\"x\\\": 0.270833, \\\"y\\\": 0.954425}, {\\\"x\\\": 0.270083, \\\"y\\\": 0.954318}, {\\\"x\\\": 0.26952, \\\"y\\\": 0.954282}, {\\\"x\\\": 0.269332, \\\"y\\\": 0.954246}, {\\\"x\\\": 0.269144, \\\"y\\\": 0.954211}, {\\\"x\\\": 0.268581, \\\"y\\\": 0.954139}, {\\\"x\\\": 0.268581, \\\"y\\\": 0.954068}, {\\\"x\\\": 0.268393, \\\"y\\\": 0.954032}, {\\\"x\\\": 0.268018, \\\"y\\\": 0.953996}, {\\\"x\\\": 0.268018, \\\"y\\\": 0.953889}, {\\\"x\\\": 0.26783, \\\"y\\\": 0.953782}, {\\\"x\\\": 0.267643, \\\"y\\\": 0.953782}, {\\\"x\\\": 0.267267, \\\"y\\\": 0.953675}, {\\\"x\\\": 0.266517, \\\"y\\\": 0.953639}, {\\\"x\\\": 0.266141, \\\"y\\\": 0.953567}, {\\\"x\\\": 0.265953, \\\"y\\\": 0.953532}, {\\\"x\\\": 0.265953, \\\"y\\\": 0.953353}, {\\\"x\\\": 0.265953, \\\"y\\\": 0.953317}, {\\\"x\\\": 0.265766, \\\"y\\\": 0.953246}, {\\\"x\\\": 0.265766, \\\"y\\\": 0.95321}, {\\\"x\\\": 0.26539, \\\"y\\\": 0.953174}, {\\\"x\\\": 0.265203, \\\"y\\\": 0.953174}, {\\\"x\\\": 0.265015, \\\"y\\\": 0.953138}, {\\\"x\\\": 0.265015, \\\"y\\\": 0.953031}, {\\\"x\\\": 0.264452, \\\"y\\\": 0.95296}, {\\\"x\\\": 0.264264, \\\"y\\\": 0.95296}, {\\\"x\\\": 0.264264, \\\"y\\\": 0.952817}, {\\\"x\\\": 0.264077, \\\"y\\\": 0.952817}, {\\\"x\\\": 0.263889, \\\"y\\\": 0.952817}, {\\\"x\\\": 0.263889, \\\"y\\\": 0.952745}, {\\\"x\\\": 0.263701, \\\"y\\\": 0.952674}, {\\\"x\\\": 0.263326, \\\"y\\\": 0.952674}, {\\\"x\\\": 0.263326, \\\"y\\\": 0.952531}, {\\\"x\\\": 0.263326, \\\"y\\\": 0.952424}, {\\\"x\\\": 0.26295, \\\"y\\\": 0.952388}, {\\\"x\\\": 0.26295, \\\"y\\\": 0.952316}, {\\\"x\\\": 0.26295, \\\"y\\\": 0.952245}, {\\\"x\\\": 0.262575, \\\"y\\\": 0.952102}, {\\\"x\\\": 0.2622, \\\"y\\\": 0.951959}, {\\\"x\\\": 0.2622, \\\"y\\\": 0.951959}, {\\\"x\\\": 0.261449, \\\"y\\\": 0.951923}, {\\\"x\\\": 0.261261, \\\"y\\\": 0.951816}, {\\\"x\\\": 0.261261, \\\"y\\\": 0.95178}, {\\\"x\\\": 0.260698, \\\"y\\\": 0.951637}, {\\\"x\\\": 0.260511, \\\"y\\\": 0.951566}, {\\\"x\\\": 0.260323, \\\"y\\\": 0.951566}, {\\\"x\\\": 0.260323, \\\"y\\\": 0.951566}, {\\\"x\\\": 0.259947, \\\"y\\\": 0.951566}, {\\\"x\\\": 0.259572, \\\"y\\\": 0.95153}, {\\\"x\\\": 0.259384, \\\"y\\\": 0.951458}, {\\\"x\\\": 0.259384, \\\"y\\\": 0.951315}, {\\\"x\\\": 0.259009, \\\"y\\\": 0.951244}, {\\\"x\\\": 0.259009, \\\"y\\\": 0.951172}, {\\\"x\\\": 0.258258, \\\"y\\\": 0.951101}, {\\\"x\\\": 0.258258, \\\"y\\\": 0.950958}, {\\\"x\\\": 0.257883, \\\"y\\\": 0.950922}, {\\\"x\\\": 0.257883, \\\"y\\\": 0.950815}, {\\\"x\\\": 0.257508, \\\"y\\\": 0.950708}, {\\\"x\\\": 0.257132, \\\"y\\\": 0.950672}, {\\\"x\\\": 0.256944, \\\"y\\\": 0.950565}, {\\\"x\\\": 0.256944, \\\"y\\\": 0.950493}, {\\\"x\\\": 0.256944, \\\"y\\\": 0.950493}, {\\\"x\\\": 0.256757, \\\"y\\\": 0.950458}, {\\\"x\\\": 0.256381, \\\"y\\\": 0.95035}, {\\\"x\\\": 0.256006, \\\"y\\\": 0.950279}, {\\\"x\\\": 0.255631, \\\"y\\\": 0.950172}, {\\\"x\\\": 0.255068, \\\"y\\\": 0.950029}, {\\\"x\\\": 0.254692, \\\"y\\\": 0.949993}, {\\\"x\\\": 0.254129, \\\"y\\\": 0.949921}, {\\\"x\\\": 0.253941, \\\"y\\\": 0.949778}, {\\\"x\\\": 0.253754, \\\"y\\\": 0.949743}, {\\\"x\\\": 0.253754, \\\"y\\\": 0.949707}, {\\\"x\\\": 0.253754, \\\"y\\\": 0.949671}, {\\\"x\\\": 0.253378, \\\"y\\\": 0.949564}, {\\\"x\\\": 0.252815, \\\"y\\\": 0.949564}, {\\\"x\\\": 0.252065, \\\"y\\\": 0.949528}, {\\\"x\\\": 0.252065, \\\"y\\\": 0.949492}, {\\\"x\\\": 0.251689, \\\"y\\\": 0.949492}, {\\\"x\\\": 0.251689, \\\"y\\\": 0.949492}, {\\\"x\\\": 0.251689, \\\"y\\\": 0.949457}, {\\\"x\\\": 0.251689, \\\"y\\\": 0.949457}, {\\\"x\\\": 0.251689, \\\"y\\\": 0.949421}, {\\\"x\\\": 0.251314, \\\"y\\\": 0.949385}, {\\\"x\\\": 0.251314, \\\"y\\\": 0.949314}, {\\\"x\\\": 0.250938, \\\"y\\\": 0.949171}, {\\\"x\\\": 0.250751, \\\"y\\\": 0.949099}, {\\\"x\\\": 0.250751, \\\"y\\\": 0.948992}, {\\\"x\\\": 0.250563, \\\"y\\\": 0.948885}, {\\\"x\\\": 0.250375, \\\"y\\\": 0.948778}, {\\\"x\\\": 0.250188, \\\"y\\\": 0.948778}, {\\\"x\\\": 0.249625, \\\"y\\\": 0.948742}, {\\\"x\\\": 0.249437, \\\"y\\\": 0.948706}, {\\\"x\\\": 0.248874, \\\"y\\\": 0.948706}, {\\\"x\\\": 0.248686, \\\"y\\\": 0.948563}, {\\\"x\\\": 0.248686, \\\"y\\\": 0.948456}, {\\\"x\\\": 0.248311, \\\"y\\\": 0.948349}, {\\\"x\\\": 0.247935, \\\"y\\\": 0.948313}, {\\\"x\\\": 0.247935, \\\"y\\\": 0.948206}, {\\\"x\\\": 0.247935, \\\"y\\\": 0.948098}, {\\\"x\\\": 0.247748, \\\"y\\\": 0.947991}, {\\\"x\\\": 0.247185, \\\"y\\\": 0.947884}, {\\\"x\\\": 0.247185, \\\"y\\\": 0.947741}, {\\\"x\\\": 0.246809, \\\"y\\\": 0.947634}, {\\\"x\\\": 0.246434, \\\"y\\\": 0.947598}, {\\\"x\\\": 0.246434, \\\"y\\\": 0.947491}, {\\\"x\\\": 0.24512, \\\"y\\\": 0.947455}, {\\\"x\\\": 0.244745, \\\"y\\\": 0.947383}, {\\\"x\\\": 0.244557, \\\"y\\\": 0.947276}, {\\\"x\\\": 0.243994, \\\"y\\\": 0.947098}, {\\\"x\\\": 0.243994, \\\"y\\\": 0.947026}, {\\\"x\\\": 0.243806, \\\"y\\\": 0.947026}, {\\\"x\\\": 0.243806, \\\"y\\\": 0.946883}, {\\\"x\\\": 0.243806, \\\"y\\\": 0.946776}, {\\\"x\\\": 0.243431, \\\"y\\\": 0.946669}, {\\\"x\\\": 0.243243, \\\"y\\\": 0.946526}, {\\\"x\\\": 0.243243, \\\"y\\\": 0.946347}, {\\\"x\\\": 0.243056, \\\"y\\\": 0.946275}, {\\\"x\\\": 0.243056, \\\"y\\\": 0.94624}, {\\\"x\\\": 0.242868, \\\"y\\\": 0.946132}, {\\\"x\\\": 0.242868, \\\"y\\\": 0.945954}, {\\\"x\\\": 0.24268, \\\"y\\\": 0.945811}, {\\\"x\\\": 0.242305, \\\"y\\\": 0.945775}, {\\\"x\\\": 0.242305, \\\"y\\\": 0.945775}, {\\\"x\\\": 0.242117, \\\"y\\\": 0.945703}, {\\\"x\\\": 0.241929, \\\"y\\\": 0.945668}, {\\\"x\\\": 0.241366, \\\"y\\\": 0.945668}, {\\\"x\\\": 0.241366, \\\"y\\\": 0.945596}, {\\\"x\\\": 0.241179, \\\"y\\\": 0.945596}, {\\\"x\\\": 0.240803, \\\"y\\\": 0.945489}, {\\\"x\\\": 0.240616, \\\"y\\\": 0.945418}, {\\\"x\\\": 0.240053, \\\"y\\\": 0.945418}, {\\\"x\\\": 0.239865, \\\"y\\\": 0.945346}, {\\\"x\\\": 0.239677, \\\"y\\\": 0.945203}, {\\\"x\\\": 0.239489, \\\"y\\\": 0.945167}, {\\\"x\\\": 0.239302, \\\"y\\\": 0.945096}, {\\\"x\\\": 0.239302, \\\"y\\\": 0.94506}, {\\\"x\\\": 0.238739, \\\"y\\\": 0.944953}, {\\\"x\\\": 0.238551, \\\"y\\\": 0.944917}, {\\\"x\\\": 0.238363, \\\"y\\\": 0.944846}, {\\\"x\\\": 0.238176, \\\"y\\\": 0.944595}, {\\\"x\\\": 0.2378, \\\"y\\\": 0.944488}, {\\\"x\\\": 0.237425, \\\"y\\\": 0.944381}, {\\\"x\\\": 0.237237, \\\"y\\\": 0.944238}, {\\\"x\\\": 0.23705, \\\"y\\\": 0.944238}, {\\\"x\\\": 0.23705, \\\"y\\\": 0.944095}, {\\\"x\\\": 0.236862, \\\"y\\\": 0.944023}, {\\\"x\\\": 0.236862, \\\"y\\\": 0.943916}, {\\\"x\\\": 0.236486, \\\"y\\\": 0.943809}, {\\\"x\\\": 0.236486, \\\"y\\\": 0.943809}, {\\\"x\\\": 0.235923, \\\"y\\\": 0.943702}, {\\\"x\\\": 0.235736, \\\"y\\\": 0.943666}, {\\\"x\\\": 0.235173, \\\"y\\\": 0.943487}, {\\\"x\\\": 0.234985, \\\"y\\\": 0.943452}, {\\\"x\\\": 0.23461, \\\"y\\\": 0.943309}, {\\\"x\\\": 0.234422, \\\"y\\\": 0.943237}, {\\\"x\\\": 0.234422, \\\"y\\\": 0.943058}, {\\\"x\\\": 0.234047, \\\"y\\\": 0.942951}, {\\\"x\\\": 0.233483, \\\"y\\\": 0.942844}, {\\\"x\\\": 0.233483, \\\"y\\\": 0.942772}, {\\\"x\\\": 0.233108, \\\"y\\\": 0.942737}, {\\\"x\\\": 0.232357, \\\"y\\\": 0.942522}, {\\\"x\\\": 0.231794, \\\"y\\\": 0.942486}, {\\\"x\\\": 0.231231, \\\"y\\\": 0.942343}, {\\\"x\\\": 0.231044, \\\"y\\\": 0.942236}, {\\\"x\\\": 0.230668, \\\"y\\\": 0.9422}, {\\\"x\\\": 0.230668, \\\"y\\\": 0.942165}, {\\\"x\\\": 0.230293, \\\"y\\\": 0.942057}, {\\\"x\\\": 0.230105, \\\"y\\\": 0.941986}, {\\\"x\\\": 0.229354, \\\"y\\\": 0.941914}, {\\\"x\\\": 0.229167, \\\"y\\\": 0.941807}, {\\\"x\\\": 0.228791, \\\"y\\\": 0.941664}, {\\\"x\\\": 0.228791, \\\"y\\\": 0.941557}, {\\\"x\\\": 0.228416, \\\"y\\\": 0.94145}, {\\\"x\\\": 0.228228, \\\"y\\\": 0.941378}, {\\\"x\\\": 0.227665, \\\"y\\\": 0.941271}, {\\\"x\\\": 0.22729, \\\"y\\\": 0.9412}, {\\\"x\\\": 0.22729, \\\"y\\\": 0.941057}, {\\\"x\\\": 0.22729, \\\"y\\\": 0.941057}, {\\\"x\\\": 0.226914, \\\"y\\\": 0.940985}, {\\\"x\\\": 0.226727, \\\"y\\\": 0.940914}, {\\\"x\\\": 0.225788, \\\"y\\\": 0.940878}, {\\\"x\\\": 0.225788, \\\"y\\\": 0.940699}, {\\\"x\\\": 0.225413, \\\"y\\\": 0.940699}, {\\\"x\\\": 0.225038, \\\"y\\\": 0.940628}, {\\\"x\\\": 0.22485, \\\"y\\\": 0.94052}, {\\\"x\\\": 0.22485, \\\"y\\\": 0.940413}, {\\\"x\\\": 0.224662, \\\"y\\\": 0.940306}, {\\\"x\\\": 0.224662, \\\"y\\\": 0.940234}, {\\\"x\\\": 0.224287, \\\"y\\\": 0.94002}, {\\\"x\\\": 0.223911, \\\"y\\\": 0.939913}, {\\\"x\\\": 0.223536, \\\"y\\\": 0.939806}, {\\\"x\\\": 0.223348, \\\"y\\\": 0.939698}, {\\\"x\\\": 0.223348, \\\"y\\\": 0.939627}, {\\\"x\\\": 0.223161, \\\"y\\\": 0.939591}, {\\\"x\\\": 0.222973, \\\"y\\\": 0.939555}, {\\\"x\\\": 0.22241, \\\"y\\\": 0.939448}, {\\\"x\\\": 0.222222, \\\"y\\\": 0.939305}, {\\\"x\\\": 0.221847, \\\"y\\\": 0.939162}, {\\\"x\\\": 0.221847, \\\"y\\\": 0.939126}, {\\\"x\\\": 0.221847, \\\"y\\\": 0.939019}, {\\\"x\\\": 0.221471, \\\"y\\\": 0.938876}, {\\\"x\\\": 0.221284, \\\"y\\\": 0.938805}, {\\\"x\\\": 0.220908, \\\"y\\\": 0.938733}, {\\\"x\\\": 0.220345, \\\"y\\\": 0.938662}, {\\\"x\\\": 0.21997, \\\"y\\\": 0.938554}, {\\\"x\\\": 0.219595, \\\"y\\\": 0.938519}, {\\\"x\\\": 0.219032, \\\"y\\\": 0.938304}, {\\\"x\\\": 0.218656, \\\"y\\\": 0.938233}, {\\\"x\\\": 0.218656, \\\"y\\\": 0.938197}, {\\\"x\\\": 0.218656, \\\"y\\\": 0.93809}, {\\\"x\\\": 0.218468, \\\"y\\\": 0.938018}, {\\\"x\\\": 0.218093, \\\"y\\\": 0.93784}, {\\\"x\\\": 0.217342, \\\"y\\\": 0.937697}, {\\\"x\\\": 0.216967, \\\"y\\\": 0.937625}, {\\\"x\\\": 0.216967, \\\"y\\\": 0.937518}, {\\\"x\\\": 0.216404, \\\"y\\\": 0.937268}, {\\\"x\\\": 0.216216, \\\"y\\\": 0.937125}, {\\\"x\\\": 0.216029, \\\"y\\\": 0.937053}, {\\\"x\\\": 0.216029, \\\"y\\\": 0.936839}, {\\\"x\\\": 0.215841, \\\"y\\\": 0.936481}, {\\\"x\\\": 0.215653, \\\"y\\\": 0.936338}, {\\\"x\\\": 0.215278, \\\"y\\\": 0.936231}, {\\\"x\\\": 0.214902, \\\"y\\\": 0.936088}, {\\\"x\\\": 0.214902, \\\"y\\\": 0.935874}, {\\\"x\\\": 0.214902, \\\"y\\\": 0.935731}, {\\\"x\\\": 0.214902, \\\"y\\\": 0.935623}, {\\\"x\\\": 0.214715, \\\"y\\\": 0.935552}, {\\\"x\\\": 0.214152, \\\"y\\\": 0.935445}, {\\\"x\\\": 0.213776, \\\"y\\\": 0.93523}, {\\\"x\\\": 0.213589, \\\"y\\\": 0.935123}, {\\\"x\\\": 0.213589, \\\"y\\\": 0.93498}, {\\\"x\\\": 0.213213, \\\"y\\\": 0.934873}, {\\\"x\\\": 0.213213, \\\"y\\\": 0.93473}, {\\\"x\\\": 0.213026, \\\"y\\\": 0.934694}, {\\\"x\\\": 0.21265, \\\"y\\\": 0.934623}, {\\\"x\\\": 0.212275, \\\"y\\\": 0.93448}, {\\\"x\\\": 0.211899, \\\"y\\\": 0.934372}, {\\\"x\\\": 0.211712, \\\"y\\\": 0.934265}, {\\\"x\\\": 0.211336, \\\"y\\\": 0.934086}, {\\\"x\\\": 0.211336, \\\"y\\\": 0.933908}, {\\\"x\\\": 0.211149, \\\"y\\\": 0.9338}, {\\\"x\\\": 0.210586, \\\"y\\\": 0.933657}, {\\\"x\\\": 0.210398, \\\"y\\\": 0.933622}, {\\\"x\\\": 0.210398, \\\"y\\\": 0.933622}, {\\\"x\\\": 0.21021, \\\"y\\\": 0.933407}, {\\\"x\\\": 0.21021, \\\"y\\\": 0.9333}, {\\\"x\\\": 0.210023, \\\"y\\\": 0.933121}, {\\\"x\\\": 0.209835, \\\"y\\\": 0.93305}, {\\\"x\\\": 0.208896, \\\"y\\\": 0.932978}, {\\\"x\\\": 0.208521, \\\"y\\\": 0.932764}, {\\\"x\\\": 0.208521, \\\"y\\\": 0.932585}, {\\\"x\\\": 0.208146, \\\"y\\\": 0.932442}, {\\\"x\\\": 0.20777, \\\"y\\\": 0.932371}, {\\\"x\\\": 0.207207, \\\"y\\\": 0.932263}, {\\\"x\\\": 0.206644, \\\"y\\\": 0.932156}, {\\\"x\\\": 0.206269, \\\"y\\\": 0.932013}, {\\\"x\\\": 0.206081, \\\"y\\\": 0.931942}, {\\\"x\\\": 0.206081, \\\"y\\\": 0.931799}, {\\\"x\\\": 0.205893, \\\"y\\\": 0.931727}, {\\\"x\\\": 0.205706, \\\"y\\\": 0.931548}, {\\\"x\\\": 0.20533, \\\"y\\\": 0.931441}, {\\\"x\\\": 0.20458, \\\"y\\\": 0.931263}, {\\\"x\\\": 0.204017, \\\"y\\\": 0.931155}, {\\\"x\\\": 0.203829, \\\"y\\\": 0.930977}, {\\\"x\\\": 0.203641, \\\"y\\\": 0.930869}, {\\\"x\\\": 0.203453, \\\"y\\\": 0.930798}, {\\\"x\\\": 0.203266, \\\"y\\\": 0.930726}, {\\\"x\\\": 0.203078, \\\"y\\\": 0.930583}, {\\\"x\\\": 0.202703, \\\"y\\\": 0.930476}, {\\\"x\\\": 0.202327, \\\"y\\\": 0.930405}, {\\\"x\\\": 0.201952, \\\"y\\\": 0.93019}, {\\\"x\\\": 0.201764, \\\"y\\\": 0.930119}, {\\\"x\\\": 0.201577, \\\"y\\\": 0.930083}, {\\\"x\\\": 0.201389, \\\"y\\\": 0.930047}, {\\\"x\\\": 0.201201, \\\"y\\\": 0.929868}, {\\\"x\\\": 0.201201, \\\"y\\\": 0.929725}, {\\\"x\\\": 0.201014, \\\"y\\\": 0.929654}, {\\\"x\\\": 0.200263, \\\"y\\\": 0.92944}, {\\\"x\\\": 0.200075, \\\"y\\\": 0.929368}, {\\\"x\\\": 0.199137, \\\"y\\\": 0.929189}, {\\\"x\\\": 0.198949, \\\"y\\\": 0.929189}, {\\\"x\\\": 0.198761, \\\"y\\\": 0.929046}, {\\\"x\\\": 0.198198, \\\"y\\\": 0.928939}, {\\\"x\\\": 0.198011, \\\"y\\\": 0.928868}, {\\\"x\\\": 0.197072, \\\"y\\\": 0.928689}, {\\\"x\\\": 0.196509, \\\"y\\\": 0.928546}, {\\\"x\\\": 0.196321, \\\"y\\\": 0.928439}, {\\\"x\\\": 0.196321, \\\"y\\\": 0.928331}, {\\\"x\\\": 0.196321, \\\"y\\\": 0.92801}, {\\\"x\\\": 0.195758, \\\"y\\\": 0.927795}, {\\\"x\\\": 0.195195, \\\"y\\\": 0.927652}, {\\\"x\\\": 0.195008, \\\"y\\\": 0.927545}, {\\\"x\\\": 0.194444, \\\"y\\\": 0.927259}, {\\\"x\\\": 0.194257, \\\"y\\\": 0.927152}, {\\\"x\\\": 0.193881, \\\"y\\\": 0.927009}, {\\\"x\\\": 0.193694, \\\"y\\\": 0.926866}, {\\\"x\\\": 0.193694, \\\"y\\\": 0.92683}, {\\\"x\\\": 0.193318, \\\"y\\\": 0.92658}, {\\\"x\\\": 0.192755, \\\"y\\\": 0.926473}, {\\\"x\\\": 0.192568, \\\"y\\\": 0.92633}, {\\\"x\\\": 0.192005, \\\"y\\\": 0.926115}, {\\\"x\\\": 0.191817, \\\"y\\\": 0.925794}, {\\\"x\\\": 0.191817, \\\"y\\\": 0.925758}, {\\\"x\\\": 0.191441, \\\"y\\\": 0.925615}, {\\\"x\\\": 0.190503, \\\"y\\\": 0.925436}, {\\\"x\\\": 0.190315, \\\"y\\\": 0.925293}, {\\\"x\\\": 0.190128, \\\"y\\\": 0.92515}, {\\\"x\\\": 0.189565, \\\"y\\\": 0.925007}, {\\\"x\\\": 0.189377, \\\"y\\\": 0.924757}, {\\\"x\\\": 0.189189, \\\"y\\\": 0.92465}, {\\\"x\\\": 0.188814, \\\"y\\\": 0.924471}, {\\\"x\\\": 0.188626, \\\"y\\\": 0.924257}, {\\\"x\\\": 0.188438, \\\"y\\\": 0.924042}, {\\\"x\\\": 0.188063, \\\"y\\\": 0.923863}, {\\\"x\\\": 0.188063, \\\"y\\\": 0.92372}, {\\\"x\\\": 0.183559, \\\"y\\\": 0.918573}, {\\\"x\\\": 0.182995, \\\"y\\\": 0.918251}, {\\\"x\\\": 0.182432, \\\"y\\\": 0.91818}, {\\\"x\\\": 0.182245, \\\"y\\\": 0.917965}, {\\\"x\\\": 0.181682, \\\"y\\\": 0.917679}, {\\\"x\\\": 0.181682, \\\"y\\\": 0.917644}, {\\\"x\\\": 0.181119, \\\"y\\\": 0.917536}, {\\\"x\\\": 0.180556, \\\"y\\\": 0.917429}, {\\\"x\\\": 0.18018, \\\"y\\\": 0.917215}, {\\\"x\\\": 0.179805, \\\"y\\\": 0.916929}, {\\\"x\\\": 0.179242, \\\"y\\\": 0.916822}, {\\\"x\\\": 0.179242, \\\"y\\\": 0.916464}, {\\\"x\\\": 0.179054, \\\"y\\\": 0.916142}, {\\\"x\\\": 0.178303, \\\"y\\\": 0.916035}, {\\\"x\\\": 0.178116, \\\"y\\\": 0.915856}, {\\\"x\\\": 0.178116, \\\"y\\\": 0.915678}, {\\\"x\\\": 0.17774, \\\"y\\\": 0.915356}, {\\\"x\\\": 0.17774, \\\"y\\\": 0.915106}, {\\\"x\\\": 0.177365, \\\"y\\\": 0.914891}, {\\\"x\\\": 0.176802, \\\"y\\\": 0.914748}, {\\\"x\\\": 0.176614, \\\"y\\\": 0.914605}, {\\\"x\\\": 0.176426, \\\"y\\\": 0.914462}, {\\\"x\\\": 0.176426, \\\"y\\\": 0.914105}, {\\\"x\\\": 0.176051, \\\"y\\\": 0.91389}, {\\\"x\\\": 0.175863, \\\"y\\\": 0.913819}, {\\\"x\\\": 0.175676, \\\"y\\\": 0.913712}, {\\\"x\\\": 0.1753, \\\"y\\\": 0.913462}, {\\\"x\\\": 0.175113, \\\"y\\\": 0.913319}, {\\\"x\\\": 0.174925, \\\"y\\\": 0.913247}, {\\\"x\\\": 0.17455, \\\"y\\\": 0.913033}, {\\\"x\\\": 0.173423, \\\"y\\\": 0.912854}, {\\\"x\\\": 0.172673, \\\"y\\\": 0.912496}, {\\\"x\\\": 0.172297, \\\"y\\\": 0.912318}, {\\\"x\\\": 0.171922, \\\"y\\\": 0.912139}, {\\\"x\\\": 0.171734, \\\"y\\\": 0.91196}, {\\\"x\\\": 0.171734, \\\"y\\\": 0.911746}, {\\\"x\\\": 0.171547, \\\"y\\\": 0.91146}, {\\\"x\\\": 0.171547, \\\"y\\\": 0.911031}, {\\\"x\\\": 0.170983, \\\"y\\\": 0.910745}, {\\\"x\\\": 0.17042, \\\"y\\\": 0.910423}, {\\\"x\\\": 0.170045, \\\"y\\\": 0.910244}, {\\\"x\\\": 0.169857, \\\"y\\\": 0.910066}, {\\\"x\\\": 0.169482, \\\"y\\\": 0.909887}, {\\\"x\\\": 0.169294, \\\"y\\\": 0.909708}, {\\\"x\\\": 0.168919, \\\"y\\\": 0.909673}, {\\\"x\\\": 0.168544, \\\"y\\\": 0.909494}, {\\\"x\\\": 0.16798, \\\"y\\\": 0.909208}, {\\\"x\\\": 0.167605, \\\"y\\\": 0.90885}, {\\\"x\\\": 0.16723, \\\"y\\\": 0.908815}, {\\\"x\\\": 0.16723, \\\"y\\\": 0.908564}, {\\\"x\\\": 0.166479, \\\"y\\\": 0.90835}, {\\\"x\\\": 0.166479, \\\"y\\\": 0.9081}, {\\\"x\\\": 0.165916, \\\"y\\\": 0.907814}, {\\\"x\\\": 0.165541, \\\"y\\\": 0.907671}, {\\\"x\\\": 0.165165, \\\"y\\\": 0.907492}, {\\\"x\\\": 0.16479, \\\"y\\\": 0.907385}, {\\\"x\\\": 0.164602, \\\"y\\\": 0.907206}, {\\\"x\\\": 0.164039, \\\"y\\\": 0.907027}, {\\\"x\\\": 0.163664, \\\"y\\\": 0.90692}, {\\\"x\\\": 0.163288, \\\"y\\\": 0.906599}, {\\\"x\\\": 0.163101, \\\"y\\\": 0.906313}, {\\\"x\\\": 0.162538, \\\"y\\\": 0.906098}, {\\\"x\\\": 0.161787, \\\"y\\\": 0.905884}, {\\\"x\\\": 0.161224, \\\"y\\\": 0.905526}, {\\\"x\\\": 0.161224, \\\"y\\\": 0.905383}, {\\\"x\\\": 0.160848, \\\"y\\\": 0.905133}, {\\\"x\\\": 0.160285, \\\"y\\\": 0.904919}, {\\\"x\\\": 0.159535, \\\"y\\\": 0.904847}, {\\\"x\\\": 0.159347, \\\"y\\\": 0.904668}, {\\\"x\\\": 0.159347, \\\"y\\\": 0.90449}, {\\\"x\\\": 0.158971, \\\"y\\\": 0.904382}, {\\\"x\\\": 0.158971, \\\"y\\\": 0.904239}, {\\\"x\\\": 0.158784, \\\"y\\\": 0.904025}, {\\\"x\\\": 0.158408, \\\"y\\\": 0.903846}, {\\\"x\\\": 0.157845, \\\"y\\\": 0.903667}, {\\\"x\\\": 0.157658, \\\"y\\\": 0.903238}, {\\\"x\\\": 0.157658, \\\"y\\\": 0.902881}, {\\\"x\\\": 0.156344, \\\"y\\\": 0.902595}, {\\\"x\\\": 0.155781, \\\"y\\\": 0.902273}, {\\\"x\\\": 0.155218, \\\"y\\\": 0.902023}, {\\\"x\\\": 0.155218, \\\"y\\\": 0.90163}, {\\\"x\\\": 0.154655, \\\"y\\\": 0.901451}, {\\\"x\\\": 0.154092, \\\"y\\\": 0.901344}, {\\\"x\\\": 0.153904, \\\"y\\\": 0.90113}, {\\\"x\\\": 0.153153, \\\"y\\\": 0.900879}, {\\\"x\\\": 0.152215, \\\"y\\\": 0.900272}, {\\\"x\\\": 0.151652, \\\"y\\\": 0.899878}, {\\\"x\\\": 0.151464, \\\"y\\\": 0.899521}, {\\\"x\\\": 0.150713, \\\"y\\\": 0.899199}, {\\\"x\\\": 0.150526, \\\"y\\\": 0.898985}, {\\\"x\\\": 0.150338, \\\"y\\\": 0.898592}, {\\\"x\\\": 0.15015, \\\"y\\\": 0.898341}, {\\\"x\\\": 0.149962, \\\"y\\\": 0.897948}, {\\\"x\\\": 0.149775, \\\"y\\\": 0.897591}, {\\\"x\\\": 0.149212, \\\"y\\\": 0.897198}, {\\\"x\\\": 0.148461, \\\"y\\\": 0.896947}, {\\\"x\\\": 0.147523, \\\"y\\\": 0.896626}, {\\\"x\\\": 0.147147, \\\"y\\\": 0.896161}, {\\\"x\\\": 0.146772, \\\"y\\\": 0.895875}, {\\\"x\\\": 0.146584, \\\"y\\\": 0.895482}, {\\\"x\\\": 0.146396, \\\"y\\\": 0.895089}, {\\\"x\\\": 0.146021, \\\"y\\\": 0.894624}, {\\\"x\\\": 0.144895, \\\"y\\\": 0.894338}, {\\\"x\\\": 0.144895, \\\"y\\\": 0.894052}, {\\\"x\\\": 0.14452, \\\"y\\\": 0.893444}, {\\\"x\\\": 0.143769, \\\"y\\\": 0.893051}, {\\\"x\\\": 0.143393, \\\"y\\\": 0.892622}, {\\\"x\\\": 0.143018, \\\"y\\\": 0.89205}, {\\\"x\\\": 0.142643, \\\"y\\\": 0.8913}, {\\\"x\\\": 0.142267, \\\"y\\\": 0.891049}, {\\\"x\\\": 0.141517, \\\"y\\\": 0.890728}, {\\\"x\\\": 0.141329, \\\"y\\\": 0.890442}, {\\\"x\\\": 0.140578, \\\"y\\\": 0.89012}, {\\\"x\\\": 0.14039, \\\"y\\\": 0.889691}, {\\\"x\\\": 0.140015, \\\"y\\\": 0.889334}, {\\\"x\\\": 0.139827, \\\"y\\\": 0.888905}, {\\\"x\\\": 0.138889, \\\"y\\\": 0.888404}, {\\\"x\\\": 0.138326, \\\"y\\\": 0.887725}, {\\\"x\\\": 0.13795, \\\"y\\\": 0.887439}, {\\\"x\\\": 0.137763, \\\"y\\\": 0.887118}, {\\\"x\\\": 0.1372, \\\"y\\\": 0.886653}, {\\\"x\\\": 0.136824, \\\"y\\\": 0.886367}, {\\\"x\\\": 0.136449, \\\"y\\\": 0.886009}, {\\\"x\\\": 0.135886, \\\"y\\\": 0.885616}, {\\\"x\\\": 0.135323, \\\"y\\\": 0.885366}, {\\\"x\\\": 0.134384, \\\"y\\\": 0.884758}, {\\\"x\\\": 0.133821, \\\"y\\\": 0.884151}, {\\\"x\\\": 0.133258, \\\"y\\\": 0.883829}, {\\\"x\\\": 0.132883, \\\"y\\\": 0.883293}, {\\\"x\\\": 0.13232, \\\"y\\\": 0.882864}, {\\\"x\\\": 0.13232, \\\"y\\\": 0.882149}, {\\\"x\\\": 0.131944, \\\"y\\\": 0.88172}, {\\\"x\\\": 0.131757, \\\"y\\\": 0.881184}, {\\\"x\\\": 0.131194, \\\"y\\\": 0.880755}, {\\\"x\\\": 0.130443, \\\"y\\\": 0.880147}, {\\\"x\\\": 0.130443, \\\"y\\\": 0.879826}, {\\\"x\\\": 0.130068, \\\"y\\\": 0.879182}, {\\\"x\\\": 0.129692, \\\"y\\\": 0.87836}, {\\\"x\\\": 0.129317, \\\"y\\\": 0.877895}, {\\\"x\\\": 0.128941, \\\"y\\\": 0.877037}, {\\\"x\\\": 0.128191, \\\"y\\\": 0.87668}, {\\\"x\\\": 0.127065, \\\"y\\\": 0.876001}, {\\\"x\\\": 0.126314, \\\"y\\\": 0.875322}, {\\\"x\\\": 0.125563, \\\"y\\\": 0.874571}, {\\\"x\\\": 0.125, \\\"y\\\": 0.873963}, {\\\"x\\\": 0.124625, \\\"y\\\": 0.873499}, {\\\"x\\\": 0.123123, \\\"y\\\": 0.873106}, {\\\"x\\\": 0.122748, \\\"y\\\": 0.872069}, {\\\"x\\\": 0.122185, \\\"y\\\": 0.871497}, {\\\"x\\\": 0.121434, \\\"y\\\": 0.870854}, {\\\"x\\\": 0.121059, \\\"y\\\": 0.870174}, {\\\"x\\\": 0.12012, \\\"y\\\": 0.869388}, {\\\"x\\\": 0.119745, \\\"y\\\": 0.868709}, {\\\"x\\\": 0.119182, \\\"y\\\": 0.868459}, {\\\"x\\\": 0.118243, \\\"y\\\": 0.867923}, {\\\"x\\\": 0.11768, \\\"y\\\": 0.866957}, {\\\"x\\\": 0.11768, \\\"y\\\": 0.866421}, {\\\"x\\\": 0.116742, \\\"y\\\": 0.865635}, {\\\"x\\\": 0.116554, \\\"y\\\": 0.864634}, {\\\"x\\\": 0.115991, \\\"y\\\": 0.863776}, {\\\"x\\\": 0.11524, \\\"y\\\": 0.86324}, {\\\"x\\\": 0.115053, \\\"y\\\": 0.862311}, {\\\"x\\\": 0.113739, \\\"y\\\": 0.861631}, {\\\"x\\\": 0.112988, \\\"y\\\": 0.860416}, {\\\"x\\\": 0.112237, \\\"y\\\": 0.85963}, {\\\"x\\\": 0.111486, \\\"y\\\": 0.858915}, {\\\"x\\\": 0.111111, \\\"y\\\": 0.858093}, {\\\"x\\\": 0.11036, \\\"y\\\": 0.85702}, {\\\"x\\\": 0.110173, \\\"y\\\": 0.856127}, {\\\"x\\\": 0.108859, \\\"y\\\": 0.855197}, {\\\"x\\\": 0.10792, \\\"y\\\": 0.854697}, {\\\"x\\\": 0.107545, \\\"y\\\": 0.853339}, {\\\"x\\\": 0.107357, \\\"y\\\": 0.852516}, {\\\"x\\\": 0.106607, \\\"y\\\": 0.851408}, {\\\"x\\\": 0.106231, \\\"y\\\": 0.850372}, {\\\"x\\\": 0.105105, \\\"y\\\": 0.849371}, {\\\"x\\\": 0.104542, \\\"y\\\": 0.848263}, {\\\"x\\\": 0.103604, \\\"y\\\": 0.847083}, {\\\"x\\\": 0.103041, \\\"y\\\": 0.845832}, {\\\"x\\\": 0.101539, \\\"y\\\": 0.844474}, {\\\"x\\\": 0.101164, \\\"y\\\": 0.843008}, {\\\"x\\\": 0.100601, \\\"y\\\": 0.841614}, {\\\"x\\\": 0.099474, \\\"y\\\": 0.84022}, {\\\"x\\\": 0.098911, \\\"y\\\": 0.838647}, {\\\"x\\\": 0.098348, \\\"y\\\": 0.83711}, {\\\"x\\\": 0.097598, \\\"y\\\": 0.835073}, {\\\"x\\\": 0.096659, \\\"y\\\": 0.833643}, {\\\"x\\\": 0.095908, \\\"y\\\": 0.832249}, {\\\"x\\\": 0.095158, \\\"y\\\": 0.830712}, {\\\"x\\\": 0.094407, \\\"y\\\": 0.828532}, {\\\"x\\\": 0.094032, \\\"y\\\": 0.826816}, {\\\"x\\\": 0.093468, \\\"y\\\": 0.8246}, {\\\"x\\\": 0.092905, \\\"y\\\": 0.823098}, {\\\"x\\\": 0.092718, \\\"y\\\": 0.821025}, {\\\"x\\\": 0.091779, \\\"y\\\": 0.818702}, {\\\"x\\\": 0.090465, \\\"y\\\": 0.816271}, {\\\"x\\\": 0.09009, \\\"y\\\": 0.814305}, {\\\"x\\\": 0.088589, \\\"y\\\": 0.812232}, {\\\"x\\\": 0.087838, \\\"y\\\": 0.809766}, {\\\"x\\\": 0.086712, \\\"y\\\": 0.807371}, {\\\"x\\\": 0.085961, \\\"y\\\": 0.804618}, {\\\"x\\\": 0.08521, \\\"y\\\": 0.802152}, {\\\"x\\\": 0.083709, \\\"y\\\": 0.799185}, {\\\"x\\\": 0.08277, \\\"y\\\": 0.796218}, {\\\"x\\\": 0.08202, \\\"y\\\": 0.792858}, {\\\"x\\\": 0.080518, \\\"y\\\": 0.789212}, {\\\"x\\\": 0.078829, \\\"y\\\": 0.785459}, {\\\"x\\\": 0.077703, \\\"y\\\": 0.780991}, {\\\"x\\\": 0.076014, \\\"y\\\": 0.776487}, {\\\"x\\\": 0.074324, \\\"y\\\": 0.771304}, {\\\"x\\\": 0.072635, \\\"y\\\": 0.767015}, {\\\"x\\\": 0.071509, \\\"y\\\": 0.761224}, {\\\"x\\\": 0.069069, \\\"y\\\": 0.754826}, {\\\"x\\\": 0.067005, \\\"y\\\": 0.74882}, {\\\"x\\\": 0.064189, \\\"y\\\": 0.740992}, {\\\"x\\\": 0.061749, \\\"y\\\": 0.731734}, {\\\"x\\\": 0.060248, \\\"y\\\": 0.721762}, {\\\"x\\\": 0.058371, \\\"y\\\": 0.711646}, {\\\"x\\\": 0.054617, \\\"y\\\": 0.699528}, {\\\"x\\\": 0.051426, \\\"y\\\": 0.685266}, {\\\"x\\\": 0.048423, \\\"y\\\": 0.665106}, {\\\"x\\\": 0.044107, \\\"y\\\": 0.640835}, {\\\"x\\\": 0.039039, \\\"y\\\": 0.605162}, {\\\"x\\\": 0.031532, \\\"y\\\": 0.542822}, {\\\"x\\\": 0.0, \\\"y\\\": 0.0}]}], \\\"marks\\\": [{\\\"name\\\": \\\"marks\\\", \\\"type\\\": \\\"symbol\\\", \\\"style\\\": [\\\"circle\\\"], \\\"from\\\": {\\\"data\\\": \\\"source_2\\\"}, \\\"encode\\\": {\\\"hover\\\": {\\\"fill\\\": {\\\"value\\\": \\\"#7EC2F3\\\"}}, \\\"update\\\": {\\\"x\\\": {\\\"scale\\\": \\\"x\\\", \\\"field\\\": \\\"x\\\"}, \\\"y\\\": {\\\"scale\\\": \\\"y\\\", \\\"field\\\": \\\"y\\\", \\\"title\\\": \\\"Miles per Gallon\\\"}, \\\"fill\\\": {\\\"value\\\": \\\"#108EE9\\\"}, \\\"shape\\\": {\\\"value\\\": \\\"circle\\\"}, \\\"opacity\\\": {\\\"value\\\": 0.7}}}}], \\\"scales\\\": [{\\\"name\\\": \\\"x\\\", \\\"type\\\": \\\"linear\\\", \\\"domain\\\": {\\\"data\\\": \\\"source_2\\\", \\\"field\\\": \\\"x\\\"}, \\\"range\\\": [0, {\\\"signal\\\": \\\"width\\\"}], \\\"nice\\\": true, \\\"zero\\\": false, \\\"padding\\\": 5}, {\\\"name\\\": \\\"y\\\", \\\"type\\\": \\\"linear\\\", \\\"domain\\\": {\\\"data\\\": \\\"source_2\\\", \\\"field\\\": \\\"y\\\"}, \\\"range\\\": [{\\\"signal\\\": \\\"height\\\"}, 0], \\\"nice\\\": true, \\\"zero\\\": false, \\\"padding\\\": 5}], \\\"axes\\\": [{\\\"scale\\\": \\\"x\\\", \\\"labelOverlap\\\": true, \\\"orient\\\": \\\"bottom\\\", \\\"tickCount\\\": {\\\"signal\\\": \\\"ceil(width/40)\\\"}, \\\"title\\\": \\\"X\\\", \\\"zindex\\\": 1}, {\\\"scale\\\": \\\"x\\\", \\\"domain\\\": false, \\\"grid\\\": true, \\\"labels\\\": false, \\\"maxExtent\\\": 0, \\\"minExtent\\\": 0, \\\"orient\\\": \\\"bottom\\\", \\\"tickCount\\\": {\\\"signal\\\": \\\"ceil(width/40)\\\"}, \\\"ticks\\\": false, \\\"zindex\\\": 0, \\\"gridScale\\\": \\\"y\\\"}, {\\\"scale\\\": \\\"y\\\", \\\"labelOverlap\\\": true, \\\"orient\\\": \\\"left\\\", \\\"tickCount\\\": {\\\"signal\\\": \\\"ceil(height/40)\\\"}, \\\"title\\\": \\\"Y\\\", \\\"zindex\\\": 1}, {\\\"scale\\\": \\\"y\\\", \\\"domain\\\": false, \\\"grid\\\": true, \\\"labels\\\": false, \\\"maxExtent\\\": 0, \\\"minExtent\\\": 0, \\\"orient\\\": \\\"left\\\", \\\"tickCount\\\": {\\\"signal\\\": \\\"ceil(height/40)\\\"}, \\\"ticks\\\": false, \\\"zindex\\\": 0, \\\"gridScale\\\": \\\"x\\\"}], \\\"config\\\": {\\\"axis\\\": {\\\"gridColor\\\": \\\"rgba(204,204,204,1.0)\\\", \\\"labelFont\\\": \\\"\\\\\\\"San Francisco\\\\\\\", HelveticaNeue, Arial\\\", \\\"labelFontSize\\\": 12, \\\"labelPadding\\\": 10, \\\"labelColor\\\": \\\"rgba(0,0,0,0.847)\\\", \\\"tickColor\\\": \\\"rgb(136,136,136)\\\", \\\"titleFont\\\": \\\"\\\\\\\"San Francisco\\\\\\\", HelveticaNeue, Arial\\\", \\\"titleFontWeight\\\": \\\"normal\\\", \\\"titlePadding\\\": 20, \\\"titleFontSize\\\": 14, \\\"titleColor\\\": \\\"rgba(0,0,0,0.847)\\\"}, \\\"axisY\\\": {\\\"minExtent\\\": 30}, \\\"legend\\\": {\\\"labelFont\\\": \\\"\\\\\\\"San Francisco\\\\\\\", HelveticaNeue, Arial\\\", \\\"labelColor\\\": \\\"rgba(0,0,0,0.847)\\\", \\\"titleFont\\\": \\\"\\\\\\\"San Francisco\\\\\\\", HelveticaNeue, Arial\\\", \\\"cornerRadius\\\": 30, \\\"gradientLength\\\": 608, \\\"titleColor\\\": \\\"rgba(0,0,0,0.847)\\\"}, \\\"range\\\": {\\\"heatmap\\\": {\\\"scheme\\\": \\\"greenblue\\\"}}, \\\"style\\\": {\\\"rect\\\": {\\\"stroke\\\": \\\"rgba(200, 200, 200, 0.5)\\\"}, \\\"cell\\\": {\\\"stroke\\\": \\\"transparent\\\"}, \\\"group-title\\\": {\\\"fontSize\\\": 29, \\\"font\\\": \\\"HelveticaNeue, Arial\\\", \\\"fontWeight\\\": \\\"normal\\\", \\\"fill\\\": \\\"rgba(0,0,0,0.65)\\\"}}, \\\"title\\\": {\\\"color\\\": \\\"rgba(0,0,0,0.847)\\\", \\\"font\\\": \\\"\\\\\\\"San Francisco\\\\\\\", HelveticaNeue, Arial\\\", \\\"fontSize\\\": 18, \\\"fontWeight\\\": \\\"normal\\\", \\\"offset\\\": 30}}}\";                                 var vega_json_parsed = JSON.parse(vega_json);                                 var toolTipOpts = {                                     showAllFields: true                                 };                                 if(vega_json_parsed[\"metadata\"] != null){                                     if(vega_json_parsed[\"metadata\"][\"bubbleOpts\"] != null){                                         toolTipOpts = vega_json_parsed[\"metadata\"][\"bubbleOpts\"];                                     };                                 };                                 vegaEmbed(\"#vis\", vega_json_parsed).then(function (result) {                                     vegaTooltip.vega(result.view, toolTipOpts);                                  });                             </script>                         </body>                     </html>' src=\"demo_iframe_srcdoc.htm\">                         <p>Your browser does not support iframes.</p>                     </iframe>                 </body>             </html>"
      ],
      "text/plain": [
       "<IPython.core.display.HTML object>"
      ]
     },
     "metadata": {},
     "output_type": "display_data"
    }
   ],
   "source": [
    "turicreate.show(evaluation['roc_curve']['fpr'], evaluation['roc_curve']['tpr'])"
   ]
  },
  {
   "cell_type": "code",
   "execution_count": 25,
   "metadata": {},
   "outputs": [
    {
     "data": {
      "text/html": [
       "<div style=\"max-height:1000px;max-width:1500px;overflow:auto;\"><table frame=\"box\" rules=\"cols\">\n",
       "    <tr>\n",
       "        <th style=\"padding-left: 1em; padding-right: 1em; text-align: center\">class</th>\n",
       "        <th style=\"padding-left: 1em; padding-right: 1em; text-align: center\">probability</th>\n",
       "    </tr>\n",
       "    <tr>\n",
       "        <td style=\"padding-left: 1em; padding-right: 1em; text-align: center; vertical-align: top\">1</td>\n",
       "        <td style=\"padding-left: 1em; padding-right: 1em; text-align: center; vertical-align: top\">0.9976805601490545</td>\n",
       "    </tr>\n",
       "    <tr>\n",
       "        <td style=\"padding-left: 1em; padding-right: 1em; text-align: center; vertical-align: top\">1</td>\n",
       "        <td style=\"padding-left: 1em; padding-right: 1em; text-align: center; vertical-align: top\">0.9875586252088082</td>\n",
       "    </tr>\n",
       "    <tr>\n",
       "        <td style=\"padding-left: 1em; padding-right: 1em; text-align: center; vertical-align: top\">1</td>\n",
       "        <td style=\"padding-left: 1em; padding-right: 1em; text-align: center; vertical-align: top\">0.9597572503048956</td>\n",
       "    </tr>\n",
       "    <tr>\n",
       "        <td style=\"padding-left: 1em; padding-right: 1em; text-align: center; vertical-align: top\">1</td>\n",
       "        <td style=\"padding-left: 1em; padding-right: 1em; text-align: center; vertical-align: top\">0.9996085875070149</td>\n",
       "    </tr>\n",
       "    <tr>\n",
       "        <td style=\"padding-left: 1em; padding-right: 1em; text-align: center; vertical-align: top\">1</td>\n",
       "        <td style=\"padding-left: 1em; padding-right: 1em; text-align: center; vertical-align: top\">0.7756524505639525</td>\n",
       "    </tr>\n",
       "    <tr>\n",
       "        <td style=\"padding-left: 1em; padding-right: 1em; text-align: center; vertical-align: top\">1</td>\n",
       "        <td style=\"padding-left: 1em; padding-right: 1em; text-align: center; vertical-align: top\">0.998953369243179</td>\n",
       "    </tr>\n",
       "    <tr>\n",
       "        <td style=\"padding-left: 1em; padding-right: 1em; text-align: center; vertical-align: top\">1</td>\n",
       "        <td style=\"padding-left: 1em; padding-right: 1em; text-align: center; vertical-align: top\">0.9999999837018325</td>\n",
       "    </tr>\n",
       "    <tr>\n",
       "        <td style=\"padding-left: 1em; padding-right: 1em; text-align: center; vertical-align: top\">1</td>\n",
       "        <td style=\"padding-left: 1em; padding-right: 1em; text-align: center; vertical-align: top\">0.9999595912517734</td>\n",
       "    </tr>\n",
       "    <tr>\n",
       "        <td style=\"padding-left: 1em; padding-right: 1em; text-align: center; vertical-align: top\">1</td>\n",
       "        <td style=\"padding-left: 1em; padding-right: 1em; text-align: center; vertical-align: top\">0.9999598003658957</td>\n",
       "    </tr>\n",
       "    <tr>\n",
       "        <td style=\"padding-left: 1em; padding-right: 1em; text-align: center; vertical-align: top\">1</td>\n",
       "        <td style=\"padding-left: 1em; padding-right: 1em; text-align: center; vertical-align: top\">0.9999141266978709</td>\n",
       "    </tr>\n",
       "</table>\n",
       "[33304 rows x 2 columns]<br/>Note: Only the head of the SFrame is printed.<br/>You can use print_rows(num_rows=m, num_columns=n) to print more rows and columns.\n",
       "</div>"
      ],
      "text/plain": [
       "Columns:\n",
       "\tclass\tint\n",
       "\tprobability\tfloat\n",
       "\n",
       "Rows: 33304\n",
       "\n",
       "Data:\n",
       "+-------+--------------------+\n",
       "| class |    probability     |\n",
       "+-------+--------------------+\n",
       "|   1   | 0.9976805601490545 |\n",
       "|   1   | 0.9875586252088082 |\n",
       "|   1   | 0.9597572503048956 |\n",
       "|   1   | 0.9996085875070149 |\n",
       "|   1   | 0.7756524505639525 |\n",
       "|   1   | 0.998953369243179  |\n",
       "|   1   | 0.9999999837018325 |\n",
       "|   1   | 0.9999595912517734 |\n",
       "|   1   | 0.9999598003658957 |\n",
       "|   1   | 0.9999141266978709 |\n",
       "+-------+--------------------+\n",
       "[33304 rows x 2 columns]\n",
       "Note: Only the head of the SFrame is printed.\n",
       "You can use print_rows(num_rows=m, num_columns=n) to print more rows and columns."
      ]
     },
     "execution_count": 25,
     "metadata": {},
     "output_type": "execute_result"
    }
   ],
   "source": [
    "sentiment_model.classify(test_data)"
   ]
  },
  {
   "cell_type": "markdown",
   "metadata": {},
   "source": [
    "# Use the sentiment classifier to better understand the Giraffe reviews"
   ]
  },
  {
   "cell_type": "code",
   "execution_count": 38,
   "metadata": {},
   "outputs": [],
   "source": [
    "products['predicted_sentiment'] = sentiment_model.predict(products, output_type = 'probability')\n",
    "# the probability output helps understand the confidence/extent that the review is positive/negative"
   ]
  },
  {
   "cell_type": "code",
   "execution_count": 32,
   "metadata": {},
   "outputs": [
    {
     "data": {
      "text/html": [
       "<div style=\"max-height:1000px;max-width:1500px;overflow:auto;\"><table frame=\"box\" rules=\"cols\">\n",
       "    <tr>\n",
       "        <th style=\"padding-left: 1em; padding-right: 1em; text-align: center\">name</th>\n",
       "        <th style=\"padding-left: 1em; padding-right: 1em; text-align: center\">review</th>\n",
       "        <th style=\"padding-left: 1em; padding-right: 1em; text-align: center\">rating</th>\n",
       "        <th style=\"padding-left: 1em; padding-right: 1em; text-align: center\">word_count</th>\n",
       "        <th style=\"padding-left: 1em; padding-right: 1em; text-align: center\">sentiment</th>\n",
       "    </tr>\n",
       "    <tr>\n",
       "        <td style=\"padding-left: 1em; padding-right: 1em; text-align: center; vertical-align: top\">Planetwise Wipe Pouch</td>\n",
       "        <td style=\"padding-left: 1em; padding-right: 1em; text-align: center; vertical-align: top\">it came early and was not<br>disappointed. i love ...</td>\n",
       "        <td style=\"padding-left: 1em; padding-right: 1em; text-align: center; vertical-align: top\">5.0</td>\n",
       "        <td style=\"padding-left: 1em; padding-right: 1em; text-align: center; vertical-align: top\">{&#x27;recommend&#x27;: 1.0,<br>&#x27;moist&#x27;: 1.0, &#x27;osocozy&#x27;: ...</td>\n",
       "        <td style=\"padding-left: 1em; padding-right: 1em; text-align: center; vertical-align: top\">1</td>\n",
       "    </tr>\n",
       "    <tr>\n",
       "        <td style=\"padding-left: 1em; padding-right: 1em; text-align: center; vertical-align: top\">Annas Dream Full Quilt<br>with 2 Shams ...</td>\n",
       "        <td style=\"padding-left: 1em; padding-right: 1em; text-align: center; vertical-align: top\">Very soft and comfortable<br>and warmer than it ...</td>\n",
       "        <td style=\"padding-left: 1em; padding-right: 1em; text-align: center; vertical-align: top\">5.0</td>\n",
       "        <td style=\"padding-left: 1em; padding-right: 1em; text-align: center; vertical-align: top\">{&#x27;quilt&#x27;: 1.0,<br>&#x27;comfortable&#x27;: 1.0, ...</td>\n",
       "        <td style=\"padding-left: 1em; padding-right: 1em; text-align: center; vertical-align: top\">1</td>\n",
       "    </tr>\n",
       "    <tr>\n",
       "        <td style=\"padding-left: 1em; padding-right: 1em; text-align: center; vertical-align: top\">Stop Pacifier Sucking<br>without tears with ...</td>\n",
       "        <td style=\"padding-left: 1em; padding-right: 1em; text-align: center; vertical-align: top\">This is a product well<br>worth the purchase.  I ...</td>\n",
       "        <td style=\"padding-left: 1em; padding-right: 1em; text-align: center; vertical-align: top\">5.0</td>\n",
       "        <td style=\"padding-left: 1em; padding-right: 1em; text-align: center; vertical-align: top\">{&#x27;tool&#x27;: 1.0, &#x27;clever&#x27;:<br>1.0, &#x27;little&#x27;: 1.0, ...</td>\n",
       "        <td style=\"padding-left: 1em; padding-right: 1em; text-align: center; vertical-align: top\">1</td>\n",
       "    </tr>\n",
       "    <tr>\n",
       "        <td style=\"padding-left: 1em; padding-right: 1em; text-align: center; vertical-align: top\">Stop Pacifier Sucking<br>without tears with ...</td>\n",
       "        <td style=\"padding-left: 1em; padding-right: 1em; text-align: center; vertical-align: top\">All of my kids have cried<br>non-stop when I tried to ...</td>\n",
       "        <td style=\"padding-left: 1em; padding-right: 1em; text-align: center; vertical-align: top\">5.0</td>\n",
       "        <td style=\"padding-left: 1em; padding-right: 1em; text-align: center; vertical-align: top\">{&#x27;rock&#x27;: 1.0, &#x27;many&#x27;:<br>1.0, &#x27;headaches&#x27;: 1.0, ...</td>\n",
       "        <td style=\"padding-left: 1em; padding-right: 1em; text-align: center; vertical-align: top\">1</td>\n",
       "    </tr>\n",
       "    <tr>\n",
       "        <td style=\"padding-left: 1em; padding-right: 1em; text-align: center; vertical-align: top\">Stop Pacifier Sucking<br>without tears with ...</td>\n",
       "        <td style=\"padding-left: 1em; padding-right: 1em; text-align: center; vertical-align: top\">When the Binky Fairy came<br>to our house, we didn&#x27;t ...</td>\n",
       "        <td style=\"padding-left: 1em; padding-right: 1em; text-align: center; vertical-align: top\">5.0</td>\n",
       "        <td style=\"padding-left: 1em; padding-right: 1em; text-align: center; vertical-align: top\">{&#x27;thumb&#x27;: 1.0, &#x27;or&#x27;: 1.0,<br>&#x27;break&#x27;: 1.0, &#x27;trying&#x27;: ...</td>\n",
       "        <td style=\"padding-left: 1em; padding-right: 1em; text-align: center; vertical-align: top\">1</td>\n",
       "    </tr>\n",
       "    <tr>\n",
       "        <td style=\"padding-left: 1em; padding-right: 1em; text-align: center; vertical-align: top\">A Tale of Baby&#x27;s Days<br>with Peter Rabbit ...</td>\n",
       "        <td style=\"padding-left: 1em; padding-right: 1em; text-align: center; vertical-align: top\">Lovely book, it&#x27;s bound<br>tightly so you may no ...</td>\n",
       "        <td style=\"padding-left: 1em; padding-right: 1em; text-align: center; vertical-align: top\">4.0</td>\n",
       "        <td style=\"padding-left: 1em; padding-right: 1em; text-align: center; vertical-align: top\">{&#x27;for&#x27;: 1.0, &#x27;barnes&#x27;:<br>1.0, &#x27;at&#x27;: 1.0, &#x27;is&#x27;: ...</td>\n",
       "        <td style=\"padding-left: 1em; padding-right: 1em; text-align: center; vertical-align: top\">1</td>\n",
       "    </tr>\n",
       "    <tr>\n",
       "        <td style=\"padding-left: 1em; padding-right: 1em; text-align: center; vertical-align: top\">Baby Tracker&amp;reg; - Daily<br>Childcare Journal, ...</td>\n",
       "        <td style=\"padding-left: 1em; padding-right: 1em; text-align: center; vertical-align: top\">Perfect for new parents.<br>We were able to keep ...</td>\n",
       "        <td style=\"padding-left: 1em; padding-right: 1em; text-align: center; vertical-align: top\">5.0</td>\n",
       "        <td style=\"padding-left: 1em; padding-right: 1em; text-align: center; vertical-align: top\">{&#x27;right&#x27;: 1.0, &#x27;because&#x27;:<br>1.0, &#x27;questions&#x27;: 1.0, ...</td>\n",
       "        <td style=\"padding-left: 1em; padding-right: 1em; text-align: center; vertical-align: top\">1</td>\n",
       "    </tr>\n",
       "    <tr>\n",
       "        <td style=\"padding-left: 1em; padding-right: 1em; text-align: center; vertical-align: top\">Baby Tracker&amp;reg; - Daily<br>Childcare Journal, ...</td>\n",
       "        <td style=\"padding-left: 1em; padding-right: 1em; text-align: center; vertical-align: top\">A friend of mine pinned<br>this product on Pinte ...</td>\n",
       "        <td style=\"padding-left: 1em; padding-right: 1em; text-align: center; vertical-align: top\">5.0</td>\n",
       "        <td style=\"padding-left: 1em; padding-right: 1em; text-align: center; vertical-align: top\">{&#x27;like&#x27;: 1.0, &#x27;and&#x27;: 1.0,<br>&#x27;changes&#x27;: 1.0, &#x27;the&#x27;: ...</td>\n",
       "        <td style=\"padding-left: 1em; padding-right: 1em; text-align: center; vertical-align: top\">1</td>\n",
       "    </tr>\n",
       "    <tr>\n",
       "        <td style=\"padding-left: 1em; padding-right: 1em; text-align: center; vertical-align: top\">Baby Tracker&amp;reg; - Daily<br>Childcare Journal, ...</td>\n",
       "        <td style=\"padding-left: 1em; padding-right: 1em; text-align: center; vertical-align: top\">This has been an easy way<br>for my nanny to record ...</td>\n",
       "        <td style=\"padding-left: 1em; padding-right: 1em; text-align: center; vertical-align: top\">4.0</td>\n",
       "        <td style=\"padding-left: 1em; padding-right: 1em; text-align: center; vertical-align: top\">{&#x27;in&#x27;: 1.0, &#x27;pages&#x27;: 1.0,<br>&#x27;out&#x27;: 1.0, &#x27;run&#x27;: 1.0, ...</td>\n",
       "        <td style=\"padding-left: 1em; padding-right: 1em; text-align: center; vertical-align: top\">1</td>\n",
       "    </tr>\n",
       "    <tr>\n",
       "        <td style=\"padding-left: 1em; padding-right: 1em; text-align: center; vertical-align: top\">Baby Tracker&amp;reg; - Daily<br>Childcare Journal, ...</td>\n",
       "        <td style=\"padding-left: 1em; padding-right: 1em; text-align: center; vertical-align: top\">I love this journal and<br>our nanny uses it ...</td>\n",
       "        <td style=\"padding-left: 1em; padding-right: 1em; text-align: center; vertical-align: top\">4.0</td>\n",
       "        <td style=\"padding-left: 1em; padding-right: 1em; text-align: center; vertical-align: top\">{&#x27;tracker&#x27;: 1.0,<br>&#x27;recommend&#x27;: 1.0, ...</td>\n",
       "        <td style=\"padding-left: 1em; padding-right: 1em; text-align: center; vertical-align: top\">1</td>\n",
       "    </tr>\n",
       "</table>\n",
       "<table frame=\"box\" rules=\"cols\">\n",
       "    <tr>\n",
       "        <th style=\"padding-left: 1em; padding-right: 1em; text-align: center\">predicted_sentiment</th>\n",
       "    </tr>\n",
       "    <tr>\n",
       "        <td style=\"padding-left: 1em; padding-right: 1em; text-align: center; vertical-align: top\">0.9997307390047091</td>\n",
       "    </tr>\n",
       "    <tr>\n",
       "        <td style=\"padding-left: 1em; padding-right: 1em; text-align: center; vertical-align: top\">0.9985083368316612</td>\n",
       "    </tr>\n",
       "    <tr>\n",
       "        <td style=\"padding-left: 1em; padding-right: 1em; text-align: center; vertical-align: top\">0.9997489042499881</td>\n",
       "    </tr>\n",
       "    <tr>\n",
       "        <td style=\"padding-left: 1em; padding-right: 1em; text-align: center; vertical-align: top\">0.9999916625399973</td>\n",
       "    </tr>\n",
       "    <tr>\n",
       "        <td style=\"padding-left: 1em; padding-right: 1em; text-align: center; vertical-align: top\">0.9999999514462167</td>\n",
       "    </tr>\n",
       "    <tr>\n",
       "        <td style=\"padding-left: 1em; padding-right: 1em; text-align: center; vertical-align: top\">0.9999146735569904</td>\n",
       "    </tr>\n",
       "    <tr>\n",
       "        <td style=\"padding-left: 1em; padding-right: 1em; text-align: center; vertical-align: top\">0.9999916615904652</td>\n",
       "    </tr>\n",
       "    <tr>\n",
       "        <td style=\"padding-left: 1em; padding-right: 1em; text-align: center; vertical-align: top\">0.9999938843594008</td>\n",
       "    </tr>\n",
       "    <tr>\n",
       "        <td style=\"padding-left: 1em; padding-right: 1em; text-align: center; vertical-align: top\">0.9961247617006402</td>\n",
       "    </tr>\n",
       "    <tr>\n",
       "        <td style=\"padding-left: 1em; padding-right: 1em; text-align: center; vertical-align: top\">0.9999999920460633</td>\n",
       "    </tr>\n",
       "</table>\n",
       "[166752 rows x 6 columns]<br/>Note: Only the head of the SFrame is printed.<br/>You can use print_rows(num_rows=m, num_columns=n) to print more rows and columns.\n",
       "</div>"
      ],
      "text/plain": [
       "Columns:\n",
       "\tname\tstr\n",
       "\treview\tstr\n",
       "\trating\tfloat\n",
       "\tword_count\tdict\n",
       "\tsentiment\tint\n",
       "\tpredicted_sentiment\tfloat\n",
       "\n",
       "Rows: 166752\n",
       "\n",
       "Data:\n",
       "+-------------------------------+-------------------------------+--------+\n",
       "|              name             |             review            | rating |\n",
       "+-------------------------------+-------------------------------+--------+\n",
       "|     Planetwise Wipe Pouch     | it came early and was not ... |  5.0   |\n",
       "| Annas Dream Full Quilt wit... | Very soft and comfortable ... |  5.0   |\n",
       "| Stop Pacifier Sucking with... | This is a product well wor... |  5.0   |\n",
       "| Stop Pacifier Sucking with... | All of my kids have cried ... |  5.0   |\n",
       "| Stop Pacifier Sucking with... | When the Binky Fairy came ... |  5.0   |\n",
       "| A Tale of Baby's Days with... | Lovely book, it's bound ti... |  4.0   |\n",
       "| Baby Tracker&reg; - Daily ... | Perfect for new parents. W... |  5.0   |\n",
       "| Baby Tracker&reg; - Daily ... | A friend of mine pinned th... |  5.0   |\n",
       "| Baby Tracker&reg; - Daily ... | This has been an easy way ... |  4.0   |\n",
       "| Baby Tracker&reg; - Daily ... | I love this journal and ou... |  4.0   |\n",
       "+-------------------------------+-------------------------------+--------+\n",
       "+-------------------------------+-----------+---------------------+\n",
       "|           word_count          | sentiment | predicted_sentiment |\n",
       "+-------------------------------+-----------+---------------------+\n",
       "| {'recommend': 1.0, 'moist'... |     1     |  0.9997307390047091 |\n",
       "| {'quilt': 1.0, 'comfortabl... |     1     |  0.9985083368316612 |\n",
       "| {'tool': 1.0, 'clever': 1.... |     1     |  0.9997489042499881 |\n",
       "| {'rock': 1.0, 'many': 1.0,... |     1     |  0.9999916625399973 |\n",
       "| {'thumb': 1.0, 'or': 1.0, ... |     1     |  0.9999999514462167 |\n",
       "| {'for': 1.0, 'barnes': 1.0... |     1     |  0.9999146735569904 |\n",
       "| {'right': 1.0, 'because': ... |     1     |  0.9999916615904652 |\n",
       "| {'like': 1.0, 'and': 1.0, ... |     1     |  0.9999938843594008 |\n",
       "| {'in': 1.0, 'pages': 1.0, ... |     1     |  0.9961247617006402 |\n",
       "| {'tracker': 1.0, 'recommen... |     1     |  0.9999999920460633 |\n",
       "+-------------------------------+-----------+---------------------+\n",
       "[166752 rows x 6 columns]\n",
       "Note: Only the head of the SFrame is printed.\n",
       "You can use print_rows(num_rows=m, num_columns=n) to print more rows and columns."
      ]
     },
     "execution_count": 32,
     "metadata": {},
     "output_type": "execute_result"
    }
   ],
   "source": [
    "products"
   ]
  },
  {
   "cell_type": "code",
   "execution_count": 34,
   "metadata": {},
   "outputs": [],
   "source": [
    "giraffe_reviews = products[products['name']== 'Vulli Sophie the Giraffe Teether']"
   ]
  },
  {
   "cell_type": "code",
   "execution_count": 35,
   "metadata": {},
   "outputs": [
    {
     "data": {
      "text/html": [
       "<div style=\"max-height:1000px;max-width:1500px;overflow:auto;\"><table frame=\"box\" rules=\"cols\">\n",
       "    <tr>\n",
       "        <th style=\"padding-left: 1em; padding-right: 1em; text-align: center\">name</th>\n",
       "        <th style=\"padding-left: 1em; padding-right: 1em; text-align: center\">review</th>\n",
       "        <th style=\"padding-left: 1em; padding-right: 1em; text-align: center\">rating</th>\n",
       "        <th style=\"padding-left: 1em; padding-right: 1em; text-align: center\">word_count</th>\n",
       "        <th style=\"padding-left: 1em; padding-right: 1em; text-align: center\">sentiment</th>\n",
       "    </tr>\n",
       "    <tr>\n",
       "        <td style=\"padding-left: 1em; padding-right: 1em; text-align: center; vertical-align: top\">Vulli Sophie the Giraffe<br>Teether ...</td>\n",
       "        <td style=\"padding-left: 1em; padding-right: 1em; text-align: center; vertical-align: top\">He likes chewing on all<br>the parts especially the ...</td>\n",
       "        <td style=\"padding-left: 1em; padding-right: 1em; text-align: center; vertical-align: top\">5.0</td>\n",
       "        <td style=\"padding-left: 1em; padding-right: 1em; text-align: center; vertical-align: top\">{&#x27;purchase&#x27;: 1.0,<br>&#x27;teething&#x27;: 1.0, ...</td>\n",
       "        <td style=\"padding-left: 1em; padding-right: 1em; text-align: center; vertical-align: top\">1</td>\n",
       "    </tr>\n",
       "    <tr>\n",
       "        <td style=\"padding-left: 1em; padding-right: 1em; text-align: center; vertical-align: top\">Vulli Sophie the Giraffe<br>Teether ...</td>\n",
       "        <td style=\"padding-left: 1em; padding-right: 1em; text-align: center; vertical-align: top\">My son loves this toy and<br>fits great in the diaper ...</td>\n",
       "        <td style=\"padding-left: 1em; padding-right: 1em; text-align: center; vertical-align: top\">5.0</td>\n",
       "        <td style=\"padding-left: 1em; padding-right: 1em; text-align: center; vertical-align: top\">{&#x27;a&#x27;: 1.0, &#x27;is&#x27;: 1.0,<br>&#x27;when&#x27;: 1.0, &#x27;him&#x27;: 1.0, ...</td>\n",
       "        <td style=\"padding-left: 1em; padding-right: 1em; text-align: center; vertical-align: top\">1</td>\n",
       "    </tr>\n",
       "    <tr>\n",
       "        <td style=\"padding-left: 1em; padding-right: 1em; text-align: center; vertical-align: top\">Vulli Sophie the Giraffe<br>Teether ...</td>\n",
       "        <td style=\"padding-left: 1em; padding-right: 1em; text-align: center; vertical-align: top\">There really should be a<br>large warning on the  ...</td>\n",
       "        <td style=\"padding-left: 1em; padding-right: 1em; text-align: center; vertical-align: top\">1.0</td>\n",
       "        <td style=\"padding-left: 1em; padding-right: 1em; text-align: center; vertical-align: top\">{&#x27;made&#x27;: 1.0, &#x27;of&#x27;: 1.0,<br>&#x27;packaging&#x27;: 1.0, &#x27;no&#x27;: ...</td>\n",
       "        <td style=\"padding-left: 1em; padding-right: 1em; text-align: center; vertical-align: top\">0</td>\n",
       "    </tr>\n",
       "    <tr>\n",
       "        <td style=\"padding-left: 1em; padding-right: 1em; text-align: center; vertical-align: top\">Vulli Sophie the Giraffe<br>Teether ...</td>\n",
       "        <td style=\"padding-left: 1em; padding-right: 1em; text-align: center; vertical-align: top\">All the moms in my moms&#x27;<br>group got Sophie for ...</td>\n",
       "        <td style=\"padding-left: 1em; padding-right: 1em; text-align: center; vertical-align: top\">5.0</td>\n",
       "        <td style=\"padding-left: 1em; padding-right: 1em; text-align: center; vertical-align: top\">{&#x27;another&#x27;: 1.0, &#x27;out&#x27;:<br>1.0, &#x27;run&#x27;: 1.0, &#x27;lost&#x27;: ...</td>\n",
       "        <td style=\"padding-left: 1em; padding-right: 1em; text-align: center; vertical-align: top\">1</td>\n",
       "    </tr>\n",
       "    <tr>\n",
       "        <td style=\"padding-left: 1em; padding-right: 1em; text-align: center; vertical-align: top\">Vulli Sophie the Giraffe<br>Teether ...</td>\n",
       "        <td style=\"padding-left: 1em; padding-right: 1em; text-align: center; vertical-align: top\">I was a little skeptical<br>on whether Sophie was ...</td>\n",
       "        <td style=\"padding-left: 1em; padding-right: 1em; text-align: center; vertical-align: top\">5.0</td>\n",
       "        <td style=\"padding-left: 1em; padding-right: 1em; text-align: center; vertical-align: top\">{&#x27;disappointed&#x27;: 1.0,<br>&#x27;will&#x27;: 1.0, &#x27;take&#x27;:  ...</td>\n",
       "        <td style=\"padding-left: 1em; padding-right: 1em; text-align: center; vertical-align: top\">1</td>\n",
       "    </tr>\n",
       "    <tr>\n",
       "        <td style=\"padding-left: 1em; padding-right: 1em; text-align: center; vertical-align: top\">Vulli Sophie the Giraffe<br>Teether ...</td>\n",
       "        <td style=\"padding-left: 1em; padding-right: 1em; text-align: center; vertical-align: top\">I have been reading about<br>Sophie and was going  ...</td>\n",
       "        <td style=\"padding-left: 1em; padding-right: 1em; text-align: center; vertical-align: top\">5.0</td>\n",
       "        <td style=\"padding-left: 1em; padding-right: 1em; text-align: center; vertical-align: top\">{&#x27;late&#x27;: 1.0, &#x27;perfect&#x27;:<br>1.0, &#x27;pack&#x27;: 1.0, &#x27;on ...</td>\n",
       "        <td style=\"padding-left: 1em; padding-right: 1em; text-align: center; vertical-align: top\">1</td>\n",
       "    </tr>\n",
       "    <tr>\n",
       "        <td style=\"padding-left: 1em; padding-right: 1em; text-align: center; vertical-align: top\">Vulli Sophie the Giraffe<br>Teether ...</td>\n",
       "        <td style=\"padding-left: 1em; padding-right: 1em; text-align: center; vertical-align: top\">My neice loves her sophie<br>and has spent hours ...</td>\n",
       "        <td style=\"padding-left: 1em; padding-right: 1em; text-align: center; vertical-align: top\">5.0</td>\n",
       "        <td style=\"padding-left: 1em; padding-right: 1em; text-align: center; vertical-align: top\">{&#x27;delight&#x27;: 1.0, &#x27;in&#x27;:<br>1.0, &#x27;other&#x27;: 1.0, ...</td>\n",
       "        <td style=\"padding-left: 1em; padding-right: 1em; text-align: center; vertical-align: top\">1</td>\n",
       "    </tr>\n",
       "    <tr>\n",
       "        <td style=\"padding-left: 1em; padding-right: 1em; text-align: center; vertical-align: top\">Vulli Sophie the Giraffe<br>Teether ...</td>\n",
       "        <td style=\"padding-left: 1em; padding-right: 1em; text-align: center; vertical-align: top\">What a friendly face!<br>And those mesmerizing ...</td>\n",
       "        <td style=\"padding-left: 1em; padding-right: 1em; text-align: center; vertical-align: top\">5.0</td>\n",
       "        <td style=\"padding-left: 1em; padding-right: 1em; text-align: center; vertical-align: top\">{&#x27;inside&#x27;: 1.0, &#x27;water&#x27;:<br>1.0, &#x27;don&#x27;: 1.0, &#x27;up&#x27;: ...</td>\n",
       "        <td style=\"padding-left: 1em; padding-right: 1em; text-align: center; vertical-align: top\">1</td>\n",
       "    </tr>\n",
       "    <tr>\n",
       "        <td style=\"padding-left: 1em; padding-right: 1em; text-align: center; vertical-align: top\">Vulli Sophie the Giraffe<br>Teether ...</td>\n",
       "        <td style=\"padding-left: 1em; padding-right: 1em; text-align: center; vertical-align: top\">We got this just for my<br>son to chew on instea ...</td>\n",
       "        <td style=\"padding-left: 1em; padding-right: 1em; text-align: center; vertical-align: top\">5.0</td>\n",
       "        <td style=\"padding-left: 1em; padding-right: 1em; text-align: center; vertical-align: top\">{&#x27;its&#x27;: 1.0, &#x27;fine&#x27;: 1.0,<br>&#x27;is&#x27;: 1.0, &#x27;which&#x27;: 1.0, ...</td>\n",
       "        <td style=\"padding-left: 1em; padding-right: 1em; text-align: center; vertical-align: top\">1</td>\n",
       "    </tr>\n",
       "    <tr>\n",
       "        <td style=\"padding-left: 1em; padding-right: 1em; text-align: center; vertical-align: top\">Vulli Sophie the Giraffe<br>Teether ...</td>\n",
       "        <td style=\"padding-left: 1em; padding-right: 1em; text-align: center; vertical-align: top\">This product is without a<br>doubt the best on the ...</td>\n",
       "        <td style=\"padding-left: 1em; padding-right: 1em; text-align: center; vertical-align: top\">5.0</td>\n",
       "        <td style=\"padding-left: 1em; padding-right: 1em; text-align: center; vertical-align: top\">{&#x27;belongs&#x27;: 1.0, &#x27;dog&#x27;:<br>1.0, &#x27;if&#x27;: 1.0, &#x27;bewa ...</td>\n",
       "        <td style=\"padding-left: 1em; padding-right: 1em; text-align: center; vertical-align: top\">1</td>\n",
       "    </tr>\n",
       "</table>\n",
       "<table frame=\"box\" rules=\"cols\">\n",
       "    <tr>\n",
       "        <th style=\"padding-left: 1em; padding-right: 1em; text-align: center\">predicted_sentiment</th>\n",
       "    </tr>\n",
       "    <tr>\n",
       "        <td style=\"padding-left: 1em; padding-right: 1em; text-align: center; vertical-align: top\">0.9993655365682315</td>\n",
       "    </tr>\n",
       "    <tr>\n",
       "        <td style=\"padding-left: 1em; padding-right: 1em; text-align: center; vertical-align: top\">0.9998633791689631</td>\n",
       "    </tr>\n",
       "    <tr>\n",
       "        <td style=\"padding-left: 1em; padding-right: 1em; text-align: center; vertical-align: top\">0.2545268197805929</td>\n",
       "    </tr>\n",
       "    <tr>\n",
       "        <td style=\"padding-left: 1em; padding-right: 1em; text-align: center; vertical-align: top\">0.916568808391484</td>\n",
       "    </tr>\n",
       "    <tr>\n",
       "        <td style=\"padding-left: 1em; padding-right: 1em; text-align: center; vertical-align: top\">0.6855768205884307</td>\n",
       "    </tr>\n",
       "    <tr>\n",
       "        <td style=\"padding-left: 1em; padding-right: 1em; text-align: center; vertical-align: top\">0.99999994452112</td>\n",
       "    </tr>\n",
       "    <tr>\n",
       "        <td style=\"padding-left: 1em; padding-right: 1em; text-align: center; vertical-align: top\">0.997935118109351</td>\n",
       "    </tr>\n",
       "    <tr>\n",
       "        <td style=\"padding-left: 1em; padding-right: 1em; text-align: center; vertical-align: top\">0.9999745004834385</td>\n",
       "    </tr>\n",
       "    <tr>\n",
       "        <td style=\"padding-left: 1em; padding-right: 1em; text-align: center; vertical-align: top\">0.9460144428356572</td>\n",
       "    </tr>\n",
       "    <tr>\n",
       "        <td style=\"padding-left: 1em; padding-right: 1em; text-align: center; vertical-align: top\">0.9999999721665869</td>\n",
       "    </tr>\n",
       "</table>\n",
       "[? rows x 6 columns]<br/>Note: Only the head of the SFrame is printed. This SFrame is lazily evaluated.<br/>You can use sf.materialize() to force materialization.\n",
       "</div>"
      ],
      "text/plain": [
       "Columns:\n",
       "\tname\tstr\n",
       "\treview\tstr\n",
       "\trating\tfloat\n",
       "\tword_count\tdict\n",
       "\tsentiment\tint\n",
       "\tpredicted_sentiment\tfloat\n",
       "\n",
       "Rows: Unknown\n",
       "\n",
       "Data:\n",
       "+-------------------------------+-------------------------------+--------+\n",
       "|              name             |             review            | rating |\n",
       "+-------------------------------+-------------------------------+--------+\n",
       "| Vulli Sophie the Giraffe T... | He likes chewing on all th... |  5.0   |\n",
       "| Vulli Sophie the Giraffe T... | My son loves this toy and ... |  5.0   |\n",
       "| Vulli Sophie the Giraffe T... | There really should be a l... |  1.0   |\n",
       "| Vulli Sophie the Giraffe T... | All the moms in my moms' g... |  5.0   |\n",
       "| Vulli Sophie the Giraffe T... | I was a little skeptical o... |  5.0   |\n",
       "| Vulli Sophie the Giraffe T... | I have been reading about ... |  5.0   |\n",
       "| Vulli Sophie the Giraffe T... | My neice loves her sophie ... |  5.0   |\n",
       "| Vulli Sophie the Giraffe T... | What a friendly face!  And... |  5.0   |\n",
       "| Vulli Sophie the Giraffe T... | We got this just for my so... |  5.0   |\n",
       "| Vulli Sophie the Giraffe T... | This product is without a ... |  5.0   |\n",
       "+-------------------------------+-------------------------------+--------+\n",
       "+-------------------------------+-----------+---------------------+\n",
       "|           word_count          | sentiment | predicted_sentiment |\n",
       "+-------------------------------+-----------+---------------------+\n",
       "| {'purchase': 1.0, 'teethin... |     1     |  0.9993655365682315 |\n",
       "| {'a': 1.0, 'is': 1.0, 'whe... |     1     |  0.9998633791689631 |\n",
       "| {'made': 1.0, 'of': 1.0, '... |     0     |  0.2545268197805929 |\n",
       "| {'another': 1.0, 'out': 1.... |     1     |  0.916568808391484  |\n",
       "| {'disappointed': 1.0, 'wil... |     1     |  0.6855768205884307 |\n",
       "| {'late': 1.0, 'perfect': 1... |     1     |   0.99999994452112  |\n",
       "| {'delight': 1.0, 'in': 1.0... |     1     |  0.997935118109351  |\n",
       "| {'inside': 1.0, 'water': 1... |     1     |  0.9999745004834385 |\n",
       "| {'its': 1.0, 'fine': 1.0, ... |     1     |  0.9460144428356572 |\n",
       "| {'belongs': 1.0, 'dog': 1.... |     1     |  0.9999999721665869 |\n",
       "+-------------------------------+-----------+---------------------+\n",
       "[? rows x 6 columns]\n",
       "Note: Only the head of the SFrame is printed. This SFrame is lazily evaluated.\n",
       "You can use sf.materialize() to force materialization."
      ]
     },
     "execution_count": 35,
     "metadata": {},
     "output_type": "execute_result"
    }
   ],
   "source": [
    "giraffe_reviews"
   ]
  },
  {
   "cell_type": "markdown",
   "metadata": {},
   "source": [
    "# Sort the Giraffe reviews according to predicted sentiment"
   ]
  },
  {
   "cell_type": "code",
   "execution_count": 22,
   "metadata": {},
   "outputs": [],
   "source": [
    "giraffe_reviews = giraffe_reviews.sort('predicted_sentiment', ascending=False)"
   ]
  },
  {
   "cell_type": "code",
   "execution_count": 23,
   "metadata": {},
   "outputs": [
    {
     "data": {
      "text/html": [
       "<div style=\"max-height:1000px;max-width:1500px;overflow:auto;\"><table frame=\"box\" rules=\"cols\">\n",
       "    <tr>\n",
       "        <th style=\"padding-left: 1em; padding-right: 1em; text-align: center\">name</th>\n",
       "        <th style=\"padding-left: 1em; padding-right: 1em; text-align: center\">review</th>\n",
       "        <th style=\"padding-left: 1em; padding-right: 1em; text-align: center\">rating</th>\n",
       "        <th style=\"padding-left: 1em; padding-right: 1em; text-align: center\">word_count</th>\n",
       "        <th style=\"padding-left: 1em; padding-right: 1em; text-align: center\">sentiment</th>\n",
       "    </tr>\n",
       "    <tr>\n",
       "        <td style=\"padding-left: 1em; padding-right: 1em; text-align: center; vertical-align: top\">Vulli Sophie the Giraffe<br>Teether ...</td>\n",
       "        <td style=\"padding-left: 1em; padding-right: 1em; text-align: center; vertical-align: top\">Sophie, oh Sophie, your<br>time has come. My ...</td>\n",
       "        <td style=\"padding-left: 1em; padding-right: 1em; text-align: center; vertical-align: top\">5.0</td>\n",
       "        <td style=\"padding-left: 1em; padding-right: 1em; text-align: center; vertical-align: top\">{'giggles': 1, 'all': 1,<br>\"violet's\": 2, 'bring': ...</td>\n",
       "        <td style=\"padding-left: 1em; padding-right: 1em; text-align: center; vertical-align: top\">1</td>\n",
       "    </tr>\n",
       "    <tr>\n",
       "        <td style=\"padding-left: 1em; padding-right: 1em; text-align: center; vertical-align: top\">Vulli Sophie the Giraffe<br>Teether ...</td>\n",
       "        <td style=\"padding-left: 1em; padding-right: 1em; text-align: center; vertical-align: top\">I'm not sure why Sophie<br>is such a hit with the ...</td>\n",
       "        <td style=\"padding-left: 1em; padding-right: 1em; text-align: center; vertical-align: top\">4.0</td>\n",
       "        <td style=\"padding-left: 1em; padding-right: 1em; text-align: center; vertical-align: top\">{'adoring': 1, 'find': 1,<br>'month': 1, 'bright': 1, ...</td>\n",
       "        <td style=\"padding-left: 1em; padding-right: 1em; text-align: center; vertical-align: top\">1</td>\n",
       "    </tr>\n",
       "    <tr>\n",
       "        <td style=\"padding-left: 1em; padding-right: 1em; text-align: center; vertical-align: top\">Vulli Sophie the Giraffe<br>Teether ...</td>\n",
       "        <td style=\"padding-left: 1em; padding-right: 1em; text-align: center; vertical-align: top\">I'll be honest...I bought<br>this toy because all the ...</td>\n",
       "        <td style=\"padding-left: 1em; padding-right: 1em; text-align: center; vertical-align: top\">4.0</td>\n",
       "        <td style=\"padding-left: 1em; padding-right: 1em; text-align: center; vertical-align: top\">{'all': 2, 'discovered':<br>1, 'existence.': 1, ...</td>\n",
       "        <td style=\"padding-left: 1em; padding-right: 1em; text-align: center; vertical-align: top\">1</td>\n",
       "    </tr>\n",
       "    <tr>\n",
       "        <td style=\"padding-left: 1em; padding-right: 1em; text-align: center; vertical-align: top\">Vulli Sophie the Giraffe<br>Teether ...</td>\n",
       "        <td style=\"padding-left: 1em; padding-right: 1em; text-align: center; vertical-align: top\">We got this little<br>giraffe as a gift from a ...</td>\n",
       "        <td style=\"padding-left: 1em; padding-right: 1em; text-align: center; vertical-align: top\">5.0</td>\n",
       "        <td style=\"padding-left: 1em; padding-right: 1em; text-align: center; vertical-align: top\">{'all': 2, \"don't\": 1,<br>'(literally).so': 1, ...</td>\n",
       "        <td style=\"padding-left: 1em; padding-right: 1em; text-align: center; vertical-align: top\">1</td>\n",
       "    </tr>\n",
       "    <tr>\n",
       "        <td style=\"padding-left: 1em; padding-right: 1em; text-align: center; vertical-align: top\">Vulli Sophie the Giraffe<br>Teether ...</td>\n",
       "        <td style=\"padding-left: 1em; padding-right: 1em; text-align: center; vertical-align: top\">As a mother of 16month<br>old twins; I bought ...</td>\n",
       "        <td style=\"padding-left: 1em; padding-right: 1em; text-align: center; vertical-align: top\">5.0</td>\n",
       "        <td style=\"padding-left: 1em; padding-right: 1em; text-align: center; vertical-align: top\">{'cute': 1, 'all': 1,<br>'reviews.': 2, 'just' ...</td>\n",
       "        <td style=\"padding-left: 1em; padding-right: 1em; text-align: center; vertical-align: top\">1</td>\n",
       "    </tr>\n",
       "    <tr>\n",
       "        <td style=\"padding-left: 1em; padding-right: 1em; text-align: center; vertical-align: top\">Vulli Sophie the Giraffe<br>Teether ...</td>\n",
       "        <td style=\"padding-left: 1em; padding-right: 1em; text-align: center; vertical-align: top\">Sophie the Giraffe is the<br>perfect teething toy. ...</td>\n",
       "        <td style=\"padding-left: 1em; padding-right: 1em; text-align: center; vertical-align: top\">5.0</td>\n",
       "        <td style=\"padding-left: 1em; padding-right: 1em; text-align: center; vertical-align: top\">{'just': 2, 'both': 1,<br>'month': 1, 'ears,': 1, ...</td>\n",
       "        <td style=\"padding-left: 1em; padding-right: 1em; text-align: center; vertical-align: top\">1</td>\n",
       "    </tr>\n",
       "    <tr>\n",
       "        <td style=\"padding-left: 1em; padding-right: 1em; text-align: center; vertical-align: top\">Vulli Sophie the Giraffe<br>Teether ...</td>\n",
       "        <td style=\"padding-left: 1em; padding-right: 1em; text-align: center; vertical-align: top\">Sophie la giraffe is<br>absolutely the best toy ...</td>\n",
       "        <td style=\"padding-left: 1em; padding-right: 1em; text-align: center; vertical-align: top\">5.0</td>\n",
       "        <td style=\"padding-left: 1em; padding-right: 1em; text-align: center; vertical-align: top\">{'and': 5, 'the': 1,<br>'all': 1, 'that': 2, ...</td>\n",
       "        <td style=\"padding-left: 1em; padding-right: 1em; text-align: center; vertical-align: top\">1</td>\n",
       "    </tr>\n",
       "    <tr>\n",
       "        <td style=\"padding-left: 1em; padding-right: 1em; text-align: center; vertical-align: top\">Vulli Sophie the Giraffe<br>Teether ...</td>\n",
       "        <td style=\"padding-left: 1em; padding-right: 1em; text-align: center; vertical-align: top\">My 5-mos old son took to<br>this immediately. The ...</td>\n",
       "        <td style=\"padding-left: 1em; padding-right: 1em; text-align: center; vertical-align: top\">5.0</td>\n",
       "        <td style=\"padding-left: 1em; padding-right: 1em; text-align: center; vertical-align: top\">{'just': 1, 'shape': 2,<br>'mutt': 1, '\"dog': 1, ...</td>\n",
       "        <td style=\"padding-left: 1em; padding-right: 1em; text-align: center; vertical-align: top\">1</td>\n",
       "    </tr>\n",
       "    <tr>\n",
       "        <td style=\"padding-left: 1em; padding-right: 1em; text-align: center; vertical-align: top\">Vulli Sophie the Giraffe<br>Teether ...</td>\n",
       "        <td style=\"padding-left: 1em; padding-right: 1em; text-align: center; vertical-align: top\">My nephews and my four<br>kids all had Sophie in ...</td>\n",
       "        <td style=\"padding-left: 1em; padding-right: 1em; text-align: center; vertical-align: top\">5.0</td>\n",
       "        <td style=\"padding-left: 1em; padding-right: 1em; text-align: center; vertical-align: top\">{'and': 4, 'chew': 1,<br>'all': 1, 'perfect;': 1, ...</td>\n",
       "        <td style=\"padding-left: 1em; padding-right: 1em; text-align: center; vertical-align: top\">1</td>\n",
       "    </tr>\n",
       "    <tr>\n",
       "        <td style=\"padding-left: 1em; padding-right: 1em; text-align: center; vertical-align: top\">Vulli Sophie the Giraffe<br>Teether ...</td>\n",
       "        <td style=\"padding-left: 1em; padding-right: 1em; text-align: center; vertical-align: top\">Never thought I'd see my<br>son French kissing a ...</td>\n",
       "        <td style=\"padding-left: 1em; padding-right: 1em; text-align: center; vertical-align: top\">5.0</td>\n",
       "        <td style=\"padding-left: 1em; padding-right: 1em; text-align: center; vertical-align: top\">{'giggles': 1, 'all': 1,<br>'out,': 1, 'over': 1, ...</td>\n",
       "        <td style=\"padding-left: 1em; padding-right: 1em; text-align: center; vertical-align: top\">1</td>\n",
       "    </tr>\n",
       "</table>\n",
       "<table frame=\"box\" rules=\"cols\">\n",
       "    <tr>\n",
       "        <th style=\"padding-left: 1em; padding-right: 1em; text-align: center\">predicted_sentiment</th>\n",
       "    </tr>\n",
       "    <tr>\n",
       "        <td style=\"padding-left: 1em; padding-right: 1em; text-align: center; vertical-align: top\">1.0</td>\n",
       "    </tr>\n",
       "    <tr>\n",
       "        <td style=\"padding-left: 1em; padding-right: 1em; text-align: center; vertical-align: top\">0.999999999703</td>\n",
       "    </tr>\n",
       "    <tr>\n",
       "        <td style=\"padding-left: 1em; padding-right: 1em; text-align: center; vertical-align: top\">0.999999999392</td>\n",
       "    </tr>\n",
       "    <tr>\n",
       "        <td style=\"padding-left: 1em; padding-right: 1em; text-align: center; vertical-align: top\">0.99999999919</td>\n",
       "    </tr>\n",
       "    <tr>\n",
       "        <td style=\"padding-left: 1em; padding-right: 1em; text-align: center; vertical-align: top\">0.999999998657</td>\n",
       "    </tr>\n",
       "    <tr>\n",
       "        <td style=\"padding-left: 1em; padding-right: 1em; text-align: center; vertical-align: top\">0.999999997108</td>\n",
       "    </tr>\n",
       "    <tr>\n",
       "        <td style=\"padding-left: 1em; padding-right: 1em; text-align: center; vertical-align: top\">0.999999995589</td>\n",
       "    </tr>\n",
       "    <tr>\n",
       "        <td style=\"padding-left: 1em; padding-right: 1em; text-align: center; vertical-align: top\">0.999999995573</td>\n",
       "    </tr>\n",
       "    <tr>\n",
       "        <td style=\"padding-left: 1em; padding-right: 1em; text-align: center; vertical-align: top\">0.999999989527</td>\n",
       "    </tr>\n",
       "    <tr>\n",
       "        <td style=\"padding-left: 1em; padding-right: 1em; text-align: center; vertical-align: top\">0.999999985069</td>\n",
       "    </tr>\n",
       "</table>\n",
       "[723 rows x 6 columns]<br/>Note: Only the head of the SFrame is printed.<br/>You can use print_rows(num_rows=m, num_columns=n) to print more rows and columns.\n",
       "</div>"
      ],
      "text/plain": [
       "Columns:\n",
       "\tname\tstr\n",
       "\treview\tstr\n",
       "\trating\tfloat\n",
       "\tword_count\tdict\n",
       "\tsentiment\tint\n",
       "\tpredicted_sentiment\tfloat\n",
       "\n",
       "Rows: 723\n",
       "\n",
       "Data:\n",
       "+-------------------------------+-------------------------------+--------+\n",
       "|              name             |             review            | rating |\n",
       "+-------------------------------+-------------------------------+--------+\n",
       "| Vulli Sophie the Giraffe T... | Sophie, oh Sophie, your ti... |  5.0   |\n",
       "| Vulli Sophie the Giraffe T... | I'm not sure why Sophie is... |  4.0   |\n",
       "| Vulli Sophie the Giraffe T... | I'll be honest...I bought ... |  4.0   |\n",
       "| Vulli Sophie the Giraffe T... | We got this little giraffe... |  5.0   |\n",
       "| Vulli Sophie the Giraffe T... | As a mother of 16month old... |  5.0   |\n",
       "| Vulli Sophie the Giraffe T... | Sophie the Giraffe is the ... |  5.0   |\n",
       "| Vulli Sophie the Giraffe T... | Sophie la giraffe is absol... |  5.0   |\n",
       "| Vulli Sophie the Giraffe T... | My 5-mos old son took to t... |  5.0   |\n",
       "| Vulli Sophie the Giraffe T... | My nephews and my four kid... |  5.0   |\n",
       "| Vulli Sophie the Giraffe T... | Never thought I'd see my s... |  5.0   |\n",
       "+-------------------------------+-------------------------------+--------+\n",
       "+-------------------------------+-----------+---------------------+\n",
       "|           word_count          | sentiment | predicted_sentiment |\n",
       "+-------------------------------+-----------+---------------------+\n",
       "| {'giggles': 1, 'all': 1, \"... |     1     |         1.0         |\n",
       "| {'adoring': 1, 'find': 1, ... |     1     |    0.999999999703   |\n",
       "| {'all': 2, 'discovered': 1... |     1     |    0.999999999392   |\n",
       "| {'all': 2, \"don't\": 1, '(l... |     1     |    0.99999999919    |\n",
       "| {'cute': 1, 'all': 1, 'rev... |     1     |    0.999999998657   |\n",
       "| {'just': 2, 'both': 1, 'mo... |     1     |    0.999999997108   |\n",
       "| {'and': 5, 'the': 1, 'all'... |     1     |    0.999999995589   |\n",
       "| {'just': 1, 'shape': 2, 'm... |     1     |    0.999999995573   |\n",
       "| {'and': 4, 'chew': 1, 'all... |     1     |    0.999999989527   |\n",
       "| {'giggles': 1, 'all': 1, '... |     1     |    0.999999985069   |\n",
       "+-------------------------------+-----------+---------------------+\n",
       "[723 rows x 6 columns]\n",
       "Note: Only the head of the SFrame is printed.\n",
       "You can use print_rows(num_rows=m, num_columns=n) to print more rows and columns."
      ]
     },
     "execution_count": 23,
     "metadata": {},
     "output_type": "execute_result"
    }
   ],
   "source": [
    "giraffe_reviews"
   ]
  },
  {
   "cell_type": "code",
   "execution_count": 24,
   "metadata": {},
   "outputs": [
    {
     "data": {
      "text/html": [
       "<div style=\"max-height:1000px;max-width:1500px;overflow:auto;\"><table frame=\"box\" rules=\"cols\">\n",
       "    <tr>\n",
       "        <th style=\"padding-left: 1em; padding-right: 1em; text-align: center\">name</th>\n",
       "        <th style=\"padding-left: 1em; padding-right: 1em; text-align: center\">review</th>\n",
       "        <th style=\"padding-left: 1em; padding-right: 1em; text-align: center\">rating</th>\n",
       "        <th style=\"padding-left: 1em; padding-right: 1em; text-align: center\">word_count</th>\n",
       "        <th style=\"padding-left: 1em; padding-right: 1em; text-align: center\">sentiment</th>\n",
       "    </tr>\n",
       "    <tr>\n",
       "        <td style=\"padding-left: 1em; padding-right: 1em; text-align: center; vertical-align: top\">Vulli Sophie the Giraffe<br>Teether ...</td>\n",
       "        <td style=\"padding-left: 1em; padding-right: 1em; text-align: center; vertical-align: top\">I bought it for my 8<br>month old (I know it's ...</td>\n",
       "        <td style=\"padding-left: 1em; padding-right: 1em; text-align: center; vertical-align: top\">2.0</td>\n",
       "        <td style=\"padding-left: 1em; padding-right: 1em; text-align: center; vertical-align: top\">{'and': 5, 'enjoy': 1,<br>'right': 1, 'old': 1, ...</td>\n",
       "        <td style=\"padding-left: 1em; padding-right: 1em; text-align: center; vertical-align: top\">0</td>\n",
       "    </tr>\n",
       "    <tr>\n",
       "        <td style=\"padding-left: 1em; padding-right: 1em; text-align: center; vertical-align: top\">Vulli Sophie the Giraffe<br>Teether ...</td>\n",
       "        <td style=\"padding-left: 1em; padding-right: 1em; text-align: center; vertical-align: top\">When we first got it I<br>thought did my ...</td>\n",
       "        <td style=\"padding-left: 1em; padding-right: 1em; text-align: center; vertical-align: top\">2.0</td>\n",
       "        <td style=\"padding-left: 1em; padding-right: 1em; text-align: center; vertical-align: top\">{'and': 2, 'cute': 1,<br>'all': 1, 'because': 1, ...</td>\n",
       "        <td style=\"padding-left: 1em; padding-right: 1em; text-align: center; vertical-align: top\">0</td>\n",
       "    </tr>\n",
       "    <tr>\n",
       "        <td style=\"padding-left: 1em; padding-right: 1em; text-align: center; vertical-align: top\">Vulli Sophie the Giraffe<br>Teether ...</td>\n",
       "        <td style=\"padding-left: 1em; padding-right: 1em; text-align: center; vertical-align: top\">After getting this for my<br>baby and after she su ...</td>\n",
       "        <td style=\"padding-left: 1em; padding-right: 1em; text-align: center; vertical-align: top\">1.0</td>\n",
       "        <td style=\"padding-left: 1em; padding-right: 1em; text-align: center; vertical-align: top\">{'just': 1, 'being': 1,<br>'over': 1, 'chalked': 1, ...</td>\n",
       "        <td style=\"padding-left: 1em; padding-right: 1em; text-align: center; vertical-align: top\">0</td>\n",
       "    </tr>\n",
       "    <tr>\n",
       "        <td style=\"padding-left: 1em; padding-right: 1em; text-align: center; vertical-align: top\">Vulli Sophie the Giraffe<br>Teether ...</td>\n",
       "        <td style=\"padding-left: 1em; padding-right: 1em; text-align: center; vertical-align: top\">My daughter loves Sophie,<br>but we received her as a ...</td>\n",
       "        <td style=\"padding-left: 1em; padding-right: 1em; text-align: center; vertical-align: top\">2.0</td>\n",
       "        <td style=\"padding-left: 1em; padding-right: 1em; text-align: center; vertical-align: top\">{'and': 2, 'the': 3,<br>\"don't\": 1, 'doing': 1, ...</td>\n",
       "        <td style=\"padding-left: 1em; padding-right: 1em; text-align: center; vertical-align: top\">0</td>\n",
       "    </tr>\n",
       "    <tr>\n",
       "        <td style=\"padding-left: 1em; padding-right: 1em; text-align: center; vertical-align: top\">Vulli Sophie the Giraffe<br>Teether ...</td>\n",
       "        <td style=\"padding-left: 1em; padding-right: 1em; text-align: center; vertical-align: top\">\"Sophie the Giraffe\" has<br>tested positive for ...</td>\n",
       "        <td style=\"padding-left: 1em; padding-right: 1em; text-align: center; vertical-align: top\">1.0</td>\n",
       "        <td style=\"padding-left: 1em; padding-right: 1em; text-align: center; vertical-align: top\">{'saying': 1,<br>'nitrosamines.': 1, ...</td>\n",
       "        <td style=\"padding-left: 1em; padding-right: 1em; text-align: center; vertical-align: top\">0</td>\n",
       "    </tr>\n",
       "    <tr>\n",
       "        <td style=\"padding-left: 1em; padding-right: 1em; text-align: center; vertical-align: top\">Vulli Sophie the Giraffe<br>Teether ...</td>\n",
       "        <td style=\"padding-left: 1em; padding-right: 1em; text-align: center; vertical-align: top\">I received this in a box<br>set as a gift. It came ...</td>\n",
       "        <td style=\"padding-left: 1em; padding-right: 1em; text-align: center; vertical-align: top\">2.0</td>\n",
       "        <td style=\"padding-left: 1em; padding-right: 1em; text-align: center; vertical-align: top\">{'cute': 1, 'unhooked':<br>1, 'being': 2, 'stora ...</td>\n",
       "        <td style=\"padding-left: 1em; padding-right: 1em; text-align: center; vertical-align: top\">0</td>\n",
       "    </tr>\n",
       "    <tr>\n",
       "        <td style=\"padding-left: 1em; padding-right: 1em; text-align: center; vertical-align: top\">Vulli Sophie the Giraffe<br>Teether ...</td>\n",
       "        <td style=\"padding-left: 1em; padding-right: 1em; text-align: center; vertical-align: top\">I was intrigued with the<br>idea of Sophie the ...</td>\n",
       "        <td style=\"padding-left: 1em; padding-right: 1em; text-align: center; vertical-align: top\">2.0</td>\n",
       "        <td style=\"padding-left: 1em; padding-right: 1em; text-align: center; vertical-align: top\">{'baby.)': 1, 'all': 2,<br>'able': 1, 'month': 1, ...</td>\n",
       "        <td style=\"padding-left: 1em; padding-right: 1em; text-align: center; vertical-align: top\">0</td>\n",
       "    </tr>\n",
       "    <tr>\n",
       "        <td style=\"padding-left: 1em; padding-right: 1em; text-align: center; vertical-align: top\">Vulli Sophie the Giraffe<br>Teether ...</td>\n",
       "        <td style=\"padding-left: 1em; padding-right: 1em; text-align: center; vertical-align: top\">I wanted to love this<br>product and was excited ...</td>\n",
       "        <td style=\"padding-left: 1em; padding-right: 1em; text-align: center; vertical-align: top\">1.0</td>\n",
       "        <td style=\"padding-left: 1em; padding-right: 1em; text-align: center; vertical-align: top\">{'just': 1, 'may,': 1,<br>'children': 1, 'bummed': ...</td>\n",
       "        <td style=\"padding-left: 1em; padding-right: 1em; text-align: center; vertical-align: top\">0</td>\n",
       "    </tr>\n",
       "    <tr>\n",
       "        <td style=\"padding-left: 1em; padding-right: 1em; text-align: center; vertical-align: top\">Vulli Sophie the Giraffe<br>Teether ...</td>\n",
       "        <td style=\"padding-left: 1em; padding-right: 1em; text-align: center; vertical-align: top\">This children's toy is<br>nostalgic and very cute. ...</td>\n",
       "        <td style=\"padding-left: 1em; padding-right: 1em; text-align: center; vertical-align: top\">1.0</td>\n",
       "        <td style=\"padding-left: 1em; padding-right: 1em; text-align: center; vertical-align: top\">{'expectations.': 1,<br>'refund': 1, 'there': 1, ...</td>\n",
       "        <td style=\"padding-left: 1em; padding-right: 1em; text-align: center; vertical-align: top\">0</td>\n",
       "    </tr>\n",
       "    <tr>\n",
       "        <td style=\"padding-left: 1em; padding-right: 1em; text-align: center; vertical-align: top\">Vulli Sophie the Giraffe<br>Teether ...</td>\n",
       "        <td style=\"padding-left: 1em; padding-right: 1em; text-align: center; vertical-align: top\">My son (now 2.5) LOVED<br>his Sophie, and I bought ...</td>\n",
       "        <td style=\"padding-left: 1em; padding-right: 1em; text-align: center; vertical-align: top\">1.0</td>\n",
       "        <td style=\"padding-left: 1em; padding-right: 1em; text-align: center; vertical-align: top\">{'all': 1, 'just': 1,<br>\"don't\": 1, 'over': 2, ...</td>\n",
       "        <td style=\"padding-left: 1em; padding-right: 1em; text-align: center; vertical-align: top\">0</td>\n",
       "    </tr>\n",
       "</table>\n",
       "<table frame=\"box\" rules=\"cols\">\n",
       "    <tr>\n",
       "        <th style=\"padding-left: 1em; padding-right: 1em; text-align: center\">predicted_sentiment</th>\n",
       "    </tr>\n",
       "    <tr>\n",
       "        <td style=\"padding-left: 1em; padding-right: 1em; text-align: center; vertical-align: top\">8.31949388802e-07</td>\n",
       "    </tr>\n",
       "    <tr>\n",
       "        <td style=\"padding-left: 1em; padding-right: 1em; text-align: center; vertical-align: top\">5.00559975208e-07</td>\n",
       "    </tr>\n",
       "    <tr>\n",
       "        <td style=\"padding-left: 1em; padding-right: 1em; text-align: center; vertical-align: top\">2.65117165833e-07</td>\n",
       "    </tr>\n",
       "    <tr>\n",
       "        <td style=\"padding-left: 1em; padding-right: 1em; text-align: center; vertical-align: top\">2.16499014337e-07</td>\n",
       "    </tr>\n",
       "    <tr>\n",
       "        <td style=\"padding-left: 1em; padding-right: 1em; text-align: center; vertical-align: top\">1.49651158011e-07</td>\n",
       "    </tr>\n",
       "    <tr>\n",
       "        <td style=\"padding-left: 1em; padding-right: 1em; text-align: center; vertical-align: top\">1.30304527009e-07</td>\n",
       "    </tr>\n",
       "    <tr>\n",
       "        <td style=\"padding-left: 1em; padding-right: 1em; text-align: center; vertical-align: top\">1.01396472897e-07</td>\n",
       "    </tr>\n",
       "    <tr>\n",
       "        <td style=\"padding-left: 1em; padding-right: 1em; text-align: center; vertical-align: top\">1.97583059377e-09</td>\n",
       "    </tr>\n",
       "    <tr>\n",
       "        <td style=\"padding-left: 1em; padding-right: 1em; text-align: center; vertical-align: top\">1.20140501931e-09</td>\n",
       "    </tr>\n",
       "    <tr>\n",
       "        <td style=\"padding-left: 1em; padding-right: 1em; text-align: center; vertical-align: top\">2.22233494219e-10</td>\n",
       "    </tr>\n",
       "</table>\n",
       "[10 rows x 6 columns]<br/>\n",
       "</div>"
      ],
      "text/plain": [
       "Columns:\n",
       "\tname\tstr\n",
       "\treview\tstr\n",
       "\trating\tfloat\n",
       "\tword_count\tdict\n",
       "\tsentiment\tint\n",
       "\tpredicted_sentiment\tfloat\n",
       "\n",
       "Rows: 10\n",
       "\n",
       "Data:\n",
       "+-------------------------------+-------------------------------+--------+\n",
       "|              name             |             review            | rating |\n",
       "+-------------------------------+-------------------------------+--------+\n",
       "| Vulli Sophie the Giraffe T... | I bought it for my 8 month... |  2.0   |\n",
       "| Vulli Sophie the Giraffe T... | When we first got it I tho... |  2.0   |\n",
       "| Vulli Sophie the Giraffe T... | After getting this for my ... |  1.0   |\n",
       "| Vulli Sophie the Giraffe T... | My daughter loves Sophie, ... |  2.0   |\n",
       "| Vulli Sophie the Giraffe T... | \"Sophie the Giraffe\" has t... |  1.0   |\n",
       "| Vulli Sophie the Giraffe T... | I received this in a box s... |  2.0   |\n",
       "| Vulli Sophie the Giraffe T... | I was intrigued with the i... |  2.0   |\n",
       "| Vulli Sophie the Giraffe T... | I wanted to love this prod... |  1.0   |\n",
       "| Vulli Sophie the Giraffe T... | This children's toy is nos... |  1.0   |\n",
       "| Vulli Sophie the Giraffe T... | My son (now 2.5) LOVED his... |  1.0   |\n",
       "+-------------------------------+-------------------------------+--------+\n",
       "+-------------------------------+-----------+---------------------+\n",
       "|           word_count          | sentiment | predicted_sentiment |\n",
       "+-------------------------------+-----------+---------------------+\n",
       "| {'and': 5, 'enjoy': 1, 'ri... |     0     |  8.31949388802e-07  |\n",
       "| {'and': 2, 'cute': 1, 'all... |     0     |  5.00559975208e-07  |\n",
       "| {'just': 1, 'being': 1, 'o... |     0     |  2.65117165833e-07  |\n",
       "| {'and': 2, 'the': 3, \"don'... |     0     |  2.16499014337e-07  |\n",
       "| {'saying': 1, 'nitrosamine... |     0     |  1.49651158011e-07  |\n",
       "| {'cute': 1, 'unhooked': 1,... |     0     |  1.30304527009e-07  |\n",
       "| {'baby.)': 1, 'all': 2, 'a... |     0     |  1.01396472897e-07  |\n",
       "| {'just': 1, 'may,': 1, 'ch... |     0     |  1.97583059377e-09  |\n",
       "| {'expectations.': 1, 'refu... |     0     |  1.20140501931e-09  |\n",
       "| {'all': 1, 'just': 1, \"don... |     0     |  2.22233494219e-10  |\n",
       "+-------------------------------+-----------+---------------------+\n",
       "[10 rows x 6 columns]"
      ]
     },
     "execution_count": 24,
     "metadata": {},
     "output_type": "execute_result"
    }
   ],
   "source": [
    "giraffe_reviews.tail()"
   ]
  },
  {
   "cell_type": "markdown",
   "metadata": {},
   "source": [
    "## Show the most positive reviews"
   ]
  },
  {
   "cell_type": "code",
   "execution_count": 25,
   "metadata": {},
   "outputs": [
    {
     "data": {
      "text/plain": [
       "\"Sophie, oh Sophie, your time has come. My granddaughter, Violet is 5 months old and starting to teeth. What joy little Sophie brings to Violet. Sophie is made of a very pliable rubber that is sturdy but not tough. It is quite easy for Violet to twist Sophie into unheard of positions to get Sophie into her mouth. The little nose and hooves fit perfectly into small mouths, and the drooling has purpose. The paint on Sophie is food quality.Sophie was born in 1961 in France. The maker had wondered why there was nothing available for babies and made Sophie from the finest rubber, phthalate-free on St Sophie's Day, thus the name was born. Since that time millions of Sophie's populate the world. She is soft and for babies little hands easy to grasp. Violet especially loves the bumpy head and horns of Sophie. Sophie has a long neck that easy to grasp and twist. She has lovely, sizable spots that attract Violet's attention. Sophie has happy little squeaks that bring squeals of delight from Violet. She is able to make Sophie squeak and that brings much joy. Sophie's smooth skin is soothing to Violet's little gums. Sophie is 7 inches tall and is the exact correct size for babies to hold and love.As you well know the first thing babies grasp, goes into their mouths- how wonderful to have a toy that stimulates all of the senses and helps with the issue of teething. Sophie is small enough to fit into any size pocket or bag. Sophie is the perfect find for babies from a few months to a year old. How wonderful to hear the giggles and laughs that emanate from babies who find Sophie irresistible. Viva La Sophie!Highly Recommended.  prisrob 12-11-09\""
      ]
     },
     "execution_count": 25,
     "metadata": {},
     "output_type": "execute_result"
    }
   ],
   "source": [
    "giraffe_reviews[0]['review']"
   ]
  },
  {
   "cell_type": "code",
   "execution_count": 26,
   "metadata": {},
   "outputs": [
    {
     "data": {
      "text/plain": [
       "\"I'm not sure why Sophie is such a hit with the little ones, but my 7 month old baby girl is one of her adoring fans.  The rubber is softer and more pleasant to handle, and my daughter has enjoyed chewing on her legs and the nubs on her head even before she started teething.  She also loves the squeak that Sophie makes when you squeeze her.  Not sure what it is but if Sophie is amongst a pile of her other toys, my daughter will more often than not reach for Sophie.  And I have the peace of mind of knowing that only edible and safe paints and materials have been used to make Sophie, as opposed to Bright Starts and other baby toys made in China.  Now that the research is out on phthalates and other toxic substances in baby toys, I think it's more important than ever to find good quality toys that are also safe for our babies to handle and put in their mouths.  Sophie is a must-have for every new mom in my opinion.  Even if your kid is one of the few that can take or leave her, it's worth a try.  Vulli, the makers of Sophie, also make natural rubber teething rings that my daughter loves as well.\""
      ]
     },
     "execution_count": 26,
     "metadata": {},
     "output_type": "execute_result"
    }
   ],
   "source": [
    "giraffe_reviews[1]['review']"
   ]
  },
  {
   "cell_type": "markdown",
   "metadata": {},
   "source": [
    "# Most negative reivews"
   ]
  },
  {
   "cell_type": "code",
   "execution_count": 27,
   "metadata": {},
   "outputs": [
    {
     "data": {
      "text/plain": [
       "\"My son (now 2.5) LOVED his Sophie, and I bought one for every baby shower I've gone to. Now, my daughter (6 months) just today nearly choked on it and I will never give it to her again. Had I not been within hearing range it could have been fatal. The strange sound she was making caught my attention and when I went to her and found the front curved leg shoved well down her throat and her face a purply/blue I panicked. I pulled it out and she vomited all over the carpet before screaming her head off. I can't believe how my opinion of this toy has changed from a must-have to a must-not-use. Please don't disregard any of the choking hazard comments, they are not over exaggerated!\""
      ]
     },
     "execution_count": 27,
     "metadata": {},
     "output_type": "execute_result"
    }
   ],
   "source": [
    "giraffe_reviews[-1]['review']"
   ]
  },
  {
   "cell_type": "code",
   "execution_count": 36,
   "metadata": {},
   "outputs": [
    {
     "data": {
      "text/plain": [
       "'My baby who is currently teething love his Sophie. I little bit expensive for a chew toy but it does its job.'"
      ]
     },
     "execution_count": 36,
     "metadata": {},
     "output_type": "execute_result"
    }
   ],
   "source": [
    "giraffe_reviews[-2]['review']"
   ]
  },
  {
   "cell_type": "markdown",
   "metadata": {},
   "source": [
    "# Assignment"
   ]
  },
  {
   "cell_type": "code",
   "execution_count": 37,
   "metadata": {},
   "outputs": [],
   "source": [
    "selected_words = ['awesome', 'great', 'fantastic', 'amazing', 'love', 'horrible', 'bad', 'terrible', 'awful', 'wow', 'hate']"
   ]
  },
  {
   "cell_type": "code",
   "execution_count": 43,
   "metadata": {},
   "outputs": [],
   "source": [
    "def awesome_count(dict):\n",
    "    if 'awesome' in dict:\n",
    "        return dict['awesome']"
   ]
  },
  {
   "cell_type": "code",
   "execution_count": 44,
   "metadata": {},
   "outputs": [],
   "source": [
    "products['awesome'] = products['word_count'].apply(awesome_count)"
   ]
  },
  {
   "cell_type": "code",
   "execution_count": 47,
   "metadata": {},
   "outputs": [],
   "source": [
    "def item_count(dict):\n",
    "    if item in dict:\n",
    "        return dict[item]"
   ]
  },
  {
   "cell_type": "code",
   "execution_count": 58,
   "metadata": {},
   "outputs": [
    {
     "name": "stdout",
     "output_type": "stream",
     "text": [
      "3892.0\n",
      "55791.0\n",
      "1664.0\n",
      "2628.0\n",
      "41994.0\n",
      "1110.0\n",
      "4183.0\n",
      "1146.0\n",
      "687.0\n",
      "425.0\n",
      "1107.0\n"
     ]
    }
   ],
   "source": [
    "for item in selected_words:\n",
    "    products[item] = products['word_count'].apply(item_count)\n",
    "    products[item] = products[item].fillna(0)\n",
    "    print(products[item].sum())"
   ]
  },
  {
   "cell_type": "code",
   "execution_count": 59,
   "metadata": {},
   "outputs": [
    {
     "data": {
      "text/html": [
       "<div style=\"max-height:1000px;max-width:1500px;overflow:auto;\"><table frame=\"box\" rules=\"cols\">\n",
       "    <tr>\n",
       "        <th style=\"padding-left: 1em; padding-right: 1em; text-align: center\">name</th>\n",
       "        <th style=\"padding-left: 1em; padding-right: 1em; text-align: center\">review</th>\n",
       "        <th style=\"padding-left: 1em; padding-right: 1em; text-align: center\">rating</th>\n",
       "        <th style=\"padding-left: 1em; padding-right: 1em; text-align: center\">word_count</th>\n",
       "        <th style=\"padding-left: 1em; padding-right: 1em; text-align: center\">sentiment</th>\n",
       "    </tr>\n",
       "    <tr>\n",
       "        <td style=\"padding-left: 1em; padding-right: 1em; text-align: center; vertical-align: top\">Planetwise Wipe Pouch</td>\n",
       "        <td style=\"padding-left: 1em; padding-right: 1em; text-align: center; vertical-align: top\">it came early and was not<br>disappointed. i love ...</td>\n",
       "        <td style=\"padding-left: 1em; padding-right: 1em; text-align: center; vertical-align: top\">5.0</td>\n",
       "        <td style=\"padding-left: 1em; padding-right: 1em; text-align: center; vertical-align: top\">{&#x27;recommend&#x27;: 1.0,<br>&#x27;moist&#x27;: 1.0, &#x27;osocozy&#x27;: ...</td>\n",
       "        <td style=\"padding-left: 1em; padding-right: 1em; text-align: center; vertical-align: top\">1</td>\n",
       "    </tr>\n",
       "    <tr>\n",
       "        <td style=\"padding-left: 1em; padding-right: 1em; text-align: center; vertical-align: top\">Annas Dream Full Quilt<br>with 2 Shams ...</td>\n",
       "        <td style=\"padding-left: 1em; padding-right: 1em; text-align: center; vertical-align: top\">Very soft and comfortable<br>and warmer than it ...</td>\n",
       "        <td style=\"padding-left: 1em; padding-right: 1em; text-align: center; vertical-align: top\">5.0</td>\n",
       "        <td style=\"padding-left: 1em; padding-right: 1em; text-align: center; vertical-align: top\">{&#x27;quilt&#x27;: 1.0,<br>&#x27;comfortable&#x27;: 1.0, ...</td>\n",
       "        <td style=\"padding-left: 1em; padding-right: 1em; text-align: center; vertical-align: top\">1</td>\n",
       "    </tr>\n",
       "    <tr>\n",
       "        <td style=\"padding-left: 1em; padding-right: 1em; text-align: center; vertical-align: top\">Stop Pacifier Sucking<br>without tears with ...</td>\n",
       "        <td style=\"padding-left: 1em; padding-right: 1em; text-align: center; vertical-align: top\">This is a product well<br>worth the purchase.  I ...</td>\n",
       "        <td style=\"padding-left: 1em; padding-right: 1em; text-align: center; vertical-align: top\">5.0</td>\n",
       "        <td style=\"padding-left: 1em; padding-right: 1em; text-align: center; vertical-align: top\">{&#x27;tool&#x27;: 1.0, &#x27;clever&#x27;:<br>1.0, &#x27;little&#x27;: 1.0, ...</td>\n",
       "        <td style=\"padding-left: 1em; padding-right: 1em; text-align: center; vertical-align: top\">1</td>\n",
       "    </tr>\n",
       "    <tr>\n",
       "        <td style=\"padding-left: 1em; padding-right: 1em; text-align: center; vertical-align: top\">Stop Pacifier Sucking<br>without tears with ...</td>\n",
       "        <td style=\"padding-left: 1em; padding-right: 1em; text-align: center; vertical-align: top\">All of my kids have cried<br>non-stop when I tried to ...</td>\n",
       "        <td style=\"padding-left: 1em; padding-right: 1em; text-align: center; vertical-align: top\">5.0</td>\n",
       "        <td style=\"padding-left: 1em; padding-right: 1em; text-align: center; vertical-align: top\">{&#x27;rock&#x27;: 1.0, &#x27;many&#x27;:<br>1.0, &#x27;headaches&#x27;: 1.0, ...</td>\n",
       "        <td style=\"padding-left: 1em; padding-right: 1em; text-align: center; vertical-align: top\">1</td>\n",
       "    </tr>\n",
       "    <tr>\n",
       "        <td style=\"padding-left: 1em; padding-right: 1em; text-align: center; vertical-align: top\">Stop Pacifier Sucking<br>without tears with ...</td>\n",
       "        <td style=\"padding-left: 1em; padding-right: 1em; text-align: center; vertical-align: top\">When the Binky Fairy came<br>to our house, we didn&#x27;t ...</td>\n",
       "        <td style=\"padding-left: 1em; padding-right: 1em; text-align: center; vertical-align: top\">5.0</td>\n",
       "        <td style=\"padding-left: 1em; padding-right: 1em; text-align: center; vertical-align: top\">{&#x27;thumb&#x27;: 1.0, &#x27;or&#x27;: 1.0,<br>&#x27;break&#x27;: 1.0, &#x27;trying&#x27;: ...</td>\n",
       "        <td style=\"padding-left: 1em; padding-right: 1em; text-align: center; vertical-align: top\">1</td>\n",
       "    </tr>\n",
       "    <tr>\n",
       "        <td style=\"padding-left: 1em; padding-right: 1em; text-align: center; vertical-align: top\">A Tale of Baby&#x27;s Days<br>with Peter Rabbit ...</td>\n",
       "        <td style=\"padding-left: 1em; padding-right: 1em; text-align: center; vertical-align: top\">Lovely book, it&#x27;s bound<br>tightly so you may no ...</td>\n",
       "        <td style=\"padding-left: 1em; padding-right: 1em; text-align: center; vertical-align: top\">4.0</td>\n",
       "        <td style=\"padding-left: 1em; padding-right: 1em; text-align: center; vertical-align: top\">{&#x27;for&#x27;: 1.0, &#x27;barnes&#x27;:<br>1.0, &#x27;at&#x27;: 1.0, &#x27;is&#x27;: ...</td>\n",
       "        <td style=\"padding-left: 1em; padding-right: 1em; text-align: center; vertical-align: top\">1</td>\n",
       "    </tr>\n",
       "    <tr>\n",
       "        <td style=\"padding-left: 1em; padding-right: 1em; text-align: center; vertical-align: top\">Baby Tracker&amp;reg; - Daily<br>Childcare Journal, ...</td>\n",
       "        <td style=\"padding-left: 1em; padding-right: 1em; text-align: center; vertical-align: top\">Perfect for new parents.<br>We were able to keep ...</td>\n",
       "        <td style=\"padding-left: 1em; padding-right: 1em; text-align: center; vertical-align: top\">5.0</td>\n",
       "        <td style=\"padding-left: 1em; padding-right: 1em; text-align: center; vertical-align: top\">{&#x27;right&#x27;: 1.0, &#x27;because&#x27;:<br>1.0, &#x27;questions&#x27;: 1.0, ...</td>\n",
       "        <td style=\"padding-left: 1em; padding-right: 1em; text-align: center; vertical-align: top\">1</td>\n",
       "    </tr>\n",
       "    <tr>\n",
       "        <td style=\"padding-left: 1em; padding-right: 1em; text-align: center; vertical-align: top\">Baby Tracker&amp;reg; - Daily<br>Childcare Journal, ...</td>\n",
       "        <td style=\"padding-left: 1em; padding-right: 1em; text-align: center; vertical-align: top\">A friend of mine pinned<br>this product on Pinte ...</td>\n",
       "        <td style=\"padding-left: 1em; padding-right: 1em; text-align: center; vertical-align: top\">5.0</td>\n",
       "        <td style=\"padding-left: 1em; padding-right: 1em; text-align: center; vertical-align: top\">{&#x27;like&#x27;: 1.0, &#x27;and&#x27;: 1.0,<br>&#x27;changes&#x27;: 1.0, &#x27;the&#x27;: ...</td>\n",
       "        <td style=\"padding-left: 1em; padding-right: 1em; text-align: center; vertical-align: top\">1</td>\n",
       "    </tr>\n",
       "    <tr>\n",
       "        <td style=\"padding-left: 1em; padding-right: 1em; text-align: center; vertical-align: top\">Baby Tracker&amp;reg; - Daily<br>Childcare Journal, ...</td>\n",
       "        <td style=\"padding-left: 1em; padding-right: 1em; text-align: center; vertical-align: top\">This has been an easy way<br>for my nanny to record ...</td>\n",
       "        <td style=\"padding-left: 1em; padding-right: 1em; text-align: center; vertical-align: top\">4.0</td>\n",
       "        <td style=\"padding-left: 1em; padding-right: 1em; text-align: center; vertical-align: top\">{&#x27;in&#x27;: 1.0, &#x27;pages&#x27;: 1.0,<br>&#x27;out&#x27;: 1.0, &#x27;run&#x27;: 1.0, ...</td>\n",
       "        <td style=\"padding-left: 1em; padding-right: 1em; text-align: center; vertical-align: top\">1</td>\n",
       "    </tr>\n",
       "    <tr>\n",
       "        <td style=\"padding-left: 1em; padding-right: 1em; text-align: center; vertical-align: top\">Baby Tracker&amp;reg; - Daily<br>Childcare Journal, ...</td>\n",
       "        <td style=\"padding-left: 1em; padding-right: 1em; text-align: center; vertical-align: top\">I love this journal and<br>our nanny uses it ...</td>\n",
       "        <td style=\"padding-left: 1em; padding-right: 1em; text-align: center; vertical-align: top\">4.0</td>\n",
       "        <td style=\"padding-left: 1em; padding-right: 1em; text-align: center; vertical-align: top\">{&#x27;tracker&#x27;: 1.0,<br>&#x27;recommend&#x27;: 1.0, ...</td>\n",
       "        <td style=\"padding-left: 1em; padding-right: 1em; text-align: center; vertical-align: top\">1</td>\n",
       "    </tr>\n",
       "</table>\n",
       "<table frame=\"box\" rules=\"cols\">\n",
       "    <tr>\n",
       "        <th style=\"padding-left: 1em; padding-right: 1em; text-align: center\">predicted_sentiment</th>\n",
       "        <th style=\"padding-left: 1em; padding-right: 1em; text-align: center\">awesome</th>\n",
       "        <th style=\"padding-left: 1em; padding-right: 1em; text-align: center\">great</th>\n",
       "        <th style=\"padding-left: 1em; padding-right: 1em; text-align: center\">fantastic</th>\n",
       "        <th style=\"padding-left: 1em; padding-right: 1em; text-align: center\">amazing</th>\n",
       "        <th style=\"padding-left: 1em; padding-right: 1em; text-align: center\">love</th>\n",
       "        <th style=\"padding-left: 1em; padding-right: 1em; text-align: center\">horrible</th>\n",
       "        <th style=\"padding-left: 1em; padding-right: 1em; text-align: center\">bad</th>\n",
       "        <th style=\"padding-left: 1em; padding-right: 1em; text-align: center\">terrible</th>\n",
       "        <th style=\"padding-left: 1em; padding-right: 1em; text-align: center\">awful</th>\n",
       "        <th style=\"padding-left: 1em; padding-right: 1em; text-align: center\">wow</th>\n",
       "        <th style=\"padding-left: 1em; padding-right: 1em; text-align: center\">hate</th>\n",
       "    </tr>\n",
       "    <tr>\n",
       "        <td style=\"padding-left: 1em; padding-right: 1em; text-align: center; vertical-align: top\">0.9997307390047091</td>\n",
       "        <td style=\"padding-left: 1em; padding-right: 1em; text-align: center; vertical-align: top\">0.0</td>\n",
       "        <td style=\"padding-left: 1em; padding-right: 1em; text-align: center; vertical-align: top\">0.0</td>\n",
       "        <td style=\"padding-left: 1em; padding-right: 1em; text-align: center; vertical-align: top\">0.0</td>\n",
       "        <td style=\"padding-left: 1em; padding-right: 1em; text-align: center; vertical-align: top\">0.0</td>\n",
       "        <td style=\"padding-left: 1em; padding-right: 1em; text-align: center; vertical-align: top\">1.0</td>\n",
       "        <td style=\"padding-left: 1em; padding-right: 1em; text-align: center; vertical-align: top\">0.0</td>\n",
       "        <td style=\"padding-left: 1em; padding-right: 1em; text-align: center; vertical-align: top\">0.0</td>\n",
       "        <td style=\"padding-left: 1em; padding-right: 1em; text-align: center; vertical-align: top\">0.0</td>\n",
       "        <td style=\"padding-left: 1em; padding-right: 1em; text-align: center; vertical-align: top\">0.0</td>\n",
       "        <td style=\"padding-left: 1em; padding-right: 1em; text-align: center; vertical-align: top\">0.0</td>\n",
       "        <td style=\"padding-left: 1em; padding-right: 1em; text-align: center; vertical-align: top\">0.0</td>\n",
       "    </tr>\n",
       "    <tr>\n",
       "        <td style=\"padding-left: 1em; padding-right: 1em; text-align: center; vertical-align: top\">0.9985083368316612</td>\n",
       "        <td style=\"padding-left: 1em; padding-right: 1em; text-align: center; vertical-align: top\">0.0</td>\n",
       "        <td style=\"padding-left: 1em; padding-right: 1em; text-align: center; vertical-align: top\">0.0</td>\n",
       "        <td style=\"padding-left: 1em; padding-right: 1em; text-align: center; vertical-align: top\">0.0</td>\n",
       "        <td style=\"padding-left: 1em; padding-right: 1em; text-align: center; vertical-align: top\">0.0</td>\n",
       "        <td style=\"padding-left: 1em; padding-right: 1em; text-align: center; vertical-align: top\">0.0</td>\n",
       "        <td style=\"padding-left: 1em; padding-right: 1em; text-align: center; vertical-align: top\">0.0</td>\n",
       "        <td style=\"padding-left: 1em; padding-right: 1em; text-align: center; vertical-align: top\">0.0</td>\n",
       "        <td style=\"padding-left: 1em; padding-right: 1em; text-align: center; vertical-align: top\">0.0</td>\n",
       "        <td style=\"padding-left: 1em; padding-right: 1em; text-align: center; vertical-align: top\">0.0</td>\n",
       "        <td style=\"padding-left: 1em; padding-right: 1em; text-align: center; vertical-align: top\">0.0</td>\n",
       "        <td style=\"padding-left: 1em; padding-right: 1em; text-align: center; vertical-align: top\">0.0</td>\n",
       "    </tr>\n",
       "    <tr>\n",
       "        <td style=\"padding-left: 1em; padding-right: 1em; text-align: center; vertical-align: top\">0.9997489042499881</td>\n",
       "        <td style=\"padding-left: 1em; padding-right: 1em; text-align: center; vertical-align: top\">0.0</td>\n",
       "        <td style=\"padding-left: 1em; padding-right: 1em; text-align: center; vertical-align: top\">0.0</td>\n",
       "        <td style=\"padding-left: 1em; padding-right: 1em; text-align: center; vertical-align: top\">0.0</td>\n",
       "        <td style=\"padding-left: 1em; padding-right: 1em; text-align: center; vertical-align: top\">0.0</td>\n",
       "        <td style=\"padding-left: 1em; padding-right: 1em; text-align: center; vertical-align: top\">2.0</td>\n",
       "        <td style=\"padding-left: 1em; padding-right: 1em; text-align: center; vertical-align: top\">0.0</td>\n",
       "        <td style=\"padding-left: 1em; padding-right: 1em; text-align: center; vertical-align: top\">0.0</td>\n",
       "        <td style=\"padding-left: 1em; padding-right: 1em; text-align: center; vertical-align: top\">0.0</td>\n",
       "        <td style=\"padding-left: 1em; padding-right: 1em; text-align: center; vertical-align: top\">0.0</td>\n",
       "        <td style=\"padding-left: 1em; padding-right: 1em; text-align: center; vertical-align: top\">0.0</td>\n",
       "        <td style=\"padding-left: 1em; padding-right: 1em; text-align: center; vertical-align: top\">0.0</td>\n",
       "    </tr>\n",
       "    <tr>\n",
       "        <td style=\"padding-left: 1em; padding-right: 1em; text-align: center; vertical-align: top\">0.9999916625399973</td>\n",
       "        <td style=\"padding-left: 1em; padding-right: 1em; text-align: center; vertical-align: top\">0.0</td>\n",
       "        <td style=\"padding-left: 1em; padding-right: 1em; text-align: center; vertical-align: top\">1.0</td>\n",
       "        <td style=\"padding-left: 1em; padding-right: 1em; text-align: center; vertical-align: top\">0.0</td>\n",
       "        <td style=\"padding-left: 1em; padding-right: 1em; text-align: center; vertical-align: top\">0.0</td>\n",
       "        <td style=\"padding-left: 1em; padding-right: 1em; text-align: center; vertical-align: top\">1.0</td>\n",
       "        <td style=\"padding-left: 1em; padding-right: 1em; text-align: center; vertical-align: top\">0.0</td>\n",
       "        <td style=\"padding-left: 1em; padding-right: 1em; text-align: center; vertical-align: top\">0.0</td>\n",
       "        <td style=\"padding-left: 1em; padding-right: 1em; text-align: center; vertical-align: top\">0.0</td>\n",
       "        <td style=\"padding-left: 1em; padding-right: 1em; text-align: center; vertical-align: top\">0.0</td>\n",
       "        <td style=\"padding-left: 1em; padding-right: 1em; text-align: center; vertical-align: top\">0.0</td>\n",
       "        <td style=\"padding-left: 1em; padding-right: 1em; text-align: center; vertical-align: top\">0.0</td>\n",
       "    </tr>\n",
       "    <tr>\n",
       "        <td style=\"padding-left: 1em; padding-right: 1em; text-align: center; vertical-align: top\">0.9999999514462167</td>\n",
       "        <td style=\"padding-left: 1em; padding-right: 1em; text-align: center; vertical-align: top\">0.0</td>\n",
       "        <td style=\"padding-left: 1em; padding-right: 1em; text-align: center; vertical-align: top\">1.0</td>\n",
       "        <td style=\"padding-left: 1em; padding-right: 1em; text-align: center; vertical-align: top\">0.0</td>\n",
       "        <td style=\"padding-left: 1em; padding-right: 1em; text-align: center; vertical-align: top\">0.0</td>\n",
       "        <td style=\"padding-left: 1em; padding-right: 1em; text-align: center; vertical-align: top\">0.0</td>\n",
       "        <td style=\"padding-left: 1em; padding-right: 1em; text-align: center; vertical-align: top\">0.0</td>\n",
       "        <td style=\"padding-left: 1em; padding-right: 1em; text-align: center; vertical-align: top\">0.0</td>\n",
       "        <td style=\"padding-left: 1em; padding-right: 1em; text-align: center; vertical-align: top\">0.0</td>\n",
       "        <td style=\"padding-left: 1em; padding-right: 1em; text-align: center; vertical-align: top\">0.0</td>\n",
       "        <td style=\"padding-left: 1em; padding-right: 1em; text-align: center; vertical-align: top\">0.0</td>\n",
       "        <td style=\"padding-left: 1em; padding-right: 1em; text-align: center; vertical-align: top\">0.0</td>\n",
       "    </tr>\n",
       "    <tr>\n",
       "        <td style=\"padding-left: 1em; padding-right: 1em; text-align: center; vertical-align: top\">0.9999146735569904</td>\n",
       "        <td style=\"padding-left: 1em; padding-right: 1em; text-align: center; vertical-align: top\">0.0</td>\n",
       "        <td style=\"padding-left: 1em; padding-right: 1em; text-align: center; vertical-align: top\">0.0</td>\n",
       "        <td style=\"padding-left: 1em; padding-right: 1em; text-align: center; vertical-align: top\">0.0</td>\n",
       "        <td style=\"padding-left: 1em; padding-right: 1em; text-align: center; vertical-align: top\">0.0</td>\n",
       "        <td style=\"padding-left: 1em; padding-right: 1em; text-align: center; vertical-align: top\">0.0</td>\n",
       "        <td style=\"padding-left: 1em; padding-right: 1em; text-align: center; vertical-align: top\">0.0</td>\n",
       "        <td style=\"padding-left: 1em; padding-right: 1em; text-align: center; vertical-align: top\">0.0</td>\n",
       "        <td style=\"padding-left: 1em; padding-right: 1em; text-align: center; vertical-align: top\">0.0</td>\n",
       "        <td style=\"padding-left: 1em; padding-right: 1em; text-align: center; vertical-align: top\">0.0</td>\n",
       "        <td style=\"padding-left: 1em; padding-right: 1em; text-align: center; vertical-align: top\">0.0</td>\n",
       "        <td style=\"padding-left: 1em; padding-right: 1em; text-align: center; vertical-align: top\">0.0</td>\n",
       "    </tr>\n",
       "    <tr>\n",
       "        <td style=\"padding-left: 1em; padding-right: 1em; text-align: center; vertical-align: top\">0.9999916615904652</td>\n",
       "        <td style=\"padding-left: 1em; padding-right: 1em; text-align: center; vertical-align: top\">0.0</td>\n",
       "        <td style=\"padding-left: 1em; padding-right: 1em; text-align: center; vertical-align: top\">0.0</td>\n",
       "        <td style=\"padding-left: 1em; padding-right: 1em; text-align: center; vertical-align: top\">0.0</td>\n",
       "        <td style=\"padding-left: 1em; padding-right: 1em; text-align: center; vertical-align: top\">0.0</td>\n",
       "        <td style=\"padding-left: 1em; padding-right: 1em; text-align: center; vertical-align: top\">0.0</td>\n",
       "        <td style=\"padding-left: 1em; padding-right: 1em; text-align: center; vertical-align: top\">0.0</td>\n",
       "        <td style=\"padding-left: 1em; padding-right: 1em; text-align: center; vertical-align: top\">0.0</td>\n",
       "        <td style=\"padding-left: 1em; padding-right: 1em; text-align: center; vertical-align: top\">0.0</td>\n",
       "        <td style=\"padding-left: 1em; padding-right: 1em; text-align: center; vertical-align: top\">0.0</td>\n",
       "        <td style=\"padding-left: 1em; padding-right: 1em; text-align: center; vertical-align: top\">0.0</td>\n",
       "        <td style=\"padding-left: 1em; padding-right: 1em; text-align: center; vertical-align: top\">0.0</td>\n",
       "    </tr>\n",
       "    <tr>\n",
       "        <td style=\"padding-left: 1em; padding-right: 1em; text-align: center; vertical-align: top\">0.9999938843594008</td>\n",
       "        <td style=\"padding-left: 1em; padding-right: 1em; text-align: center; vertical-align: top\">0.0</td>\n",
       "        <td style=\"padding-left: 1em; padding-right: 1em; text-align: center; vertical-align: top\">0.0</td>\n",
       "        <td style=\"padding-left: 1em; padding-right: 1em; text-align: center; vertical-align: top\">1.0</td>\n",
       "        <td style=\"padding-left: 1em; padding-right: 1em; text-align: center; vertical-align: top\">0.0</td>\n",
       "        <td style=\"padding-left: 1em; padding-right: 1em; text-align: center; vertical-align: top\">0.0</td>\n",
       "        <td style=\"padding-left: 1em; padding-right: 1em; text-align: center; vertical-align: top\">0.0</td>\n",
       "        <td style=\"padding-left: 1em; padding-right: 1em; text-align: center; vertical-align: top\">0.0</td>\n",
       "        <td style=\"padding-left: 1em; padding-right: 1em; text-align: center; vertical-align: top\">0.0</td>\n",
       "        <td style=\"padding-left: 1em; padding-right: 1em; text-align: center; vertical-align: top\">0.0</td>\n",
       "        <td style=\"padding-left: 1em; padding-right: 1em; text-align: center; vertical-align: top\">0.0</td>\n",
       "        <td style=\"padding-left: 1em; padding-right: 1em; text-align: center; vertical-align: top\">0.0</td>\n",
       "    </tr>\n",
       "    <tr>\n",
       "        <td style=\"padding-left: 1em; padding-right: 1em; text-align: center; vertical-align: top\">0.9961247617006402</td>\n",
       "        <td style=\"padding-left: 1em; padding-right: 1em; text-align: center; vertical-align: top\">0.0</td>\n",
       "        <td style=\"padding-left: 1em; padding-right: 1em; text-align: center; vertical-align: top\">0.0</td>\n",
       "        <td style=\"padding-left: 1em; padding-right: 1em; text-align: center; vertical-align: top\">0.0</td>\n",
       "        <td style=\"padding-left: 1em; padding-right: 1em; text-align: center; vertical-align: top\">0.0</td>\n",
       "        <td style=\"padding-left: 1em; padding-right: 1em; text-align: center; vertical-align: top\">0.0</td>\n",
       "        <td style=\"padding-left: 1em; padding-right: 1em; text-align: center; vertical-align: top\">0.0</td>\n",
       "        <td style=\"padding-left: 1em; padding-right: 1em; text-align: center; vertical-align: top\">0.0</td>\n",
       "        <td style=\"padding-left: 1em; padding-right: 1em; text-align: center; vertical-align: top\">0.0</td>\n",
       "        <td style=\"padding-left: 1em; padding-right: 1em; text-align: center; vertical-align: top\">0.0</td>\n",
       "        <td style=\"padding-left: 1em; padding-right: 1em; text-align: center; vertical-align: top\">0.0</td>\n",
       "        <td style=\"padding-left: 1em; padding-right: 1em; text-align: center; vertical-align: top\">0.0</td>\n",
       "    </tr>\n",
       "    <tr>\n",
       "        <td style=\"padding-left: 1em; padding-right: 1em; text-align: center; vertical-align: top\">0.9999999920460633</td>\n",
       "        <td style=\"padding-left: 1em; padding-right: 1em; text-align: center; vertical-align: top\">0.0</td>\n",
       "        <td style=\"padding-left: 1em; padding-right: 1em; text-align: center; vertical-align: top\">0.0</td>\n",
       "        <td style=\"padding-left: 1em; padding-right: 1em; text-align: center; vertical-align: top\">0.0</td>\n",
       "        <td style=\"padding-left: 1em; padding-right: 1em; text-align: center; vertical-align: top\">0.0</td>\n",
       "        <td style=\"padding-left: 1em; padding-right: 1em; text-align: center; vertical-align: top\">2.0</td>\n",
       "        <td style=\"padding-left: 1em; padding-right: 1em; text-align: center; vertical-align: top\">0.0</td>\n",
       "        <td style=\"padding-left: 1em; padding-right: 1em; text-align: center; vertical-align: top\">0.0</td>\n",
       "        <td style=\"padding-left: 1em; padding-right: 1em; text-align: center; vertical-align: top\">0.0</td>\n",
       "        <td style=\"padding-left: 1em; padding-right: 1em; text-align: center; vertical-align: top\">0.0</td>\n",
       "        <td style=\"padding-left: 1em; padding-right: 1em; text-align: center; vertical-align: top\">0.0</td>\n",
       "        <td style=\"padding-left: 1em; padding-right: 1em; text-align: center; vertical-align: top\">0.0</td>\n",
       "    </tr>\n",
       "</table>\n",
       "[166752 rows x 17 columns]<br/>Note: Only the head of the SFrame is printed.<br/>You can use print_rows(num_rows=m, num_columns=n) to print more rows and columns.\n",
       "</div>"
      ],
      "text/plain": [
       "Columns:\n",
       "\tname\tstr\n",
       "\treview\tstr\n",
       "\trating\tfloat\n",
       "\tword_count\tdict\n",
       "\tsentiment\tint\n",
       "\tpredicted_sentiment\tfloat\n",
       "\tawesome\tfloat\n",
       "\tgreat\tfloat\n",
       "\tfantastic\tfloat\n",
       "\tamazing\tfloat\n",
       "\tlove\tfloat\n",
       "\thorrible\tfloat\n",
       "\tbad\tfloat\n",
       "\tterrible\tfloat\n",
       "\tawful\tfloat\n",
       "\twow\tfloat\n",
       "\thate\tfloat\n",
       "\n",
       "Rows: 166752\n",
       "\n",
       "Data:\n",
       "+-------------------------------+-------------------------------+--------+\n",
       "|              name             |             review            | rating |\n",
       "+-------------------------------+-------------------------------+--------+\n",
       "|     Planetwise Wipe Pouch     | it came early and was not ... |  5.0   |\n",
       "| Annas Dream Full Quilt wit... | Very soft and comfortable ... |  5.0   |\n",
       "| Stop Pacifier Sucking with... | This is a product well wor... |  5.0   |\n",
       "| Stop Pacifier Sucking with... | All of my kids have cried ... |  5.0   |\n",
       "| Stop Pacifier Sucking with... | When the Binky Fairy came ... |  5.0   |\n",
       "| A Tale of Baby's Days with... | Lovely book, it's bound ti... |  4.0   |\n",
       "| Baby Tracker&reg; - Daily ... | Perfect for new parents. W... |  5.0   |\n",
       "| Baby Tracker&reg; - Daily ... | A friend of mine pinned th... |  5.0   |\n",
       "| Baby Tracker&reg; - Daily ... | This has been an easy way ... |  4.0   |\n",
       "| Baby Tracker&reg; - Daily ... | I love this journal and ou... |  4.0   |\n",
       "+-------------------------------+-------------------------------+--------+\n",
       "+-------------------------------+-----------+---------------------+---------+\n",
       "|           word_count          | sentiment | predicted_sentiment | awesome |\n",
       "+-------------------------------+-----------+---------------------+---------+\n",
       "| {'recommend': 1.0, 'moist'... |     1     |  0.9997307390047091 |   0.0   |\n",
       "| {'quilt': 1.0, 'comfortabl... |     1     |  0.9985083368316612 |   0.0   |\n",
       "| {'tool': 1.0, 'clever': 1.... |     1     |  0.9997489042499881 |   0.0   |\n",
       "| {'rock': 1.0, 'many': 1.0,... |     1     |  0.9999916625399973 |   0.0   |\n",
       "| {'thumb': 1.0, 'or': 1.0, ... |     1     |  0.9999999514462167 |   0.0   |\n",
       "| {'for': 1.0, 'barnes': 1.0... |     1     |  0.9999146735569904 |   0.0   |\n",
       "| {'right': 1.0, 'because': ... |     1     |  0.9999916615904652 |   0.0   |\n",
       "| {'like': 1.0, 'and': 1.0, ... |     1     |  0.9999938843594008 |   0.0   |\n",
       "| {'in': 1.0, 'pages': 1.0, ... |     1     |  0.9961247617006402 |   0.0   |\n",
       "| {'tracker': 1.0, 'recommen... |     1     |  0.9999999920460633 |   0.0   |\n",
       "+-------------------------------+-----------+---------------------+---------+\n",
       "+-------+-----------+---------+------+----------+-----+----------+-------+-----+\n",
       "| great | fantastic | amazing | love | horrible | bad | terrible | awful | wow |\n",
       "+-------+-----------+---------+------+----------+-----+----------+-------+-----+\n",
       "|  0.0  |    0.0    |   0.0   | 1.0  |   0.0    | 0.0 |   0.0    |  0.0  | 0.0 |\n",
       "|  0.0  |    0.0    |   0.0   | 0.0  |   0.0    | 0.0 |   0.0    |  0.0  | 0.0 |\n",
       "|  0.0  |    0.0    |   0.0   | 2.0  |   0.0    | 0.0 |   0.0    |  0.0  | 0.0 |\n",
       "|  1.0  |    0.0    |   0.0   | 1.0  |   0.0    | 0.0 |   0.0    |  0.0  | 0.0 |\n",
       "|  1.0  |    0.0    |   0.0   | 0.0  |   0.0    | 0.0 |   0.0    |  0.0  | 0.0 |\n",
       "|  0.0  |    0.0    |   0.0   | 0.0  |   0.0    | 0.0 |   0.0    |  0.0  | 0.0 |\n",
       "|  0.0  |    0.0    |   0.0   | 0.0  |   0.0    | 0.0 |   0.0    |  0.0  | 0.0 |\n",
       "|  0.0  |    1.0    |   0.0   | 0.0  |   0.0    | 0.0 |   0.0    |  0.0  | 0.0 |\n",
       "|  0.0  |    0.0    |   0.0   | 0.0  |   0.0    | 0.0 |   0.0    |  0.0  | 0.0 |\n",
       "|  0.0  |    0.0    |   0.0   | 2.0  |   0.0    | 0.0 |   0.0    |  0.0  | 0.0 |\n",
       "+-------+-----------+---------+------+----------+-----+----------+-------+-----+\n",
       "+------+\n",
       "| hate |\n",
       "+------+\n",
       "| 0.0  |\n",
       "| 0.0  |\n",
       "| 0.0  |\n",
       "| 0.0  |\n",
       "| 0.0  |\n",
       "| 0.0  |\n",
       "| 0.0  |\n",
       "| 0.0  |\n",
       "| 0.0  |\n",
       "| 0.0  |\n",
       "+------+\n",
       "[166752 rows x 17 columns]\n",
       "Note: Only the head of the SFrame is printed.\n",
       "You can use print_rows(num_rows=m, num_columns=n) to print more rows and columns."
      ]
     },
     "execution_count": 59,
     "metadata": {},
     "output_type": "execute_result"
    }
   ],
   "source": [
    "products"
   ]
  },
  {
   "cell_type": "code",
   "execution_count": 60,
   "metadata": {},
   "outputs": [],
   "source": [
    "train_data,test_data = products.random_split(.8, seed=0)"
   ]
  },
  {
   "cell_type": "code",
   "execution_count": 61,
   "metadata": {},
   "outputs": [
    {
     "data": {
      "text/html": [
       "<pre>Logistic regression:</pre>"
      ],
      "text/plain": [
       "Logistic regression:"
      ]
     },
     "metadata": {},
     "output_type": "display_data"
    },
    {
     "data": {
      "text/html": [
       "<pre>--------------------------------------------------------</pre>"
      ],
      "text/plain": [
       "--------------------------------------------------------"
      ]
     },
     "metadata": {},
     "output_type": "display_data"
    },
    {
     "data": {
      "text/html": [
       "<pre>Number of examples          : 133448</pre>"
      ],
      "text/plain": [
       "Number of examples          : 133448"
      ]
     },
     "metadata": {},
     "output_type": "display_data"
    },
    {
     "data": {
      "text/html": [
       "<pre>Number of classes           : 2</pre>"
      ],
      "text/plain": [
       "Number of classes           : 2"
      ]
     },
     "metadata": {},
     "output_type": "display_data"
    },
    {
     "data": {
      "text/html": [
       "<pre>Number of feature columns   : 11</pre>"
      ],
      "text/plain": [
       "Number of feature columns   : 11"
      ]
     },
     "metadata": {},
     "output_type": "display_data"
    },
    {
     "data": {
      "text/html": [
       "<pre>Number of unpacked features : 11</pre>"
      ],
      "text/plain": [
       "Number of unpacked features : 11"
      ]
     },
     "metadata": {},
     "output_type": "display_data"
    },
    {
     "data": {
      "text/html": [
       "<pre>Number of coefficients      : 12</pre>"
      ],
      "text/plain": [
       "Number of coefficients      : 12"
      ]
     },
     "metadata": {},
     "output_type": "display_data"
    },
    {
     "data": {
      "text/html": [
       "<pre>Starting Newton Method</pre>"
      ],
      "text/plain": [
       "Starting Newton Method"
      ]
     },
     "metadata": {},
     "output_type": "display_data"
    },
    {
     "data": {
      "text/html": [
       "<pre>--------------------------------------------------------</pre>"
      ],
      "text/plain": [
       "--------------------------------------------------------"
      ]
     },
     "metadata": {},
     "output_type": "display_data"
    },
    {
     "data": {
      "text/html": [
       "<pre>+-----------+----------+--------------+-------------------+---------------------+</pre>"
      ],
      "text/plain": [
       "+-----------+----------+--------------+-------------------+---------------------+"
      ]
     },
     "metadata": {},
     "output_type": "display_data"
    },
    {
     "data": {
      "text/html": [
       "<pre>| Iteration | Passes   | Elapsed Time | Training Accuracy | Validation Accuracy |</pre>"
      ],
      "text/plain": [
       "| Iteration | Passes   | Elapsed Time | Training Accuracy | Validation Accuracy |"
      ]
     },
     "metadata": {},
     "output_type": "display_data"
    },
    {
     "data": {
      "text/html": [
       "<pre>+-----------+----------+--------------+-------------------+---------------------+</pre>"
      ],
      "text/plain": [
       "+-----------+----------+--------------+-------------------+---------------------+"
      ]
     },
     "metadata": {},
     "output_type": "display_data"
    },
    {
     "data": {
      "text/html": [
       "<pre>| 1         | 2        | 0.253951     | 0.847401          | 0.845874            |</pre>"
      ],
      "text/plain": [
       "| 1         | 2        | 0.253951     | 0.847401          | 0.845874            |"
      ]
     },
     "metadata": {},
     "output_type": "display_data"
    },
    {
     "data": {
      "text/html": [
       "<pre>| 2         | 3        | 0.383534     | 0.847514          | 0.846085            |</pre>"
      ],
      "text/plain": [
       "| 2         | 3        | 0.383534     | 0.847514          | 0.846085            |"
      ]
     },
     "metadata": {},
     "output_type": "display_data"
    },
    {
     "data": {
      "text/html": [
       "<pre>| 3         | 4        | 0.498139     | 0.847626          | 0.846115            |</pre>"
      ],
      "text/plain": [
       "| 3         | 4        | 0.498139     | 0.847626          | 0.846115            |"
      ]
     },
     "metadata": {},
     "output_type": "display_data"
    },
    {
     "data": {
      "text/html": [
       "<pre>| 4         | 5        | 0.612278     | 0.847708          | 0.846385            |</pre>"
      ],
      "text/plain": [
       "| 4         | 5        | 0.612278     | 0.847708          | 0.846385            |"
      ]
     },
     "metadata": {},
     "output_type": "display_data"
    },
    {
     "data": {
      "text/html": [
       "<pre>| 5         | 6        | 0.731153     | 0.847708          | 0.846385            |</pre>"
      ],
      "text/plain": [
       "| 5         | 6        | 0.731153     | 0.847708          | 0.846385            |"
      ]
     },
     "metadata": {},
     "output_type": "display_data"
    },
    {
     "data": {
      "text/html": [
       "<pre>| 6         | 7        | 0.846415     | 0.847708          | 0.846385            |</pre>"
      ],
      "text/plain": [
       "| 6         | 7        | 0.846415     | 0.847708          | 0.846385            |"
      ]
     },
     "metadata": {},
     "output_type": "display_data"
    },
    {
     "data": {
      "text/html": [
       "<pre>+-----------+----------+--------------+-------------------+---------------------+</pre>"
      ],
      "text/plain": [
       "+-----------+----------+--------------+-------------------+---------------------+"
      ]
     },
     "metadata": {},
     "output_type": "display_data"
    },
    {
     "data": {
      "text/html": [
       "<pre>SUCCESS: Optimal solution found.</pre>"
      ],
      "text/plain": [
       "SUCCESS: Optimal solution found."
      ]
     },
     "metadata": {},
     "output_type": "display_data"
    },
    {
     "data": {
      "text/html": [
       "<pre></pre>"
      ],
      "text/plain": []
     },
     "metadata": {},
     "output_type": "display_data"
    }
   ],
   "source": [
    "selected_words_model = turicreate.logistic_classifier.create(train_data,\n",
    "                                                            target = 'sentiment',\n",
    "                                                            features = selected_words,\n",
    "                                                            validation_set = test_data)"
   ]
  },
  {
   "cell_type": "code",
   "execution_count": 66,
   "metadata": {},
   "outputs": [
    {
     "data": {
      "text/plain": [
       "Class                          : LogisticClassifier\n",
       "\n",
       "Schema\n",
       "------\n",
       "Number of coefficients         : 12\n",
       "Number of examples             : 133448\n",
       "Number of classes              : 2\n",
       "Number of feature columns      : 11\n",
       "Number of unpacked features    : 11\n",
       "\n",
       "Hyperparameters\n",
       "---------------\n",
       "L1 penalty                     : 0.0\n",
       "L2 penalty                     : 0.01\n",
       "\n",
       "Training Summary\n",
       "----------------\n",
       "Solver                         : newton\n",
       "Solver iterations              : 6\n",
       "Solver status                  : SUCCESS: Optimal solution found.\n",
       "Training time (sec)            : 0.873\n",
       "\n",
       "Settings\n",
       "--------\n",
       "Log-likelihood                 : 52926.808\n",
       "\n",
       "Highest Positive Coefficients\n",
       "-----------------------------\n",
       "love                           : 1.3593\n",
       "(intercept)                    : 1.3366\n",
       "awesome                        : 1.1335\n",
       "amazing                        : 1.1001\n",
       "fantastic                      : 0.8858\n",
       "\n",
       "Lowest Negative Coefficients\n",
       "----------------------------\n",
       "horrible                       : -2.2513\n",
       "terrible                       : -2.2237\n",
       "awful                          : -2.0529\n",
       "hate                           : -1.3484\n",
       "bad                            : -0.9915"
      ]
     },
     "execution_count": 66,
     "metadata": {},
     "output_type": "execute_result"
    }
   ],
   "source": [
    "selected_words_model"
   ]
  },
  {
   "cell_type": "code",
   "execution_count": 63,
   "metadata": {},
   "outputs": [
    {
     "data": {
      "text/plain": [
       "{'accuracy': 0.8463848186404036,\n",
       " 'auc': 0.6935096220934976,\n",
       " 'confusion_matrix': Columns:\n",
       " \ttarget_label\tint\n",
       " \tpredicted_label\tint\n",
       " \tcount\tint\n",
       " \n",
       " Rows: 4\n",
       " \n",
       " Data:\n",
       " +--------------+-----------------+-------+\n",
       " | target_label | predicted_label | count |\n",
       " +--------------+-----------------+-------+\n",
       " |      0       |        0        |  371  |\n",
       " |      0       |        1        |  4957 |\n",
       " |      1       |        1        | 27817 |\n",
       " |      1       |        0        |  159  |\n",
       " +--------------+-----------------+-------+\n",
       " [4 rows x 3 columns],\n",
       " 'f1_score': 0.9157860082304526,\n",
       " 'log_loss': 0.39622654670876317,\n",
       " 'precision': 0.8487520595594068,\n",
       " 'recall': 0.9943165570488991,\n",
       " 'roc_curve': Columns:\n",
       " \tthreshold\tfloat\n",
       " \tfpr\tfloat\n",
       " \ttpr\tfloat\n",
       " \tp\tint\n",
       " \tn\tint\n",
       " \n",
       " Rows: 1001\n",
       " \n",
       " Data:\n",
       " +-----------+--------------------+-----+-------+------+\n",
       " | threshold |        fpr         | tpr |   p   |  n   |\n",
       " +-----------+--------------------+-----+-------+------+\n",
       " |    0.0    |        1.0         | 1.0 | 27976 | 5328 |\n",
       " |   0.001   | 0.9994369369369369 | 1.0 | 27976 | 5328 |\n",
       " |   0.002   | 0.9992492492492493 | 1.0 | 27976 | 5328 |\n",
       " |   0.003   | 0.9990615615615616 | 1.0 | 27976 | 5328 |\n",
       " |   0.004   | 0.9990615615615616 | 1.0 | 27976 | 5328 |\n",
       " |   0.005   | 0.9981231231231231 | 1.0 | 27976 | 5328 |\n",
       " |   0.006   | 0.9981231231231231 | 1.0 | 27976 | 5328 |\n",
       " |   0.007   | 0.9979354354354354 | 1.0 | 27976 | 5328 |\n",
       " |   0.008   | 0.9973723723723724 | 1.0 | 27976 | 5328 |\n",
       " |   0.009   | 0.9971846846846847 | 1.0 | 27976 | 5328 |\n",
       " +-----------+--------------------+-----+-------+------+\n",
       " [1001 rows x 5 columns]\n",
       " Note: Only the head of the SFrame is printed.\n",
       " You can use print_rows(num_rows=m, num_columns=n) to print more rows and columns.}"
      ]
     },
     "execution_count": 63,
     "metadata": {},
     "output_type": "execute_result"
    }
   ],
   "source": [
    "selected_words_model.evaluate(test_data)"
   ]
  },
  {
   "cell_type": "code",
   "execution_count": 69,
   "metadata": {},
   "outputs": [
    {
     "data": {
      "text/plain": [
       "{'accuracy': 0.9176975738650012,\n",
       " 'auc': 0.9258242975424673,\n",
       " 'confusion_matrix': Columns:\n",
       " \ttarget_label\tint\n",
       " \tpredicted_label\tint\n",
       " \tcount\tint\n",
       " \n",
       " Rows: 4\n",
       " \n",
       " Data:\n",
       " +--------------+-----------------+-------+\n",
       " | target_label | predicted_label | count |\n",
       " +--------------+-----------------+-------+\n",
       " |      0       |        1        |  1397 |\n",
       " |      0       |        0        |  3931 |\n",
       " |      1       |        1        | 26632 |\n",
       " |      1       |        0        |  1344 |\n",
       " +--------------+-----------------+-------+\n",
       " [4 rows x 3 columns],\n",
       " 'f1_score': 0.951057941255245,\n",
       " 'log_loss': 0.33047871872321793,\n",
       " 'precision': 0.9501587641371436,\n",
       " 'recall': 0.9519588218472976,\n",
       " 'roc_curve': Columns:\n",
       " \tthreshold\tfloat\n",
       " \tfpr\tfloat\n",
       " \ttpr\tfloat\n",
       " \tp\tint\n",
       " \tn\tint\n",
       " \n",
       " Rows: 1001\n",
       " \n",
       " Data:\n",
       " +-----------+--------------------+--------------------+-------+------+\n",
       " | threshold |        fpr         |        tpr         |   p   |  n   |\n",
       " +-----------+--------------------+--------------------+-------+------+\n",
       " |    0.0    |        1.0         |        1.0         | 27976 | 5328 |\n",
       " |   0.001   | 0.698948948948949  | 0.9933514440949385 | 27976 | 5328 |\n",
       " |   0.002   | 0.6619744744744744 | 0.9922076065198742 | 27976 | 5328 |\n",
       " |   0.003   | 0.6385135135135135 | 0.9909922790963683 | 27976 | 5328 |\n",
       " |   0.004   |  0.62256006006006  | 0.9903846153846154 | 27976 | 5328 |\n",
       " |   0.005   | 0.6112987987987988 | 0.989848441521304  | 27976 | 5328 |\n",
       " |   0.006   | 0.6002252252252253 | 0.9894195024306548 | 27976 | 5328 |\n",
       " |   0.007   | 0.589527027027027  | 0.9888475836431226 | 27976 | 5328 |\n",
       " |   0.008   | 0.5816441441441441 | 0.9883828996282528 | 27976 | 5328 |\n",
       " |   0.009   | 0.574512012012012  | 0.9880611953102659 | 27976 | 5328 |\n",
       " +-----------+--------------------+--------------------+-------+------+\n",
       " [1001 rows x 5 columns]\n",
       " Note: Only the head of the SFrame is printed.\n",
       " You can use print_rows(num_rows=m, num_columns=n) to print more rows and columns.}"
      ]
     },
     "execution_count": 69,
     "metadata": {},
     "output_type": "execute_result"
    }
   ],
   "source": [
    "sentiment_model.evaluate(test_data)"
   ]
  },
  {
   "cell_type": "code",
   "execution_count": 70,
   "metadata": {},
   "outputs": [],
   "source": [
    "baby_trend = products[products['name'] == 'Baby Trend Diaper Champ']"
   ]
  },
  {
   "cell_type": "code",
   "execution_count": 71,
   "metadata": {},
   "outputs": [],
   "source": [
    "baby_trend['predicted_sentiment'] = sentiment_model.predict(baby_trend, output_type = 'probability')\n",
    "baby_trend = baby_trend.sort('predicted_sentiment', ascending=False)"
   ]
  },
  {
   "cell_type": "code",
   "execution_count": 74,
   "metadata": {},
   "outputs": [
    {
     "data": {
      "text/html": [
       "<div style=\"max-height:1000px;max-width:1500px;overflow:auto;\"><table frame=\"box\" rules=\"cols\">\n",
       "    <tr>\n",
       "        <th style=\"padding-left: 1em; padding-right: 1em; text-align: center\">name</th>\n",
       "        <th style=\"padding-left: 1em; padding-right: 1em; text-align: center\">review</th>\n",
       "        <th style=\"padding-left: 1em; padding-right: 1em; text-align: center\">rating</th>\n",
       "        <th style=\"padding-left: 1em; padding-right: 1em; text-align: center\">word_count</th>\n",
       "        <th style=\"padding-left: 1em; padding-right: 1em; text-align: center\">sentiment</th>\n",
       "    </tr>\n",
       "    <tr>\n",
       "        <td style=\"padding-left: 1em; padding-right: 1em; text-align: center; vertical-align: top\">Baby Trend Diaper Champ</td>\n",
       "        <td style=\"padding-left: 1em; padding-right: 1em; text-align: center; vertical-align: top\">I read a review below<br>that can explain exactly ...</td>\n",
       "        <td style=\"padding-left: 1em; padding-right: 1em; text-align: center; vertical-align: top\">4.0</td>\n",
       "        <td style=\"padding-left: 1em; padding-right: 1em; text-align: center; vertical-align: top\">{&#x27;key&#x27;: 1.0, &#x27;have&#x27;: 1.0,<br>&#x27;pieces&#x27;: 1.0, &#x27;betwe ...</td>\n",
       "        <td style=\"padding-left: 1em; padding-right: 1em; text-align: center; vertical-align: top\">1</td>\n",
       "    </tr>\n",
       "    <tr>\n",
       "        <td style=\"padding-left: 1em; padding-right: 1em; text-align: center; vertical-align: top\">Baby Trend Diaper Champ</td>\n",
       "        <td style=\"padding-left: 1em; padding-right: 1em; text-align: center; vertical-align: top\">I have never written a<br>review for Amazon but I ...</td>\n",
       "        <td style=\"padding-left: 1em; padding-right: 1em; text-align: center; vertical-align: top\">5.0</td>\n",
       "        <td style=\"padding-left: 1em; padding-right: 1em; text-align: center; vertical-align: top\">{&#x27;priceless&#x27;: 1.0,<br>&#x27;parent&#x27;: 1.0, &#x27;makes&#x27;: ...</td>\n",
       "        <td style=\"padding-left: 1em; padding-right: 1em; text-align: center; vertical-align: top\">1</td>\n",
       "    </tr>\n",
       "    <tr>\n",
       "        <td style=\"padding-left: 1em; padding-right: 1em; text-align: center; vertical-align: top\">Baby Trend Diaper Champ</td>\n",
       "        <td style=\"padding-left: 1em; padding-right: 1em; text-align: center; vertical-align: top\">I originally put this<br>item on my baby registry ...</td>\n",
       "        <td style=\"padding-left: 1em; padding-right: 1em; text-align: center; vertical-align: top\">5.0</td>\n",
       "        <td style=\"padding-left: 1em; padding-right: 1em; text-align: center; vertical-align: top\">{&#x27;price&#x27;: 1.0, &#x27;worth&#x27;:<br>1.0, &#x27;other&#x27;: 2.0, ...</td>\n",
       "        <td style=\"padding-left: 1em; padding-right: 1em; text-align: center; vertical-align: top\">1</td>\n",
       "    </tr>\n",
       "    <tr>\n",
       "        <td style=\"padding-left: 1em; padding-right: 1em; text-align: center; vertical-align: top\">Baby Trend Diaper Champ</td>\n",
       "        <td style=\"padding-left: 1em; padding-right: 1em; text-align: center; vertical-align: top\">Baby Luke can turn a<br>clean diaper to a dirty ...</td>\n",
       "        <td style=\"padding-left: 1em; padding-right: 1em; text-align: center; vertical-align: top\">5.0</td>\n",
       "        <td style=\"padding-left: 1em; padding-right: 1em; text-align: center; vertical-align: top\">{&#x27;around&#x27;: 1.0, &#x27;bulk&#x27;:<br>1.0, &#x27;any&#x27;: 1.0, &#x27;t&#x27;: ...</td>\n",
       "        <td style=\"padding-left: 1em; padding-right: 1em; text-align: center; vertical-align: top\">1</td>\n",
       "    </tr>\n",
       "    <tr>\n",
       "        <td style=\"padding-left: 1em; padding-right: 1em; text-align: center; vertical-align: top\">Baby Trend Diaper Champ</td>\n",
       "        <td style=\"padding-left: 1em; padding-right: 1em; text-align: center; vertical-align: top\">Diaper Champ or Diaper<br>Genie? That was my ...</td>\n",
       "        <td style=\"padding-left: 1em; padding-right: 1em; text-align: center; vertical-align: top\">5.0</td>\n",
       "        <td style=\"padding-left: 1em; padding-right: 1em; text-align: center; vertical-align: top\">{&#x27;be&#x27;: 1.0, &#x27;won&#x27;: 1.0,<br>&#x27;open&#x27;: 1.0, &#x27;if&#x27;: 1.0, ...</td>\n",
       "        <td style=\"padding-left: 1em; padding-right: 1em; text-align: center; vertical-align: top\">1</td>\n",
       "    </tr>\n",
       "    <tr>\n",
       "        <td style=\"padding-left: 1em; padding-right: 1em; text-align: center; vertical-align: top\">Baby Trend Diaper Champ</td>\n",
       "        <td style=\"padding-left: 1em; padding-right: 1em; text-align: center; vertical-align: top\">I am one of those super-<br>critical shoppers who ...</td>\n",
       "        <td style=\"padding-left: 1em; padding-right: 1em; text-align: center; vertical-align: top\">5.0</td>\n",
       "        <td style=\"padding-left: 1em; padding-right: 1em; text-align: center; vertical-align: top\">{&#x27;helps&#x27;: 1.0, &#x27;slower&#x27;:<br>1.0, &#x27;changings&#x27;: 1.0, ...</td>\n",
       "        <td style=\"padding-left: 1em; padding-right: 1em; text-align: center; vertical-align: top\">1</td>\n",
       "    </tr>\n",
       "    <tr>\n",
       "        <td style=\"padding-left: 1em; padding-right: 1em; text-align: center; vertical-align: top\">Baby Trend Diaper Champ</td>\n",
       "        <td style=\"padding-left: 1em; padding-right: 1em; text-align: center; vertical-align: top\">I LOOOVE this diaper<br>pail!  Its the easies ...</td>\n",
       "        <td style=\"padding-left: 1em; padding-right: 1em; text-align: center; vertical-align: top\">5.0</td>\n",
       "        <td style=\"padding-left: 1em; padding-right: 1em; text-align: center; vertical-align: top\">{&#x27;buy&#x27;: 1.0, &#x27;looking&#x27;:<br>1.0, &#x27;product&#x27;: 1.0, ...</td>\n",
       "        <td style=\"padding-left: 1em; padding-right: 1em; text-align: center; vertical-align: top\">1</td>\n",
       "    </tr>\n",
       "    <tr>\n",
       "        <td style=\"padding-left: 1em; padding-right: 1em; text-align: center; vertical-align: top\">Baby Trend Diaper Champ</td>\n",
       "        <td style=\"padding-left: 1em; padding-right: 1em; text-align: center; vertical-align: top\">As a first time mother, I<br>wanted to get the best ...</td>\n",
       "        <td style=\"padding-left: 1em; padding-right: 1em; text-align: center; vertical-align: top\">5.0</td>\n",
       "        <td style=\"padding-left: 1em; padding-right: 1em; text-align: center; vertical-align: top\">{&#x27;ll&#x27;: 1.0, &#x27;baby&#x27;: 1.0,<br>&#x27;recommended&#x27;: 1.0, &#x27; ...</td>\n",
       "        <td style=\"padding-left: 1em; padding-right: 1em; text-align: center; vertical-align: top\">1</td>\n",
       "    </tr>\n",
       "    <tr>\n",
       "        <td style=\"padding-left: 1em; padding-right: 1em; text-align: center; vertical-align: top\">Baby Trend Diaper Champ</td>\n",
       "        <td style=\"padding-left: 1em; padding-right: 1em; text-align: center; vertical-align: top\">I see that there are<br>complaints of stinkiness ...</td>\n",
       "        <td style=\"padding-left: 1em; padding-right: 1em; text-align: center; vertical-align: top\">5.0</td>\n",
       "        <td style=\"padding-left: 1em; padding-right: 1em; text-align: center; vertical-align: top\">{&#x27;very&#x27;: 1.0, &#x27;seems&#x27;:<br>1.0, &#x27;all&#x27;: 1.0, ...</td>\n",
       "        <td style=\"padding-left: 1em; padding-right: 1em; text-align: center; vertical-align: top\">1</td>\n",
       "    </tr>\n",
       "    <tr>\n",
       "        <td style=\"padding-left: 1em; padding-right: 1em; text-align: center; vertical-align: top\">Baby Trend Diaper Champ</td>\n",
       "        <td style=\"padding-left: 1em; padding-right: 1em; text-align: center; vertical-align: top\">I have a 10 year old<br>daughter and an 8 month ...</td>\n",
       "        <td style=\"padding-left: 1em; padding-right: 1em; text-align: center; vertical-align: top\">5.0</td>\n",
       "        <td style=\"padding-left: 1em; padding-right: 1em; text-align: center; vertical-align: top\">{&#x27;sorry&#x27;: 1.0, &#x27;be&#x27;: 1.0,<br>&#x27;sell&#x27;: 1.0, &#x27;not&#x27;: 2.0, ...</td>\n",
       "        <td style=\"padding-left: 1em; padding-right: 1em; text-align: center; vertical-align: top\">1</td>\n",
       "    </tr>\n",
       "</table>\n",
       "<table frame=\"box\" rules=\"cols\">\n",
       "    <tr>\n",
       "        <th style=\"padding-left: 1em; padding-right: 1em; text-align: center\">predicted_sentiment</th>\n",
       "        <th style=\"padding-left: 1em; padding-right: 1em; text-align: center\">awesome</th>\n",
       "        <th style=\"padding-left: 1em; padding-right: 1em; text-align: center\">great</th>\n",
       "        <th style=\"padding-left: 1em; padding-right: 1em; text-align: center\">fantastic</th>\n",
       "        <th style=\"padding-left: 1em; padding-right: 1em; text-align: center\">amazing</th>\n",
       "        <th style=\"padding-left: 1em; padding-right: 1em; text-align: center\">love</th>\n",
       "        <th style=\"padding-left: 1em; padding-right: 1em; text-align: center\">horrible</th>\n",
       "        <th style=\"padding-left: 1em; padding-right: 1em; text-align: center\">bad</th>\n",
       "        <th style=\"padding-left: 1em; padding-right: 1em; text-align: center\">terrible</th>\n",
       "        <th style=\"padding-left: 1em; padding-right: 1em; text-align: center\">awful</th>\n",
       "        <th style=\"padding-left: 1em; padding-right: 1em; text-align: center\">wow</th>\n",
       "        <th style=\"padding-left: 1em; padding-right: 1em; text-align: center\">hate</th>\n",
       "    </tr>\n",
       "    <tr>\n",
       "        <td style=\"padding-left: 1em; padding-right: 1em; text-align: center; vertical-align: top\">0.9999999999895941</td>\n",
       "        <td style=\"padding-left: 1em; padding-right: 1em; text-align: center; vertical-align: top\">0.0</td>\n",
       "        <td style=\"padding-left: 1em; padding-right: 1em; text-align: center; vertical-align: top\">0.0</td>\n",
       "        <td style=\"padding-left: 1em; padding-right: 1em; text-align: center; vertical-align: top\">0.0</td>\n",
       "        <td style=\"padding-left: 1em; padding-right: 1em; text-align: center; vertical-align: top\">0.0</td>\n",
       "        <td style=\"padding-left: 1em; padding-right: 1em; text-align: center; vertical-align: top\">0.0</td>\n",
       "        <td style=\"padding-left: 1em; padding-right: 1em; text-align: center; vertical-align: top\">0.0</td>\n",
       "        <td style=\"padding-left: 1em; padding-right: 1em; text-align: center; vertical-align: top\">0.0</td>\n",
       "        <td style=\"padding-left: 1em; padding-right: 1em; text-align: center; vertical-align: top\">0.0</td>\n",
       "        <td style=\"padding-left: 1em; padding-right: 1em; text-align: center; vertical-align: top\">0.0</td>\n",
       "        <td style=\"padding-left: 1em; padding-right: 1em; text-align: center; vertical-align: top\">0.0</td>\n",
       "        <td style=\"padding-left: 1em; padding-right: 1em; text-align: center; vertical-align: top\">0.0</td>\n",
       "    </tr>\n",
       "    <tr>\n",
       "        <td style=\"padding-left: 1em; padding-right: 1em; text-align: center; vertical-align: top\">0.9999999999868131</td>\n",
       "        <td style=\"padding-left: 1em; padding-right: 1em; text-align: center; vertical-align: top\">0.0</td>\n",
       "        <td style=\"padding-left: 1em; padding-right: 1em; text-align: center; vertical-align: top\">0.0</td>\n",
       "        <td style=\"padding-left: 1em; padding-right: 1em; text-align: center; vertical-align: top\">0.0</td>\n",
       "        <td style=\"padding-left: 1em; padding-right: 1em; text-align: center; vertical-align: top\">0.0</td>\n",
       "        <td style=\"padding-left: 1em; padding-right: 1em; text-align: center; vertical-align: top\">1.0</td>\n",
       "        <td style=\"padding-left: 1em; padding-right: 1em; text-align: center; vertical-align: top\">0.0</td>\n",
       "        <td style=\"padding-left: 1em; padding-right: 1em; text-align: center; vertical-align: top\">0.0</td>\n",
       "        <td style=\"padding-left: 1em; padding-right: 1em; text-align: center; vertical-align: top\">0.0</td>\n",
       "        <td style=\"padding-left: 1em; padding-right: 1em; text-align: center; vertical-align: top\">0.0</td>\n",
       "        <td style=\"padding-left: 1em; padding-right: 1em; text-align: center; vertical-align: top\">0.0</td>\n",
       "        <td style=\"padding-left: 1em; padding-right: 1em; text-align: center; vertical-align: top\">0.0</td>\n",
       "    </tr>\n",
       "    <tr>\n",
       "        <td style=\"padding-left: 1em; padding-right: 1em; text-align: center; vertical-align: top\">0.9999999999465673</td>\n",
       "        <td style=\"padding-left: 1em; padding-right: 1em; text-align: center; vertical-align: top\">0.0</td>\n",
       "        <td style=\"padding-left: 1em; padding-right: 1em; text-align: center; vertical-align: top\">0.0</td>\n",
       "        <td style=\"padding-left: 1em; padding-right: 1em; text-align: center; vertical-align: top\">0.0</td>\n",
       "        <td style=\"padding-left: 1em; padding-right: 1em; text-align: center; vertical-align: top\">0.0</td>\n",
       "        <td style=\"padding-left: 1em; padding-right: 1em; text-align: center; vertical-align: top\">0.0</td>\n",
       "        <td style=\"padding-left: 1em; padding-right: 1em; text-align: center; vertical-align: top\">0.0</td>\n",
       "        <td style=\"padding-left: 1em; padding-right: 1em; text-align: center; vertical-align: top\">0.0</td>\n",
       "        <td style=\"padding-left: 1em; padding-right: 1em; text-align: center; vertical-align: top\">0.0</td>\n",
       "        <td style=\"padding-left: 1em; padding-right: 1em; text-align: center; vertical-align: top\">0.0</td>\n",
       "        <td style=\"padding-left: 1em; padding-right: 1em; text-align: center; vertical-align: top\">0.0</td>\n",
       "        <td style=\"padding-left: 1em; padding-right: 1em; text-align: center; vertical-align: top\">0.0</td>\n",
       "    </tr>\n",
       "    <tr>\n",
       "        <td style=\"padding-left: 1em; padding-right: 1em; text-align: center; vertical-align: top\">0.9999999999302822</td>\n",
       "        <td style=\"padding-left: 1em; padding-right: 1em; text-align: center; vertical-align: top\">0.0</td>\n",
       "        <td style=\"padding-left: 1em; padding-right: 1em; text-align: center; vertical-align: top\">1.0</td>\n",
       "        <td style=\"padding-left: 1em; padding-right: 1em; text-align: center; vertical-align: top\">0.0</td>\n",
       "        <td style=\"padding-left: 1em; padding-right: 1em; text-align: center; vertical-align: top\">0.0</td>\n",
       "        <td style=\"padding-left: 1em; padding-right: 1em; text-align: center; vertical-align: top\">0.0</td>\n",
       "        <td style=\"padding-left: 1em; padding-right: 1em; text-align: center; vertical-align: top\">0.0</td>\n",
       "        <td style=\"padding-left: 1em; padding-right: 1em; text-align: center; vertical-align: top\">0.0</td>\n",
       "        <td style=\"padding-left: 1em; padding-right: 1em; text-align: center; vertical-align: top\">0.0</td>\n",
       "        <td style=\"padding-left: 1em; padding-right: 1em; text-align: center; vertical-align: top\">0.0</td>\n",
       "        <td style=\"padding-left: 1em; padding-right: 1em; text-align: center; vertical-align: top\">0.0</td>\n",
       "        <td style=\"padding-left: 1em; padding-right: 1em; text-align: center; vertical-align: top\">0.0</td>\n",
       "    </tr>\n",
       "    <tr>\n",
       "        <td style=\"padding-left: 1em; padding-right: 1em; text-align: center; vertical-align: top\">0.9999999999174133</td>\n",
       "        <td style=\"padding-left: 1em; padding-right: 1em; text-align: center; vertical-align: top\">0.0</td>\n",
       "        <td style=\"padding-left: 1em; padding-right: 1em; text-align: center; vertical-align: top\">1.0</td>\n",
       "        <td style=\"padding-left: 1em; padding-right: 1em; text-align: center; vertical-align: top\">0.0</td>\n",
       "        <td style=\"padding-left: 1em; padding-right: 1em; text-align: center; vertical-align: top\">0.0</td>\n",
       "        <td style=\"padding-left: 1em; padding-right: 1em; text-align: center; vertical-align: top\">0.0</td>\n",
       "        <td style=\"padding-left: 1em; padding-right: 1em; text-align: center; vertical-align: top\">0.0</td>\n",
       "        <td style=\"padding-left: 1em; padding-right: 1em; text-align: center; vertical-align: top\">0.0</td>\n",
       "        <td style=\"padding-left: 1em; padding-right: 1em; text-align: center; vertical-align: top\">0.0</td>\n",
       "        <td style=\"padding-left: 1em; padding-right: 1em; text-align: center; vertical-align: top\">0.0</td>\n",
       "        <td style=\"padding-left: 1em; padding-right: 1em; text-align: center; vertical-align: top\">0.0</td>\n",
       "        <td style=\"padding-left: 1em; padding-right: 1em; text-align: center; vertical-align: top\">0.0</td>\n",
       "    </tr>\n",
       "    <tr>\n",
       "        <td style=\"padding-left: 1em; padding-right: 1em; text-align: center; vertical-align: top\">0.9999999998430963</td>\n",
       "        <td style=\"padding-left: 1em; padding-right: 1em; text-align: center; vertical-align: top\">0.0</td>\n",
       "        <td style=\"padding-left: 1em; padding-right: 1em; text-align: center; vertical-align: top\">0.0</td>\n",
       "        <td style=\"padding-left: 1em; padding-right: 1em; text-align: center; vertical-align: top\">0.0</td>\n",
       "        <td style=\"padding-left: 1em; padding-right: 1em; text-align: center; vertical-align: top\">0.0</td>\n",
       "        <td style=\"padding-left: 1em; padding-right: 1em; text-align: center; vertical-align: top\">1.0</td>\n",
       "        <td style=\"padding-left: 1em; padding-right: 1em; text-align: center; vertical-align: top\">0.0</td>\n",
       "        <td style=\"padding-left: 1em; padding-right: 1em; text-align: center; vertical-align: top\">0.0</td>\n",
       "        <td style=\"padding-left: 1em; padding-right: 1em; text-align: center; vertical-align: top\">0.0</td>\n",
       "        <td style=\"padding-left: 1em; padding-right: 1em; text-align: center; vertical-align: top\">0.0</td>\n",
       "        <td style=\"padding-left: 1em; padding-right: 1em; text-align: center; vertical-align: top\">0.0</td>\n",
       "        <td style=\"padding-left: 1em; padding-right: 1em; text-align: center; vertical-align: top\">0.0</td>\n",
       "    </tr>\n",
       "    <tr>\n",
       "        <td style=\"padding-left: 1em; padding-right: 1em; text-align: center; vertical-align: top\">0.9999999997360196</td>\n",
       "        <td style=\"padding-left: 1em; padding-right: 1em; text-align: center; vertical-align: top\">0.0</td>\n",
       "        <td style=\"padding-left: 1em; padding-right: 1em; text-align: center; vertical-align: top\">0.0</td>\n",
       "        <td style=\"padding-left: 1em; padding-right: 1em; text-align: center; vertical-align: top\">0.0</td>\n",
       "        <td style=\"padding-left: 1em; padding-right: 1em; text-align: center; vertical-align: top\">0.0</td>\n",
       "        <td style=\"padding-left: 1em; padding-right: 1em; text-align: center; vertical-align: top\">1.0</td>\n",
       "        <td style=\"padding-left: 1em; padding-right: 1em; text-align: center; vertical-align: top\">0.0</td>\n",
       "        <td style=\"padding-left: 1em; padding-right: 1em; text-align: center; vertical-align: top\">0.0</td>\n",
       "        <td style=\"padding-left: 1em; padding-right: 1em; text-align: center; vertical-align: top\">0.0</td>\n",
       "        <td style=\"padding-left: 1em; padding-right: 1em; text-align: center; vertical-align: top\">0.0</td>\n",
       "        <td style=\"padding-left: 1em; padding-right: 1em; text-align: center; vertical-align: top\">0.0</td>\n",
       "        <td style=\"padding-left: 1em; padding-right: 1em; text-align: center; vertical-align: top\">0.0</td>\n",
       "    </tr>\n",
       "    <tr>\n",
       "        <td style=\"padding-left: 1em; padding-right: 1em; text-align: center; vertical-align: top\">0.9999999995664315</td>\n",
       "        <td style=\"padding-left: 1em; padding-right: 1em; text-align: center; vertical-align: top\">0.0</td>\n",
       "        <td style=\"padding-left: 1em; padding-right: 1em; text-align: center; vertical-align: top\">0.0</td>\n",
       "        <td style=\"padding-left: 1em; padding-right: 1em; text-align: center; vertical-align: top\">0.0</td>\n",
       "        <td style=\"padding-left: 1em; padding-right: 1em; text-align: center; vertical-align: top\">0.0</td>\n",
       "        <td style=\"padding-left: 1em; padding-right: 1em; text-align: center; vertical-align: top\">1.0</td>\n",
       "        <td style=\"padding-left: 1em; padding-right: 1em; text-align: center; vertical-align: top\">0.0</td>\n",
       "        <td style=\"padding-left: 1em; padding-right: 1em; text-align: center; vertical-align: top\">0.0</td>\n",
       "        <td style=\"padding-left: 1em; padding-right: 1em; text-align: center; vertical-align: top\">0.0</td>\n",
       "        <td style=\"padding-left: 1em; padding-right: 1em; text-align: center; vertical-align: top\">0.0</td>\n",
       "        <td style=\"padding-left: 1em; padding-right: 1em; text-align: center; vertical-align: top\">0.0</td>\n",
       "        <td style=\"padding-left: 1em; padding-right: 1em; text-align: center; vertical-align: top\">0.0</td>\n",
       "    </tr>\n",
       "    <tr>\n",
       "        <td style=\"padding-left: 1em; padding-right: 1em; text-align: center; vertical-align: top\">0.9999999985015902</td>\n",
       "        <td style=\"padding-left: 1em; padding-right: 1em; text-align: center; vertical-align: top\">0.0</td>\n",
       "        <td style=\"padding-left: 1em; padding-right: 1em; text-align: center; vertical-align: top\">0.0</td>\n",
       "        <td style=\"padding-left: 1em; padding-right: 1em; text-align: center; vertical-align: top\">0.0</td>\n",
       "        <td style=\"padding-left: 1em; padding-right: 1em; text-align: center; vertical-align: top\">0.0</td>\n",
       "        <td style=\"padding-left: 1em; padding-right: 1em; text-align: center; vertical-align: top\">0.0</td>\n",
       "        <td style=\"padding-left: 1em; padding-right: 1em; text-align: center; vertical-align: top\">0.0</td>\n",
       "        <td style=\"padding-left: 1em; padding-right: 1em; text-align: center; vertical-align: top\">0.0</td>\n",
       "        <td style=\"padding-left: 1em; padding-right: 1em; text-align: center; vertical-align: top\">0.0</td>\n",
       "        <td style=\"padding-left: 1em; padding-right: 1em; text-align: center; vertical-align: top\">0.0</td>\n",
       "        <td style=\"padding-left: 1em; padding-right: 1em; text-align: center; vertical-align: top\">0.0</td>\n",
       "        <td style=\"padding-left: 1em; padding-right: 1em; text-align: center; vertical-align: top\">0.0</td>\n",
       "    </tr>\n",
       "    <tr>\n",
       "        <td style=\"padding-left: 1em; padding-right: 1em; text-align: center; vertical-align: top\">0.999999998056851</td>\n",
       "        <td style=\"padding-left: 1em; padding-right: 1em; text-align: center; vertical-align: top\">0.0</td>\n",
       "        <td style=\"padding-left: 1em; padding-right: 1em; text-align: center; vertical-align: top\">0.0</td>\n",
       "        <td style=\"padding-left: 1em; padding-right: 1em; text-align: center; vertical-align: top\">0.0</td>\n",
       "        <td style=\"padding-left: 1em; padding-right: 1em; text-align: center; vertical-align: top\">0.0</td>\n",
       "        <td style=\"padding-left: 1em; padding-right: 1em; text-align: center; vertical-align: top\">2.0</td>\n",
       "        <td style=\"padding-left: 1em; padding-right: 1em; text-align: center; vertical-align: top\">0.0</td>\n",
       "        <td style=\"padding-left: 1em; padding-right: 1em; text-align: center; vertical-align: top\">0.0</td>\n",
       "        <td style=\"padding-left: 1em; padding-right: 1em; text-align: center; vertical-align: top\">0.0</td>\n",
       "        <td style=\"padding-left: 1em; padding-right: 1em; text-align: center; vertical-align: top\">0.0</td>\n",
       "        <td style=\"padding-left: 1em; padding-right: 1em; text-align: center; vertical-align: top\">0.0</td>\n",
       "        <td style=\"padding-left: 1em; padding-right: 1em; text-align: center; vertical-align: top\">0.0</td>\n",
       "    </tr>\n",
       "</table>\n",
       "[10 rows x 17 columns]<br/>\n",
       "</div>"
      ],
      "text/plain": [
       "Columns:\n",
       "\tname\tstr\n",
       "\treview\tstr\n",
       "\trating\tfloat\n",
       "\tword_count\tdict\n",
       "\tsentiment\tint\n",
       "\tpredicted_sentiment\tfloat\n",
       "\tawesome\tfloat\n",
       "\tgreat\tfloat\n",
       "\tfantastic\tfloat\n",
       "\tamazing\tfloat\n",
       "\tlove\tfloat\n",
       "\thorrible\tfloat\n",
       "\tbad\tfloat\n",
       "\tterrible\tfloat\n",
       "\tawful\tfloat\n",
       "\twow\tfloat\n",
       "\thate\tfloat\n",
       "\n",
       "Rows: 10\n",
       "\n",
       "Data:\n",
       "+-------------------------+-------------------------------+--------+\n",
       "|           name          |             review            | rating |\n",
       "+-------------------------+-------------------------------+--------+\n",
       "| Baby Trend Diaper Champ | I read a review below that... |  4.0   |\n",
       "| Baby Trend Diaper Champ | I have never written a rev... |  5.0   |\n",
       "| Baby Trend Diaper Champ | I originally put this item... |  5.0   |\n",
       "| Baby Trend Diaper Champ | Baby Luke can turn a clean... |  5.0   |\n",
       "| Baby Trend Diaper Champ | Diaper Champ or Diaper Gen... |  5.0   |\n",
       "| Baby Trend Diaper Champ | I am one of those super-cr... |  5.0   |\n",
       "| Baby Trend Diaper Champ | I LOOOVE this diaper pail!... |  5.0   |\n",
       "| Baby Trend Diaper Champ | As a first time mother, I ... |  5.0   |\n",
       "| Baby Trend Diaper Champ | I see that there are compl... |  5.0   |\n",
       "| Baby Trend Diaper Champ | I have a 10 year old daugh... |  5.0   |\n",
       "+-------------------------+-------------------------------+--------+\n",
       "+-------------------------------+-----------+---------------------+---------+\n",
       "|           word_count          | sentiment | predicted_sentiment | awesome |\n",
       "+-------------------------------+-----------+---------------------+---------+\n",
       "| {'key': 1.0, 'have': 1.0, ... |     1     |  0.9999999999895941 |   0.0   |\n",
       "| {'priceless': 1.0, 'parent... |     1     |  0.9999999999868131 |   0.0   |\n",
       "| {'price': 1.0, 'worth': 1.... |     1     |  0.9999999999465673 |   0.0   |\n",
       "| {'around': 1.0, 'bulk': 1.... |     1     |  0.9999999999302822 |   0.0   |\n",
       "| {'be': 1.0, 'won': 1.0, 'o... |     1     |  0.9999999999174133 |   0.0   |\n",
       "| {'helps': 1.0, 'slower': 1... |     1     |  0.9999999998430963 |   0.0   |\n",
       "| {'buy': 1.0, 'looking': 1.... |     1     |  0.9999999997360196 |   0.0   |\n",
       "| {'ll': 1.0, 'baby': 1.0, '... |     1     |  0.9999999995664315 |   0.0   |\n",
       "| {'very': 1.0, 'seems': 1.0... |     1     |  0.9999999985015902 |   0.0   |\n",
       "| {'sorry': 1.0, 'be': 1.0, ... |     1     |  0.999999998056851  |   0.0   |\n",
       "+-------------------------------+-----------+---------------------+---------+\n",
       "+-------+-----------+---------+------+----------+-----+----------+-------+-----+\n",
       "| great | fantastic | amazing | love | horrible | bad | terrible | awful | wow |\n",
       "+-------+-----------+---------+------+----------+-----+----------+-------+-----+\n",
       "|  0.0  |    0.0    |   0.0   | 0.0  |   0.0    | 0.0 |   0.0    |  0.0  | 0.0 |\n",
       "|  0.0  |    0.0    |   0.0   | 1.0  |   0.0    | 0.0 |   0.0    |  0.0  | 0.0 |\n",
       "|  0.0  |    0.0    |   0.0   | 0.0  |   0.0    | 0.0 |   0.0    |  0.0  | 0.0 |\n",
       "|  1.0  |    0.0    |   0.0   | 0.0  |   0.0    | 0.0 |   0.0    |  0.0  | 0.0 |\n",
       "|  1.0  |    0.0    |   0.0   | 0.0  |   0.0    | 0.0 |   0.0    |  0.0  | 0.0 |\n",
       "|  0.0  |    0.0    |   0.0   | 1.0  |   0.0    | 0.0 |   0.0    |  0.0  | 0.0 |\n",
       "|  0.0  |    0.0    |   0.0   | 1.0  |   0.0    | 0.0 |   0.0    |  0.0  | 0.0 |\n",
       "|  0.0  |    0.0    |   0.0   | 1.0  |   0.0    | 0.0 |   0.0    |  0.0  | 0.0 |\n",
       "|  0.0  |    0.0    |   0.0   | 0.0  |   0.0    | 0.0 |   0.0    |  0.0  | 0.0 |\n",
       "|  0.0  |    0.0    |   0.0   | 2.0  |   0.0    | 0.0 |   0.0    |  0.0  | 0.0 |\n",
       "+-------+-----------+---------+------+----------+-----+----------+-------+-----+\n",
       "+------+\n",
       "| hate |\n",
       "+------+\n",
       "| 0.0  |\n",
       "| 0.0  |\n",
       "| 0.0  |\n",
       "| 0.0  |\n",
       "| 0.0  |\n",
       "| 0.0  |\n",
       "| 0.0  |\n",
       "| 0.0  |\n",
       "| 0.0  |\n",
       "| 0.0  |\n",
       "+------+\n",
       "[10 rows x 17 columns]"
      ]
     },
     "execution_count": 74,
     "metadata": {},
     "output_type": "execute_result"
    }
   ],
   "source": [
    "baby_trend.head()"
   ]
  },
  {
   "cell_type": "code",
   "execution_count": 75,
   "metadata": {},
   "outputs": [],
   "source": [
    "baby_trend['predicted_sentiment2'] = selected_words_model.predict(baby_trend, output_type = 'probability')\n",
    "baby_trend = baby_trend.sort('predicted_sentiment2', ascending=False)"
   ]
  },
  {
   "cell_type": "code",
   "execution_count": 76,
   "metadata": {},
   "outputs": [
    {
     "data": {
      "text/html": [
       "<div style=\"max-height:1000px;max-width:1500px;overflow:auto;\"><table frame=\"box\" rules=\"cols\">\n",
       "    <tr>\n",
       "        <th style=\"padding-left: 1em; padding-right: 1em; text-align: center\">name</th>\n",
       "        <th style=\"padding-left: 1em; padding-right: 1em; text-align: center\">review</th>\n",
       "        <th style=\"padding-left: 1em; padding-right: 1em; text-align: center\">rating</th>\n",
       "        <th style=\"padding-left: 1em; padding-right: 1em; text-align: center\">word_count</th>\n",
       "        <th style=\"padding-left: 1em; padding-right: 1em; text-align: center\">sentiment</th>\n",
       "    </tr>\n",
       "    <tr>\n",
       "        <td style=\"padding-left: 1em; padding-right: 1em; text-align: center; vertical-align: top\">Baby Trend Diaper Champ</td>\n",
       "        <td style=\"padding-left: 1em; padding-right: 1em; text-align: center; vertical-align: top\">I LOVE LOVE LOVE this<br>product! It is SO much ...</td>\n",
       "        <td style=\"padding-left: 1em; padding-right: 1em; text-align: center; vertical-align: top\">4.0</td>\n",
       "        <td style=\"padding-left: 1em; padding-right: 1em; text-align: center; vertical-align: top\">{&#x27;sorry&#x27;: 1.0, &#x27;be&#x27;: 1.0,<br>&#x27;will&#x27;: 1.0, &#x27;any&#x27;: 1.0, ...</td>\n",
       "        <td style=\"padding-left: 1em; padding-right: 1em; text-align: center; vertical-align: top\">1</td>\n",
       "    </tr>\n",
       "    <tr>\n",
       "        <td style=\"padding-left: 1em; padding-right: 1em; text-align: center; vertical-align: top\">Baby Trend Diaper Champ</td>\n",
       "        <td style=\"padding-left: 1em; padding-right: 1em; text-align: center; vertical-align: top\">I received my Diaper<br>Champ at my baby shower ...</td>\n",
       "        <td style=\"padding-left: 1em; padding-right: 1em; text-align: center; vertical-align: top\">5.0</td>\n",
       "        <td style=\"padding-left: 1em; padding-right: 1em; text-align: center; vertical-align: top\">{&#x27;second&#x27;: 2.0, &#x27;have&#x27;:<br>1.0, &#x27;are&#x27;: 1.0, &#x27;pull&#x27;: ...</td>\n",
       "        <td style=\"padding-left: 1em; padding-right: 1em; text-align: center; vertical-align: top\">1</td>\n",
       "    </tr>\n",
       "    <tr>\n",
       "        <td style=\"padding-left: 1em; padding-right: 1em; text-align: center; vertical-align: top\">Baby Trend Diaper Champ</td>\n",
       "        <td style=\"padding-left: 1em; padding-right: 1em; text-align: center; vertical-align: top\">Love it, love it, love<br>it!  This lives up to ...</td>\n",
       "        <td style=\"padding-left: 1em; padding-right: 1em; text-align: center; vertical-align: top\">5.0</td>\n",
       "        <td style=\"padding-left: 1em; padding-right: 1em; text-align: center; vertical-align: top\">{&#x27;parents&#x27;: 1.0, &#x27;new&#x27;:<br>1.0, &#x27;recommended&#x27;: 1.0, ...</td>\n",
       "        <td style=\"padding-left: 1em; padding-right: 1em; text-align: center; vertical-align: top\">1</td>\n",
       "    </tr>\n",
       "    <tr>\n",
       "        <td style=\"padding-left: 1em; padding-right: 1em; text-align: center; vertical-align: top\">Baby Trend Diaper Champ</td>\n",
       "        <td style=\"padding-left: 1em; padding-right: 1em; text-align: center; vertical-align: top\">Let me just say, I LOVE<br>THIS PRODUCT!!  I used ...</td>\n",
       "        <td style=\"padding-left: 1em; padding-right: 1em; text-align: center; vertical-align: top\">5.0</td>\n",
       "        <td style=\"padding-left: 1em; padding-right: 1em; text-align: center; vertical-align: top\">{&#x27;fantastic&#x27;: 1.0,<br>&#x27;over&#x27;: 1.0, ...</td>\n",
       "        <td style=\"padding-left: 1em; padding-right: 1em; text-align: center; vertical-align: top\">1</td>\n",
       "    </tr>\n",
       "    <tr>\n",
       "        <td style=\"padding-left: 1em; padding-right: 1em; text-align: center; vertical-align: top\">Baby Trend Diaper Champ</td>\n",
       "        <td style=\"padding-left: 1em; padding-right: 1em; text-align: center; vertical-align: top\">I love this diaper pale<br>and wouldn&#x27;t dream of ...</td>\n",
       "        <td style=\"padding-left: 1em; padding-right: 1em; text-align: center; vertical-align: top\">5.0</td>\n",
       "        <td style=\"padding-left: 1em; padding-right: 1em; text-align: center; vertical-align: top\">{&#x27;easy&#x27;: 1.0, &#x27;how&#x27;: 1.0,<br>&#x27;like&#x27;: 1.0, &#x27;on&#x27;: 1.0, ...</td>\n",
       "        <td style=\"padding-left: 1em; padding-right: 1em; text-align: center; vertical-align: top\">1</td>\n",
       "    </tr>\n",
       "    <tr>\n",
       "        <td style=\"padding-left: 1em; padding-right: 1em; text-align: center; vertical-align: top\">Baby Trend Diaper Champ</td>\n",
       "        <td style=\"padding-left: 1em; padding-right: 1em; text-align: center; vertical-align: top\">Works great - no smells.<br>LOVE that it uses reg ...</td>\n",
       "        <td style=\"padding-left: 1em; padding-right: 1em; text-align: center; vertical-align: top\">5.0</td>\n",
       "        <td style=\"padding-left: 1em; padding-right: 1em; text-align: center; vertical-align: top\">{&#x27;plastic&#x27;: 1.0, &#x27;in&#x27;:<br>1.0, &#x27;each&#x27;: 1.0, ...</td>\n",
       "        <td style=\"padding-left: 1em; padding-right: 1em; text-align: center; vertical-align: top\">1</td>\n",
       "    </tr>\n",
       "    <tr>\n",
       "        <td style=\"padding-left: 1em; padding-right: 1em; text-align: center; vertical-align: top\">Baby Trend Diaper Champ</td>\n",
       "        <td style=\"padding-left: 1em; padding-right: 1em; text-align: center; vertical-align: top\">I have been using this<br>diaper pail for 41/2 ...</td>\n",
       "        <td style=\"padding-left: 1em; padding-right: 1em; text-align: center; vertical-align: top\">5.0</td>\n",
       "        <td style=\"padding-left: 1em; padding-right: 1em; text-align: center; vertical-align: top\">{&#x27;recommend&#x27;: 1.0,<br>&#x27;would&#x27;: 1.0, &#x27;with&#x27;: ...</td>\n",
       "        <td style=\"padding-left: 1em; padding-right: 1em; text-align: center; vertical-align: top\">1</td>\n",
       "    </tr>\n",
       "    <tr>\n",
       "        <td style=\"padding-left: 1em; padding-right: 1em; text-align: center; vertical-align: top\">Baby Trend Diaper Champ</td>\n",
       "        <td style=\"padding-left: 1em; padding-right: 1em; text-align: center; vertical-align: top\">Love the Diaper Champ.  I<br>had planned to get the ...</td>\n",
       "        <td style=\"padding-left: 1em; padding-right: 1em; text-align: center; vertical-align: top\">4.0</td>\n",
       "        <td style=\"padding-left: 1em; padding-right: 1em; text-align: center; vertical-align: top\">{&#x27;want&#x27;: 1.0, &#x27;wouldn&#x27;:<br>1.0, &#x27;items&#x27;: 1.0, ...</td>\n",
       "        <td style=\"padding-left: 1em; padding-right: 1em; text-align: center; vertical-align: top\">1</td>\n",
       "    </tr>\n",
       "    <tr>\n",
       "        <td style=\"padding-left: 1em; padding-right: 1em; text-align: center; vertical-align: top\">Baby Trend Diaper Champ</td>\n",
       "        <td style=\"padding-left: 1em; padding-right: 1em; text-align: center; vertical-align: top\">I have a two-year-old son<br>and I love the Diaper ...</td>\n",
       "        <td style=\"padding-left: 1em; padding-right: 1em; text-align: center; vertical-align: top\">5.0</td>\n",
       "        <td style=\"padding-left: 1em; padding-right: 1em; text-align: center; vertical-align: top\">{&#x27;close&#x27;: 1.0, &#x27;sticky&#x27;:<br>1.0, &#x27;tightly&#x27;: 1.0, ...</td>\n",
       "        <td style=\"padding-left: 1em; padding-right: 1em; text-align: center; vertical-align: top\">1</td>\n",
       "    </tr>\n",
       "    <tr>\n",
       "        <td style=\"padding-left: 1em; padding-right: 1em; text-align: center; vertical-align: top\">Baby Trend Diaper Champ</td>\n",
       "        <td style=\"padding-left: 1em; padding-right: 1em; text-align: center; vertical-align: top\">I have a 10 year old<br>daughter and an 8 month ...</td>\n",
       "        <td style=\"padding-left: 1em; padding-right: 1em; text-align: center; vertical-align: top\">5.0</td>\n",
       "        <td style=\"padding-left: 1em; padding-right: 1em; text-align: center; vertical-align: top\">{&#x27;sorry&#x27;: 1.0, &#x27;be&#x27;: 1.0,<br>&#x27;sell&#x27;: 1.0, &#x27;not&#x27;: 2.0, ...</td>\n",
       "        <td style=\"padding-left: 1em; padding-right: 1em; text-align: center; vertical-align: top\">1</td>\n",
       "    </tr>\n",
       "</table>\n",
       "<table frame=\"box\" rules=\"cols\">\n",
       "    <tr>\n",
       "        <th style=\"padding-left: 1em; padding-right: 1em; text-align: center\">predicted_sentiment</th>\n",
       "        <th style=\"padding-left: 1em; padding-right: 1em; text-align: center\">awesome</th>\n",
       "        <th style=\"padding-left: 1em; padding-right: 1em; text-align: center\">great</th>\n",
       "        <th style=\"padding-left: 1em; padding-right: 1em; text-align: center\">fantastic</th>\n",
       "        <th style=\"padding-left: 1em; padding-right: 1em; text-align: center\">amazing</th>\n",
       "        <th style=\"padding-left: 1em; padding-right: 1em; text-align: center\">love</th>\n",
       "        <th style=\"padding-left: 1em; padding-right: 1em; text-align: center\">horrible</th>\n",
       "        <th style=\"padding-left: 1em; padding-right: 1em; text-align: center\">bad</th>\n",
       "        <th style=\"padding-left: 1em; padding-right: 1em; text-align: center\">terrible</th>\n",
       "        <th style=\"padding-left: 1em; padding-right: 1em; text-align: center\">awful</th>\n",
       "        <th style=\"padding-left: 1em; padding-right: 1em; text-align: center\">wow</th>\n",
       "        <th style=\"padding-left: 1em; padding-right: 1em; text-align: center\">hate</th>\n",
       "    </tr>\n",
       "    <tr>\n",
       "        <td style=\"padding-left: 1em; padding-right: 1em; text-align: center; vertical-align: top\">0.9999819570853408</td>\n",
       "        <td style=\"padding-left: 1em; padding-right: 1em; text-align: center; vertical-align: top\">0.0</td>\n",
       "        <td style=\"padding-left: 1em; padding-right: 1em; text-align: center; vertical-align: top\">1.0</td>\n",
       "        <td style=\"padding-left: 1em; padding-right: 1em; text-align: center; vertical-align: top\">0.0</td>\n",
       "        <td style=\"padding-left: 1em; padding-right: 1em; text-align: center; vertical-align: top\">0.0</td>\n",
       "        <td style=\"padding-left: 1em; padding-right: 1em; text-align: center; vertical-align: top\">3.0</td>\n",
       "        <td style=\"padding-left: 1em; padding-right: 1em; text-align: center; vertical-align: top\">0.0</td>\n",
       "        <td style=\"padding-left: 1em; padding-right: 1em; text-align: center; vertical-align: top\">0.0</td>\n",
       "        <td style=\"padding-left: 1em; padding-right: 1em; text-align: center; vertical-align: top\">0.0</td>\n",
       "        <td style=\"padding-left: 1em; padding-right: 1em; text-align: center; vertical-align: top\">0.0</td>\n",
       "        <td style=\"padding-left: 1em; padding-right: 1em; text-align: center; vertical-align: top\">0.0</td>\n",
       "        <td style=\"padding-left: 1em; padding-right: 1em; text-align: center; vertical-align: top\">0.0</td>\n",
       "    </tr>\n",
       "    <tr>\n",
       "        <td style=\"padding-left: 1em; padding-right: 1em; text-align: center; vertical-align: top\">0.9998471415804355</td>\n",
       "        <td style=\"padding-left: 1em; padding-right: 1em; text-align: center; vertical-align: top\">0.0</td>\n",
       "        <td style=\"padding-left: 1em; padding-right: 1em; text-align: center; vertical-align: top\">0.0</td>\n",
       "        <td style=\"padding-left: 1em; padding-right: 1em; text-align: center; vertical-align: top\">0.0</td>\n",
       "        <td style=\"padding-left: 1em; padding-right: 1em; text-align: center; vertical-align: top\">0.0</td>\n",
       "        <td style=\"padding-left: 1em; padding-right: 1em; text-align: center; vertical-align: top\">3.0</td>\n",
       "        <td style=\"padding-left: 1em; padding-right: 1em; text-align: center; vertical-align: top\">0.0</td>\n",
       "        <td style=\"padding-left: 1em; padding-right: 1em; text-align: center; vertical-align: top\">0.0</td>\n",
       "        <td style=\"padding-left: 1em; padding-right: 1em; text-align: center; vertical-align: top\">0.0</td>\n",
       "        <td style=\"padding-left: 1em; padding-right: 1em; text-align: center; vertical-align: top\">0.0</td>\n",
       "        <td style=\"padding-left: 1em; padding-right: 1em; text-align: center; vertical-align: top\">0.0</td>\n",
       "        <td style=\"padding-left: 1em; padding-right: 1em; text-align: center; vertical-align: top\">0.0</td>\n",
       "    </tr>\n",
       "    <tr>\n",
       "        <td style=\"padding-left: 1em; padding-right: 1em; text-align: center; vertical-align: top\">0.6950301111572513</td>\n",
       "        <td style=\"padding-left: 1em; padding-right: 1em; text-align: center; vertical-align: top\">0.0</td>\n",
       "        <td style=\"padding-left: 1em; padding-right: 1em; text-align: center; vertical-align: top\">0.0</td>\n",
       "        <td style=\"padding-left: 1em; padding-right: 1em; text-align: center; vertical-align: top\">0.0</td>\n",
       "        <td style=\"padding-left: 1em; padding-right: 1em; text-align: center; vertical-align: top\">0.0</td>\n",
       "        <td style=\"padding-left: 1em; padding-right: 1em; text-align: center; vertical-align: top\">3.0</td>\n",
       "        <td style=\"padding-left: 1em; padding-right: 1em; text-align: center; vertical-align: top\">0.0</td>\n",
       "        <td style=\"padding-left: 1em; padding-right: 1em; text-align: center; vertical-align: top\">0.0</td>\n",
       "        <td style=\"padding-left: 1em; padding-right: 1em; text-align: center; vertical-align: top\">0.0</td>\n",
       "        <td style=\"padding-left: 1em; padding-right: 1em; text-align: center; vertical-align: top\">0.0</td>\n",
       "        <td style=\"padding-left: 1em; padding-right: 1em; text-align: center; vertical-align: top\">0.0</td>\n",
       "        <td style=\"padding-left: 1em; padding-right: 1em; text-align: center; vertical-align: top\">0.0</td>\n",
       "    </tr>\n",
       "    <tr>\n",
       "        <td style=\"padding-left: 1em; padding-right: 1em; text-align: center; vertical-align: top\">0.9999999944395654</td>\n",
       "        <td style=\"padding-left: 1em; padding-right: 1em; text-align: center; vertical-align: top\">0.0</td>\n",
       "        <td style=\"padding-left: 1em; padding-right: 1em; text-align: center; vertical-align: top\">1.0</td>\n",
       "        <td style=\"padding-left: 1em; padding-right: 1em; text-align: center; vertical-align: top\">1.0</td>\n",
       "        <td style=\"padding-left: 1em; padding-right: 1em; text-align: center; vertical-align: top\">0.0</td>\n",
       "        <td style=\"padding-left: 1em; padding-right: 1em; text-align: center; vertical-align: top\">1.0</td>\n",
       "        <td style=\"padding-left: 1em; padding-right: 1em; text-align: center; vertical-align: top\">0.0</td>\n",
       "        <td style=\"padding-left: 1em; padding-right: 1em; text-align: center; vertical-align: top\">0.0</td>\n",
       "        <td style=\"padding-left: 1em; padding-right: 1em; text-align: center; vertical-align: top\">0.0</td>\n",
       "        <td style=\"padding-left: 1em; padding-right: 1em; text-align: center; vertical-align: top\">0.0</td>\n",
       "        <td style=\"padding-left: 1em; padding-right: 1em; text-align: center; vertical-align: top\">0.0</td>\n",
       "        <td style=\"padding-left: 1em; padding-right: 1em; text-align: center; vertical-align: top\">0.0</td>\n",
       "    </tr>\n",
       "    <tr>\n",
       "        <td style=\"padding-left: 1em; padding-right: 1em; text-align: center; vertical-align: top\">0.9934809042547419</td>\n",
       "        <td style=\"padding-left: 1em; padding-right: 1em; text-align: center; vertical-align: top\">0.0</td>\n",
       "        <td style=\"padding-left: 1em; padding-right: 1em; text-align: center; vertical-align: top\">2.0</td>\n",
       "        <td style=\"padding-left: 1em; padding-right: 1em; text-align: center; vertical-align: top\">0.0</td>\n",
       "        <td style=\"padding-left: 1em; padding-right: 1em; text-align: center; vertical-align: top\">0.0</td>\n",
       "        <td style=\"padding-left: 1em; padding-right: 1em; text-align: center; vertical-align: top\">1.0</td>\n",
       "        <td style=\"padding-left: 1em; padding-right: 1em; text-align: center; vertical-align: top\">0.0</td>\n",
       "        <td style=\"padding-left: 1em; padding-right: 1em; text-align: center; vertical-align: top\">0.0</td>\n",
       "        <td style=\"padding-left: 1em; padding-right: 1em; text-align: center; vertical-align: top\">0.0</td>\n",
       "        <td style=\"padding-left: 1em; padding-right: 1em; text-align: center; vertical-align: top\">0.0</td>\n",
       "        <td style=\"padding-left: 1em; padding-right: 1em; text-align: center; vertical-align: top\">0.0</td>\n",
       "        <td style=\"padding-left: 1em; padding-right: 1em; text-align: center; vertical-align: top\">0.0</td>\n",
       "    </tr>\n",
       "    <tr>\n",
       "        <td style=\"padding-left: 1em; padding-right: 1em; text-align: center; vertical-align: top\">0.9995504494190269</td>\n",
       "        <td style=\"padding-left: 1em; padding-right: 1em; text-align: center; vertical-align: top\">0.0</td>\n",
       "        <td style=\"padding-left: 1em; padding-right: 1em; text-align: center; vertical-align: top\">2.0</td>\n",
       "        <td style=\"padding-left: 1em; padding-right: 1em; text-align: center; vertical-align: top\">0.0</td>\n",
       "        <td style=\"padding-left: 1em; padding-right: 1em; text-align: center; vertical-align: top\">0.0</td>\n",
       "        <td style=\"padding-left: 1em; padding-right: 1em; text-align: center; vertical-align: top\">1.0</td>\n",
       "        <td style=\"padding-left: 1em; padding-right: 1em; text-align: center; vertical-align: top\">0.0</td>\n",
       "        <td style=\"padding-left: 1em; padding-right: 1em; text-align: center; vertical-align: top\">0.0</td>\n",
       "        <td style=\"padding-left: 1em; padding-right: 1em; text-align: center; vertical-align: top\">0.0</td>\n",
       "        <td style=\"padding-left: 1em; padding-right: 1em; text-align: center; vertical-align: top\">0.0</td>\n",
       "        <td style=\"padding-left: 1em; padding-right: 1em; text-align: center; vertical-align: top\">0.0</td>\n",
       "        <td style=\"padding-left: 1em; padding-right: 1em; text-align: center; vertical-align: top\">0.0</td>\n",
       "    </tr>\n",
       "    <tr>\n",
       "        <td style=\"padding-left: 1em; padding-right: 1em; text-align: center; vertical-align: top\">0.9999999926714168</td>\n",
       "        <td style=\"padding-left: 1em; padding-right: 1em; text-align: center; vertical-align: top\">0.0</td>\n",
       "        <td style=\"padding-left: 1em; padding-right: 1em; text-align: center; vertical-align: top\">2.0</td>\n",
       "        <td style=\"padding-left: 1em; padding-right: 1em; text-align: center; vertical-align: top\">0.0</td>\n",
       "        <td style=\"padding-left: 1em; padding-right: 1em; text-align: center; vertical-align: top\">0.0</td>\n",
       "        <td style=\"padding-left: 1em; padding-right: 1em; text-align: center; vertical-align: top\">1.0</td>\n",
       "        <td style=\"padding-left: 1em; padding-right: 1em; text-align: center; vertical-align: top\">0.0</td>\n",
       "        <td style=\"padding-left: 1em; padding-right: 1em; text-align: center; vertical-align: top\">0.0</td>\n",
       "        <td style=\"padding-left: 1em; padding-right: 1em; text-align: center; vertical-align: top\">0.0</td>\n",
       "        <td style=\"padding-left: 1em; padding-right: 1em; text-align: center; vertical-align: top\">0.0</td>\n",
       "        <td style=\"padding-left: 1em; padding-right: 1em; text-align: center; vertical-align: top\">0.0</td>\n",
       "        <td style=\"padding-left: 1em; padding-right: 1em; text-align: center; vertical-align: top\">0.0</td>\n",
       "    </tr>\n",
       "    <tr>\n",
       "        <td style=\"padding-left: 1em; padding-right: 1em; text-align: center; vertical-align: top\">0.9997484045054668</td>\n",
       "        <td style=\"padding-left: 1em; padding-right: 1em; text-align: center; vertical-align: top\">0.0</td>\n",
       "        <td style=\"padding-left: 1em; padding-right: 1em; text-align: center; vertical-align: top\">0.0</td>\n",
       "        <td style=\"padding-left: 1em; padding-right: 1em; text-align: center; vertical-align: top\">0.0</td>\n",
       "        <td style=\"padding-left: 1em; padding-right: 1em; text-align: center; vertical-align: top\">0.0</td>\n",
       "        <td style=\"padding-left: 1em; padding-right: 1em; text-align: center; vertical-align: top\">2.0</td>\n",
       "        <td style=\"padding-left: 1em; padding-right: 1em; text-align: center; vertical-align: top\">0.0</td>\n",
       "        <td style=\"padding-left: 1em; padding-right: 1em; text-align: center; vertical-align: top\">0.0</td>\n",
       "        <td style=\"padding-left: 1em; padding-right: 1em; text-align: center; vertical-align: top\">0.0</td>\n",
       "        <td style=\"padding-left: 1em; padding-right: 1em; text-align: center; vertical-align: top\">0.0</td>\n",
       "        <td style=\"padding-left: 1em; padding-right: 1em; text-align: center; vertical-align: top\">0.0</td>\n",
       "        <td style=\"padding-left: 1em; padding-right: 1em; text-align: center; vertical-align: top\">0.0</td>\n",
       "    </tr>\n",
       "    <tr>\n",
       "        <td style=\"padding-left: 1em; padding-right: 1em; text-align: center; vertical-align: top\">0.8102910204439611</td>\n",
       "        <td style=\"padding-left: 1em; padding-right: 1em; text-align: center; vertical-align: top\">0.0</td>\n",
       "        <td style=\"padding-left: 1em; padding-right: 1em; text-align: center; vertical-align: top\">0.0</td>\n",
       "        <td style=\"padding-left: 1em; padding-right: 1em; text-align: center; vertical-align: top\">0.0</td>\n",
       "        <td style=\"padding-left: 1em; padding-right: 1em; text-align: center; vertical-align: top\">0.0</td>\n",
       "        <td style=\"padding-left: 1em; padding-right: 1em; text-align: center; vertical-align: top\">2.0</td>\n",
       "        <td style=\"padding-left: 1em; padding-right: 1em; text-align: center; vertical-align: top\">0.0</td>\n",
       "        <td style=\"padding-left: 1em; padding-right: 1em; text-align: center; vertical-align: top\">0.0</td>\n",
       "        <td style=\"padding-left: 1em; padding-right: 1em; text-align: center; vertical-align: top\">0.0</td>\n",
       "        <td style=\"padding-left: 1em; padding-right: 1em; text-align: center; vertical-align: top\">0.0</td>\n",
       "        <td style=\"padding-left: 1em; padding-right: 1em; text-align: center; vertical-align: top\">0.0</td>\n",
       "        <td style=\"padding-left: 1em; padding-right: 1em; text-align: center; vertical-align: top\">0.0</td>\n",
       "    </tr>\n",
       "    <tr>\n",
       "        <td style=\"padding-left: 1em; padding-right: 1em; text-align: center; vertical-align: top\">0.999999998056851</td>\n",
       "        <td style=\"padding-left: 1em; padding-right: 1em; text-align: center; vertical-align: top\">0.0</td>\n",
       "        <td style=\"padding-left: 1em; padding-right: 1em; text-align: center; vertical-align: top\">0.0</td>\n",
       "        <td style=\"padding-left: 1em; padding-right: 1em; text-align: center; vertical-align: top\">0.0</td>\n",
       "        <td style=\"padding-left: 1em; padding-right: 1em; text-align: center; vertical-align: top\">0.0</td>\n",
       "        <td style=\"padding-left: 1em; padding-right: 1em; text-align: center; vertical-align: top\">2.0</td>\n",
       "        <td style=\"padding-left: 1em; padding-right: 1em; text-align: center; vertical-align: top\">0.0</td>\n",
       "        <td style=\"padding-left: 1em; padding-right: 1em; text-align: center; vertical-align: top\">0.0</td>\n",
       "        <td style=\"padding-left: 1em; padding-right: 1em; text-align: center; vertical-align: top\">0.0</td>\n",
       "        <td style=\"padding-left: 1em; padding-right: 1em; text-align: center; vertical-align: top\">0.0</td>\n",
       "        <td style=\"padding-left: 1em; padding-right: 1em; text-align: center; vertical-align: top\">0.0</td>\n",
       "        <td style=\"padding-left: 1em; padding-right: 1em; text-align: center; vertical-align: top\">0.0</td>\n",
       "    </tr>\n",
       "</table>\n",
       "<table frame=\"box\" rules=\"cols\">\n",
       "    <tr>\n",
       "        <th style=\"padding-left: 1em; padding-right: 1em; text-align: center\">predicted_sentiment2</th>\n",
       "    </tr>\n",
       "    <tr>\n",
       "        <td style=\"padding-left: 1em; padding-right: 1em; text-align: center; vertical-align: top\">0.9981253623335121</td>\n",
       "    </tr>\n",
       "    <tr>\n",
       "        <td style=\"padding-left: 1em; padding-right: 1em; text-align: center; vertical-align: top\">0.9955677154227357</td>\n",
       "    </tr>\n",
       "    <tr>\n",
       "        <td style=\"padding-left: 1em; padding-right: 1em; text-align: center; vertical-align: top\">0.9955677154227357</td>\n",
       "    </tr>\n",
       "    <tr>\n",
       "        <td style=\"padding-left: 1em; padding-right: 1em; text-align: center; vertical-align: top\">0.988395964994454</td>\n",
       "    </tr>\n",
       "    <tr>\n",
       "        <td style=\"padding-left: 1em; padding-right: 1em; text-align: center; vertical-align: top\">0.9881322423088141</td>\n",
       "    </tr>\n",
       "    <tr>\n",
       "        <td style=\"padding-left: 1em; padding-right: 1em; text-align: center; vertical-align: top\">0.9881322423088141</td>\n",
       "    </tr>\n",
       "    <tr>\n",
       "        <td style=\"padding-left: 1em; padding-right: 1em; text-align: center; vertical-align: top\">0.9881322423088141</td>\n",
       "    </tr>\n",
       "    <tr>\n",
       "        <td style=\"padding-left: 1em; padding-right: 1em; text-align: center; vertical-align: top\">0.9829620803909052</td>\n",
       "    </tr>\n",
       "    <tr>\n",
       "        <td style=\"padding-left: 1em; padding-right: 1em; text-align: center; vertical-align: top\">0.9829620803909052</td>\n",
       "    </tr>\n",
       "    <tr>\n",
       "        <td style=\"padding-left: 1em; padding-right: 1em; text-align: center; vertical-align: top\">0.9829620803909052</td>\n",
       "    </tr>\n",
       "</table>\n",
       "[298 rows x 18 columns]<br/>Note: Only the head of the SFrame is printed.<br/>You can use print_rows(num_rows=m, num_columns=n) to print more rows and columns.\n",
       "</div>"
      ],
      "text/plain": [
       "Columns:\n",
       "\tname\tstr\n",
       "\treview\tstr\n",
       "\trating\tfloat\n",
       "\tword_count\tdict\n",
       "\tsentiment\tint\n",
       "\tpredicted_sentiment\tfloat\n",
       "\tawesome\tfloat\n",
       "\tgreat\tfloat\n",
       "\tfantastic\tfloat\n",
       "\tamazing\tfloat\n",
       "\tlove\tfloat\n",
       "\thorrible\tfloat\n",
       "\tbad\tfloat\n",
       "\tterrible\tfloat\n",
       "\tawful\tfloat\n",
       "\twow\tfloat\n",
       "\thate\tfloat\n",
       "\tpredicted_sentiment2\tfloat\n",
       "\n",
       "Rows: 298\n",
       "\n",
       "Data:\n",
       "+-------------------------+-------------------------------+--------+\n",
       "|           name          |             review            | rating |\n",
       "+-------------------------+-------------------------------+--------+\n",
       "| Baby Trend Diaper Champ | I LOVE LOVE LOVE this prod... |  4.0   |\n",
       "| Baby Trend Diaper Champ | I received my Diaper Champ... |  5.0   |\n",
       "| Baby Trend Diaper Champ | Love it, love it, love it!... |  5.0   |\n",
       "| Baby Trend Diaper Champ | Let me just say, I LOVE TH... |  5.0   |\n",
       "| Baby Trend Diaper Champ | I love this diaper pale an... |  5.0   |\n",
       "| Baby Trend Diaper Champ | Works great - no smells.  ... |  5.0   |\n",
       "| Baby Trend Diaper Champ | I have been using this dia... |  5.0   |\n",
       "| Baby Trend Diaper Champ | Love the Diaper Champ.  I ... |  4.0   |\n",
       "| Baby Trend Diaper Champ | I have a two-year-old son ... |  5.0   |\n",
       "| Baby Trend Diaper Champ | I have a 10 year old daugh... |  5.0   |\n",
       "+-------------------------+-------------------------------+--------+\n",
       "+-------------------------------+-----------+---------------------+---------+\n",
       "|           word_count          | sentiment | predicted_sentiment | awesome |\n",
       "+-------------------------------+-----------+---------------------+---------+\n",
       "| {'sorry': 1.0, 'be': 1.0, ... |     1     |  0.9999819570853408 |   0.0   |\n",
       "| {'second': 2.0, 'have': 1.... |     1     |  0.9998471415804355 |   0.0   |\n",
       "| {'parents': 1.0, 'new': 1.... |     1     |  0.6950301111572513 |   0.0   |\n",
       "| {'fantastic': 1.0, 'over':... |     1     |  0.9999999944395654 |   0.0   |\n",
       "| {'easy': 1.0, 'how': 1.0, ... |     1     |  0.9934809042547419 |   0.0   |\n",
       "| {'plastic': 1.0, 'in': 1.0... |     1     |  0.9995504494190269 |   0.0   |\n",
       "| {'recommend': 1.0, 'would'... |     1     |  0.9999999926714168 |   0.0   |\n",
       "| {'want': 1.0, 'wouldn': 1.... |     1     |  0.9997484045054668 |   0.0   |\n",
       "| {'close': 1.0, 'sticky': 1... |     1     |  0.8102910204439611 |   0.0   |\n",
       "| {'sorry': 1.0, 'be': 1.0, ... |     1     |  0.999999998056851  |   0.0   |\n",
       "+-------------------------------+-----------+---------------------+---------+\n",
       "+-------+-----------+---------+------+----------+-----+----------+-------+-----+\n",
       "| great | fantastic | amazing | love | horrible | bad | terrible | awful | wow |\n",
       "+-------+-----------+---------+------+----------+-----+----------+-------+-----+\n",
       "|  1.0  |    0.0    |   0.0   | 3.0  |   0.0    | 0.0 |   0.0    |  0.0  | 0.0 |\n",
       "|  0.0  |    0.0    |   0.0   | 3.0  |   0.0    | 0.0 |   0.0    |  0.0  | 0.0 |\n",
       "|  0.0  |    0.0    |   0.0   | 3.0  |   0.0    | 0.0 |   0.0    |  0.0  | 0.0 |\n",
       "|  1.0  |    1.0    |   0.0   | 1.0  |   0.0    | 0.0 |   0.0    |  0.0  | 0.0 |\n",
       "|  2.0  |    0.0    |   0.0   | 1.0  |   0.0    | 0.0 |   0.0    |  0.0  | 0.0 |\n",
       "|  2.0  |    0.0    |   0.0   | 1.0  |   0.0    | 0.0 |   0.0    |  0.0  | 0.0 |\n",
       "|  2.0  |    0.0    |   0.0   | 1.0  |   0.0    | 0.0 |   0.0    |  0.0  | 0.0 |\n",
       "|  0.0  |    0.0    |   0.0   | 2.0  |   0.0    | 0.0 |   0.0    |  0.0  | 0.0 |\n",
       "|  0.0  |    0.0    |   0.0   | 2.0  |   0.0    | 0.0 |   0.0    |  0.0  | 0.0 |\n",
       "|  0.0  |    0.0    |   0.0   | 2.0  |   0.0    | 0.0 |   0.0    |  0.0  | 0.0 |\n",
       "+-------+-----------+---------+------+----------+-----+----------+-------+-----+\n",
       "+------+----------------------+\n",
       "| hate | predicted_sentiment2 |\n",
       "+------+----------------------+\n",
       "| 0.0  |  0.9981253623335121  |\n",
       "| 0.0  |  0.9955677154227357  |\n",
       "| 0.0  |  0.9955677154227357  |\n",
       "| 0.0  |  0.988395964994454   |\n",
       "| 0.0  |  0.9881322423088141  |\n",
       "| 0.0  |  0.9881322423088141  |\n",
       "| 0.0  |  0.9881322423088141  |\n",
       "| 0.0  |  0.9829620803909052  |\n",
       "| 0.0  |  0.9829620803909052  |\n",
       "| 0.0  |  0.9829620803909052  |\n",
       "+------+----------------------+\n",
       "[298 rows x 18 columns]\n",
       "Note: Only the head of the SFrame is printed.\n",
       "You can use print_rows(num_rows=m, num_columns=n) to print more rows and columns."
      ]
     },
     "execution_count": 76,
     "metadata": {},
     "output_type": "execute_result"
    }
   ],
   "source": [
    "baby_trend"
   ]
  },
  {
   "cell_type": "code",
   "execution_count": null,
   "metadata": {},
   "outputs": [],
   "source": []
  }
 ],
 "metadata": {
  "kernelspec": {
   "display_name": "Python 3",
   "language": "python",
   "name": "python3"
  },
  "language_info": {
   "codemirror_mode": {
    "name": "ipython",
    "version": 3
   },
   "file_extension": ".py",
   "mimetype": "text/x-python",
   "name": "python",
   "nbconvert_exporter": "python",
   "pygments_lexer": "ipython3",
   "version": "3.8.5"
  }
 },
 "nbformat": 4,
 "nbformat_minor": 4
}
